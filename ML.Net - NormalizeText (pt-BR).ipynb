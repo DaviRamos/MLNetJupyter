{
 "cells": [
  {
   "cell_type": "markdown",
   "metadata": {},
   "source": [
    "# ML.Net - NormalizeText (pt-BR)"
   ]
  },
  {
   "cell_type": "code",
   "execution_count": 5,
   "metadata": {},
   "outputs": [],
   "source": [
    "// ML.NET Nuget packages installation\n",
    "#r \"nuget:Microsoft.ML\" "
   ]
  },
  {
   "cell_type": "markdown",
   "metadata": {},
   "source": [
    "## Using C# Class"
   ]
  },
  {
   "cell_type": "code",
   "execution_count": 6,
   "metadata": {
    "scrolled": true
   },
   "outputs": [],
   "source": [
    "using Microsoft.ML;\n",
    "using Microsoft.ML.Data;\n",
    "using System;\n",
    "using System.Collections.Generic;"
   ]
  },
  {
   "cell_type": "markdown",
   "metadata": {},
   "source": [
    "## Declare data-classes for input data and predictions"
   ]
  },
  {
   "cell_type": "code",
   "execution_count": 7,
   "metadata": {},
   "outputs": [],
   "source": [
    "public class Output\n",
    "{\n",
    "    public string NormalizedText { get; set; }\n",
    "}\n",
    "    \n",
    "internal class Input\n",
    "{\n",
    "    public string Text { get; set; }\n",
    "}\n"
   ]
  },
  {
   "cell_type": "code",
   "execution_count": 8,
   "metadata": {},
   "outputs": [
    {
     "name": "stdout",
     "output_type": "stream",
     "text": [
      "Original text - Whisk the batter for the crêpe, then let it sit for 5 minutes.\n",
      "\n",
      "\n",
      "Normalized text - whisk the batter for the crepe then let it sit for 5 minutes\n"
     ]
    }
   ],
   "source": [
    "var context = new MLContext();\n",
    "\n",
    "var emptyData = context.Data.LoadFromEnumerable(new List<Input>());\n",
    "\n",
    "var normalizedPipeline = context.Transforms.Text.NormalizeText(\"NormalizedText\", \"Text\",    \n",
    "    Microsoft.ML.Transforms.Text.TextNormalizingEstimator.CaseMode.Lower, keepDiacritics: false, keepPunctuations: false, keepNumbers: true);\n",
    "\n",
    "var normalizeTransformer = normalizedPipeline.Fit(emptyData);\n",
    "\n",
    "var predictionEngine = context.Model.CreatePredictionEngine<Input, Output>(normalizeTransformer);\n",
    "\n",
    "var text = new Input { Text = \"Whisk the batter for the crêpe, then let it sit for 5 minutes.\" };\n",
    "\n",
    "var normalizedText = predictionEngine.Predict(text);\n",
    "\n",
    "Console.WriteLine($\"Original text - {text.Text}\");\n",
    "Console.WriteLine(Environment.NewLine);\n",
    "Console.WriteLine($\"Normalized text - {normalizedText.NormalizedText}\");"
   ]
  },
  {
   "cell_type": "code",
   "execution_count": null,
   "metadata": {},
   "outputs": [],
   "source": []
  }
 ],
 "metadata": {
  "kernelspec": {
   "display_name": ".NET (C#)",
   "language": "C#",
   "name": ".net-csharp"
  },
  "language_info": {
   "file_extension": ".cs",
   "mimetype": "text/x-csharp",
   "name": "C#",
   "pygments_lexer": "csharp",
   "version": "8.0"
  }
 },
 "nbformat": 4,
 "nbformat_minor": 4
}
