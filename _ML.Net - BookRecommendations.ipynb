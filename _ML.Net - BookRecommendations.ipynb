{
 "cells": [
  {
   "cell_type": "markdown",
   "metadata": {},
   "source": [
    "# ML.Net - BookRecommendations"
   ]
  },
  {
   "cell_type": "code",
   "execution_count": 2,
   "metadata": {},
   "outputs": [
    {
     "data": {
      "text/plain": [
       "Installed package Microsoft.ML version 1.5.0"
      ]
     },
     "metadata": {},
     "output_type": "display_data"
    }
   ],
   "source": [
    "// ML.NET Nuget packages installation\n",
    "#r \"nuget:Microsoft.ML\""
   ]
  },
  {
   "cell_type": "code",
   "execution_count": 4,
   "metadata": {},
   "outputs": [],
   "source": [
    "using Microsoft.ML;\n",
    "using Microsoft.ML.Data;\n",
    "using Microsoft.ML.Trainers;\n",
    "using System;\n",
    "using System.Collections.Generic;\n",
    "using System.IO;\n",
    "using System.Linq;"
   ]
  },
  {
   "cell_type": "code",
   "execution_count": 5,
   "metadata": {},
   "outputs": [],
   "source": [
    "public class Book\n",
    "{\n",
    "    public int BookId { get; set; }\n",
    "    public string BookTitle { get; set; }\n",
    "    public string Author { get; set; }\n",
    "    public string Genre1 { get; set; }\n",
    "    public string Genre2 { get; set; }\n",
    "}\n",
    "\n",
    "public class BookRating\n",
    "{\n",
    "    public float Label;\n",
    "\n",
    "    public float user;\n",
    "\n",
    "    public float bookid;\n",
    "}\n",
    "\n",
    "public class BookRatingPrediction\n",
    "{\n",
    "    public float Label;\n",
    "\n",
    "    public float Score;\n",
    "}"
   ]
  },
  {
   "cell_type": "code",
   "execution_count": 6,
   "metadata": {},
   "outputs": [],
   "source": [
    "public static string dataLocation = \"./Data\";\n",
    "public static int bookPredictionId = 34941133;"
   ]
  },
  {
   "cell_type": "code",
   "execution_count": 7,
   "metadata": {},
   "outputs": [],
   "source": [
    "private static IList<Book> LoadBookData()\n",
    "{\n",
    "    var result = new List<Book>();\n",
    "\n",
    "    var reader = File.OpenRead($\"{dataLocation}/bookfeatures.csv\");\n",
    "\n",
    "    var isHeader = true;\n",
    "    var line = String.Empty;\n",
    "\n",
    "    using (var streamReader = new StreamReader(reader))\n",
    "    {\n",
    "        while(!streamReader.EndOfStream)\n",
    "        {\n",
    "            if (isHeader)\n",
    "            {\n",
    "                line = streamReader.ReadLine();\n",
    "                isHeader = false;\n",
    "            }\n",
    "\n",
    "            line = streamReader.ReadLine();\n",
    "            var data = line.Split(',');\n",
    "\n",
    "            var book = new Book\n",
    "            {\n",
    "                BookId = int.Parse(data[3].ToString()),\n",
    "                BookTitle = data[8].ToString(),\n",
    "                Author = data[1].ToString(),\n",
    "                Genre1 = data[4].ToString(),\n",
    "                Genre2 = data[5].ToString()\n",
    "            };\n",
    "\n",
    "            result.Add(book);\n",
    "        }\n",
    "    }\n",
    "\n",
    "    return result;\n",
    "}"
   ]
  },
  {
   "cell_type": "code",
   "execution_count": 8,
   "metadata": {},
   "outputs": [
    {
     "ename": "Unhandled exception",
     "evalue": "(5,53): error CS0426: O nome de tipo \"Arguments\" não existe no tipo \"TextLoader\"\r\n(10,49): error CS0117: '\"DataKind\" não contém uma definição para \"R4\"\r\n(11,48): error CS0117: '\"DataKind\" não contém uma definição para \"R4\"\r\n(12,50): error CS0117: '\"DataKind\" não contém uma definição para \"R4\"\r\n(5,27): error CS1061: ‘DataOperationsCatalog’ não contém uma definição para \"TextReader\" e não foi possível encontrar nenhum método de extensão \"TextReader\" que aceite um primeiro argumento do tipo ‘DataOperationsCatalog’ (você está se esquecendo de usar uma diretiva ou uma referência de assembly?)\r\n(18,6): error CS8130: Não é possível inferir o tipo da variável de desconstrução digitada implicitamente 'trainData'.\r\n(18,17): error CS8130: Não é possível inferir o tipo da variável de desconstrução digitada implicitamente 'testData'.\r\n(20,16): error CS1929: '\"TransformsCatalog.CategoricalTransforms\" não contém uma definição para \"MapValueToKey\" e a melhor sobrecarga do método de extensão \"ConversionsExtensionsCatalog.MapValueToKey(TransformsCatalog.ConversionTransforms, string, string, int, ValueToKeyMappingEstimator.KeyOrdinality, bool, IDataView)\" requer um receptor do tipo \"TransformsCatalog.ConversionTransforms\"\r\n(21,13): error CS1929: '\"TransformsCatalog.CategoricalTransforms\" não contém uma definição para \"MapValueToKey\" e a melhor sobrecarga do método de extensão \"ConversionsExtensionsCatalog.MapValueToKey(TransformsCatalog.ConversionTransforms, string, string, int, ValueToKeyMappingEstimator.KeyOrdinality, bool, IDataView)\" requer um receptor do tipo \"TransformsCatalog.ConversionTransforms\"\r\n(22,17): error CS0246: O nome do tipo ou do namespace \"MatrixFactorizationTrainer\" não pode ser encontrado (está faltando uma diretiva using ou uma referência de assembly?)\r\n(33,28): error CS1061: ‘TransformerChain<TNewTrans>’ não contém uma definição para \"MakePredictionFunction\" e não foi possível encontrar nenhum método de extensão \"MakePredictionFunction\" que aceite um primeiro argumento do tipo ‘TransformerChain<TNewTrans>’ (você está se esquecendo de usar uma diretiva ou uma referência de assembly?)\r\n(18,58): error CS1061: ‘BinaryClassificationCatalog’ não contém uma definição para \"TrainTestSplit\" e não foi possível encontrar nenhum método de extensão \"TrainTestSplit\" que aceite um primeiro argumento do tipo ‘BinaryClassificationCatalog’ (você está se esquecendo de usar uma diretiva ou uma referência de assembly?)\r\n(31,51): error CS1061: ‘RegressionMetrics’ não contém uma definição para \"Rms\" e não foi possível encontrar nenhum método de extensão \"Rms\" que aceite um primeiro argumento do tipo ‘RegressionMetrics’ (você está se esquecendo de usar uma diretiva ou uma referência de assembly?)",
     "output_type": "error",
     "traceback": [
      "(5,53): error CS0426: O nome de tipo \"Arguments\" não existe no tipo \"TextLoader\"\r\n(10,49): error CS0117: '\"DataKind\" não contém uma definição para \"R4\"\r\n(11,48): error CS0117: '\"DataKind\" não contém uma definição para \"R4\"\r\n(12,50): error CS0117: '\"DataKind\" não contém uma definição para \"R4\"\r\n(5,27): error CS1061: ‘DataOperationsCatalog’ não contém uma definição para \"TextReader\" e não foi possível encontrar nenhum método de extensão \"TextReader\" que aceite um primeiro argumento do tipo ‘DataOperationsCatalog’ (você está se esquecendo de usar uma diretiva ou uma referência de assembly?)\r\n(18,6): error CS8130: Não é possível inferir o tipo da variável de desconstrução digitada implicitamente 'trainData'.\r\n(18,17): error CS8130: Não é possível inferir o tipo da variável de desconstrução digitada implicitamente 'testData'.\r\n(20,16): error CS1929: '\"TransformsCatalog.CategoricalTransforms\" não contém uma definição para \"MapValueToKey\" e a melhor sobrecarga do método de extensão \"ConversionsExtensionsCatalog.MapValueToKey(TransformsCatalog.ConversionTransforms, string, string, int, ValueToKeyMappingEstimator.KeyOrdinality, bool, IDataView)\" requer um receptor do tipo \"TransformsCatalog.ConversionTransforms\"\r\n(21,13): error CS1929: '\"TransformsCatalog.CategoricalTransforms\" não contém uma definição para \"MapValueToKey\" e a melhor sobrecarga do método de extensão \"ConversionsExtensionsCatalog.MapValueToKey(TransformsCatalog.ConversionTransforms, string, string, int, ValueToKeyMappingEstimator.KeyOrdinality, bool, IDataView)\" requer um receptor do tipo \"TransformsCatalog.ConversionTransforms\"\r\n(22,17): error CS0246: O nome do tipo ou do namespace \"MatrixFactorizationTrainer\" não pode ser encontrado (está faltando uma diretiva using ou uma referência de assembly?)\r\n(33,28): error CS1061: ‘TransformerChain<TNewTrans>’ não contém uma definição para \"MakePredictionFunction\" e não foi possível encontrar nenhum método de extensão \"MakePredictionFunction\" que aceite um primeiro argumento do tipo ‘TransformerChain<TNewTrans>’ (você está se esquecendo de usar uma diretiva ou uma referência de assembly?)\r\n(18,58): error CS1061: ‘BinaryClassificationCatalog’ não contém uma definição para \"TrainTestSplit\" e não foi possível encontrar nenhum método de extensão \"TrainTestSplit\" que aceite um primeiro argumento do tipo ‘BinaryClassificationCatalog’ (você está se esquecendo de usar uma diretiva ou uma referência de assembly?)\r\n(31,51): error CS1061: ‘RegressionMetrics’ não contém uma definição para \"Rms\" e não foi possível encontrar nenhum método de extensão \"Rms\" que aceite um primeiro argumento do tipo ‘RegressionMetrics’ (você está se esquecendo de usar uma diretiva ou uma referência de assembly?)"
     ]
    }
   ],
   "source": [
    "var trainingDataPath = $\".datasets/books/ratings.csv\";\n",
    "\n",
    "var context = new MLContext();\n",
    "\n",
    "var reader = context.Data.TextReader(new TextLoader.Arguments() {\n",
    "    Separator = \",\",\n",
    "    HasHeader = true,\n",
    "    Column = new[]\n",
    "    {\n",
    "        new TextLoader.Column(\"Label\", DataKind.R4, 0),\n",
    "        new TextLoader.Column(\"user\", DataKind.R4, 1),\n",
    "        new TextLoader.Column(\"bookid\", DataKind.R4, 2),\n",
    "    }\n",
    "});\n",
    "\n",
    "IDataView data = reader.Read(trainingDataPath);\n",
    "\n",
    "var (trainData, testData) = context.BinaryClassification.TrainTestSplit(data, testFraction: 0.2);\n",
    "\n",
    "var pipeline = context.Transforms.Categorical.MapValueToKey(\"user\", \"userIdEncoded\")\n",
    "    .Append(context.Transforms.Categorical.MapValueToKey(\"bookid\", \"bookIdEncoded\"))\n",
    "    .Append(new MatrixFactorizationTrainer(context, \"Label\", \"userIdEncoded\", \"bookIdEncoded\", \n",
    "        advancedSettings: s => { s.NumIterations = 20; s.K = 100; }));\n",
    "\n",
    "Console.WriteLine(\"Training recommender\" + Environment.NewLine);\n",
    "var model = pipeline.Fit(trainData);\n",
    "\n",
    "var prediction = model.Transform(testData);\n",
    "var metrics = context.Regression.Evaluate(prediction);\n",
    "\n",
    "Console.WriteLine($\"Model metrics: RMS - {metrics.Rms} R^2 - {metrics.RSquared}\" + Environment.NewLine);\n",
    "\n",
    "var predictionFunc = model.MakePredictionFunction<BookRating, BookRatingPrediction>(context);\n",
    "\n",
    "var bookPrediction = predictionFunc.Predict(new BookRating {\n",
    "    user = 99,\n",
    "    bookid = bookPredictionId\n",
    "});\n",
    "\n",
    "var bookData = LoadBookData();\n",
    "\n",
    "Console.WriteLine($\"Predicted rating - {Math.Round(bookPrediction.Score, 1)} for book {bookData.FirstOrDefault(b => b.BookId == bookPredictionId).BookTitle}\");\n",
    "\n",
    "Console.ReadLine();"
   ]
  },
  {
   "cell_type": "code",
   "execution_count": null,
   "metadata": {},
   "outputs": [],
   "source": []
  }
 ],
 "metadata": {
  "kernelspec": {
   "display_name": ".NET (C#)",
   "language": "C#",
   "name": ".net-csharp"
  },
  "language_info": {
   "file_extension": ".cs",
   "mimetype": "text/x-csharp",
   "name": "C#",
   "pygments_lexer": "csharp",
   "version": "8.0"
  }
 },
 "nbformat": 4,
 "nbformat_minor": 4
}
