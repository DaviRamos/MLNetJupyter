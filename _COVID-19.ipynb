{
 "cells": [
  {
   "cell_type": "markdown",
   "metadata": {},
   "source": [
    "# Visualizing the Johns Hopkins COVID-19 time series data\n",
    "\n",
    "**This is a work in progress.** It doesn't work yet in [Binder](https://mybinder.org/v2/gh/dotnet/interactive/master?urlpath=lab) because it relies on HTTP communication between the kernel and the Jupyter frontend.\n",
    "\n",
    "Also, due to travel restrictions, you should run this at home on isolated compute.\n",
    "\n",
    "*And don't forget to wash your hands.*\n",
    "\n",
    "Since Johns Hopkins has put COVID-19 time series data on [GitHub](https://github.com/CSSEGISandData/COVID-19), let's take a look at it. We can download it using PowerShell:"
   ]
  },
  {
   "cell_type": "code",
   "execution_count": 1,
   "metadata": {},
   "outputs": [
    {
     "data": {
      "text/html": [
       "\r\n",
       "<div>\r\n",
       "    <div id='dotnet-interactive-this-cell-6dd444ab2b014533b54361dcca8be9e0' style='display: none'>\r\n",
       "        The below script needs to be able to find the current output cell; this is an easy method to get it.\r\n",
       "    </div>\r\n",
       "    <script type='text/javascript'>\r\n",
       "// ensure `requirejs` is available globally\r\n",
       "if (typeof requirejs !== typeof Function || typeof requirejs.config !== typeof Function) {\r\n",
       "    let requirejs_script = document.createElement('script');\r\n",
       "    requirejs_script.setAttribute('src', 'https://cdnjs.cloudflare.com/ajax/libs/require.js/2.3.6/require.min.js');\r\n",
       "    requirejs_script.setAttribute('type', 'text/javascript');\r\n",
       "    requirejs_script.onload = function () {\r\n",
       "        loadDotnetInteractiveApi();\r\n",
       "    };\r\n",
       "\r\n",
       "    document.getElementsByTagName('head')[0].appendChild(requirejs_script);\r\n",
       "}\r\n",
       "else {\r\n",
       "    loadDotnetInteractiveApi();\r\n",
       "}\r\n",
       "\r\n",
       "async function probeAddresses(probingAddresses) {\r\n",
       "    function timeout(ms, promise) {\r\n",
       "        return new Promise(function (resolve, reject) {\r\n",
       "            setTimeout(function () {\r\n",
       "                reject(new Error('timeout'))\r\n",
       "            }, ms)\r\n",
       "            promise.then(resolve, reject)\r\n",
       "        })\r\n",
       "    }\r\n",
       "\r\n",
       "    if (Array.isArray(probingAddresses)) {\r\n",
       "        for (let i = 0; i < probingAddresses.length; i++) {\r\n",
       "\r\n",
       "            let rootUrl = probingAddresses[i];\r\n",
       "\r\n",
       "            if (!rootUrl.endsWith('/')) {\r\n",
       "                rootUrl = `${rootUrl}/`;\r\n",
       "            }\r\n",
       "\r\n",
       "            try {\r\n",
       "                let response = await timeout(1000, fetch(`${rootUrl}discovery`, {\r\n",
       "                    method: 'POST',\r\n",
       "                    timeout: 1000,\r\n",
       "                    headers: {\r\n",
       "                        'Content-Type': 'text/plain'\r\n",
       "                    },\r\n",
       "                    body: probingAddresses[i]\r\n",
       "                }));\r\n",
       "\r\n",
       "                if (response.status == 200) {\r\n",
       "                    return rootUrl;\r\n",
       "                }\r\n",
       "            }\r\n",
       "            catch (e) { }\r\n",
       "        }\r\n",
       "    }\r\n",
       "}\r\n",
       "\r\n",
       "function loadDotnetInteractiveApi() {\r\n",
       "    probeAddresses([\"http://172.18.128.1:1013/\", \"http://10.0.0.101:1013/\", \"http://172.21.192.1:1013/\", \"http://127.0.0.1:1013/\"])\r\n",
       "        .then((root) => {\r\n",
       "            // use probing to find host url and api resources\r\n",
       "            // load interactive helpers and language services\r\n",
       "            let dotnet_require = requirejs.config({\r\n",
       "                context: '17700.6dd444ab2b014533b54361dcca8be9e0',\r\n",
       "                paths: {\r\n",
       "                    'dotnet-interactive': `${root}resources`\r\n",
       "                }\r\n",
       "            });\r\n",
       "            if (!window.dotnet_require) {\r\n",
       "                window.dotnet_require = dotnet_require;\r\n",
       "            }\r\n",
       "        \r\n",
       "            dotnet_require([\r\n",
       "                    'dotnet-interactive/dotnet-interactive'\r\n",
       "                ],\r\n",
       "                function (dotnet) {\r\n",
       "                    dotnet.init(window);\r\n",
       "                },\r\n",
       "                function (error) {\r\n",
       "                    console.log(error);\r\n",
       "                }\r\n",
       "            );\r\n",
       "        })\r\n",
       "        .catch(error => {console.log(error);});\r\n",
       "    }\r\n",
       "    </script>\r\n",
       "</div>"
      ]
     },
     "metadata": {},
     "output_type": "display_data"
    },
    {
     "data": {
      "text/plain": []
     },
     "metadata": {},
     "output_type": "display_data"
    }
   ],
   "source": [
    "#!pwsh\n",
    "Invoke-WebRequest -Uri \"https://raw.githubusercontent.com/CSSEGISandData/COVID-19/master/csse_covid_19_data/csse_covid_19_time_series/time_series_covid19_confirmed_global.csv\" -OutFile \"./Confirmed.csv\"\n",
    "Invoke-WebRequest -Uri \"https://raw.githubusercontent.com/CSSEGISandData/COVID-19/master/csse_covid_19_data/csse_covid_19_time_series/time_series_covid19_deaths_global.csv\" -OutFile \"./Deaths.csv\"\n",
    "Invoke-WebRequest -Uri \"https://raw.githubusercontent.com/CSSEGISandData/COVID-19/master/csse_covid_19_data/csse_covid_19_time_series/time_series_covid19_recovered_global.csv\" -OutFile \"./Recovered.csv\""
   ]
  },
  {
   "cell_type": "markdown",
   "metadata": {},
   "source": [
    "It needs a little cleaning up:"
   ]
  },
  {
   "cell_type": "code",
   "execution_count": 2,
   "metadata": {},
   "outputs": [],
   "source": [
    "using System.IO;\n",
    "using System.Text.RegularExpressions;"
   ]
  },
  {
   "cell_type": "code",
   "execution_count": 3,
   "metadata": {},
   "outputs": [
    {
     "data": {
      "text/plain": [
       "All cleaned up!"
      ]
     },
     "execution_count": 3,
     "metadata": {},
     "output_type": "execute_result"
    }
   ],
   "source": [
    "void Clean(string filePath)\n",
    "{\n",
    "    var raw = File.ReadAllText(filePath);\n",
    "    var regex = new Regex(\"\\\\\\\"(.*?)\\\\\\\"\");\n",
    "    var cleaned = regex.Replace(raw, m => m.Value.Replace(\",\", \" in \"));  \n",
    "    File.WriteAllText(filePath, cleaned);\n",
    "}\n",
    "\n",
    "\n",
    "Clean(\"Confirmed.csv\");\n",
    "Clean(\"Deaths.csv\");\n",
    "Clean(\"Recovered.csv\");\n",
    "\n",
    "\"All cleaned up!\""
   ]
  },
  {
   "cell_type": "markdown",
   "metadata": {},
   "source": [
    "Next, let's load it into a data frame."
   ]
  },
  {
   "cell_type": "code",
   "execution_count": 4,
   "metadata": {},
   "outputs": [
    {
     "data": {
      "text/plain": [
       "Installed package Microsoft.Data.Analysis version 0.2.0"
      ]
     },
     "metadata": {},
     "output_type": "display_data"
    }
   ],
   "source": [
    "#r \"nuget:Microsoft.Data.Analysis,0.2.0\""
   ]
  },
  {
   "cell_type": "code",
   "execution_count": 5,
   "metadata": {},
   "outputs": [
    {
     "data": {
      "text/plain": [
       "Ready."
      ]
     },
     "metadata": {},
     "output_type": "display_data"
    }
   ],
   "source": [
    "using Microsoft.Data.Analysis;\n",
    "\n",
    "var deaths = DataFrame.LoadCsv(\"./Deaths.csv\");\n",
    "var confirmed = DataFrame.LoadCsv(\"./Confirmed.csv\");\n",
    "var recovered = DataFrame.LoadCsv(\"./Recovered.csv\");\n",
    "var displayedValue = display(\"Processing data\");\n",
    "var offset = 4;\n",
    "var series = new List<object>();\n",
    "for(var i = offset; i <  deaths.Columns.Count; i++){\n",
    "    await Task.Delay(100);\n",
    "    var date = deaths.Columns[i].Name;\n",
    "    var deathFiltered = deaths[deaths.Columns[i].ElementwiseNotEquals(0)];\n",
    "    var confirmedFiltered = confirmed[confirmed.Columns[i].ElementwiseNotEquals(0)];\n",
    "    var recoveredFiltered = recovered[recovered.Columns[i].ElementwiseNotEquals(0)];\n",
    "\n",
    "    displayedValue.Update($\"processing {date}\");\n",
    "    series.Add(new {\n",
    "        date = date,\n",
    "        deathsSeries = new {\n",
    "            latitude = deathFiltered[\"Lat\"],\n",
    "            longitude = deathFiltered[\"Long\"],\n",
    "            data = deathFiltered.Columns[i]\n",
    "        },\n",
    "        confirmedSeries = new {\n",
    "            latitude = confirmedFiltered[\"Lat\"],\n",
    "            longitude = confirmedFiltered[\"Long\"],\n",
    "            data = confirmedFiltered.Columns[i]\n",
    "        },\n",
    "        recoveredSeries = new {\n",
    "            latitude = recoveredFiltered[\"Lat\"],\n",
    "            longitude = recoveredFiltered[\"Long\"],\n",
    "            data = recoveredFiltered.Columns[i]\n",
    "        }\n",
    "    });\n",
    "}\n",
    "\n",
    "displayedValue.Update(\"Ready.\");"
   ]
  },
  {
   "cell_type": "markdown",
   "metadata": {},
   "source": [
    "Because we've stored our data in top-level variables (`deathsSeries`, `confirmedSeries`, `recoveredSeries`, etc.) in the C# kernel, they're accessible from JavaScript by calling `interactive.csharp.getVariable`. The data will be returned as JSON and we can plot it using the library of our choice, pulled in using [RequireJS](https://requirejs.org/). \n",
    "\n",
    "We'll use [Plotly](https://plot.ly/)."
   ]
  },
  {
   "cell_type": "markdown",
   "metadata": {},
   "source": [
    "# Inserir Xplot"
   ]
  },
  {
   "cell_type": "code",
   "execution_count": null,
   "metadata": {},
   "outputs": [],
   "source": []
  },
  {
   "cell_type": "code",
   "execution_count": 9,
   "metadata": {},
   "outputs": [
    {
     "data": {
      "text/html": [
       "<script type=\"text/javascript\">if (typeof window.createDotnetInteractiveClient === typeof Function) {\r\n",
       "createDotnetInteractiveClient('http://172.18.128.1:1013/').then(function (interactive) {\r\n",
       "let notebookScope = getDotnetInteractiveScope('http://172.18.128.1:1013/');\r\n",
       "notebookScope.plot = function (plotTarget) {\n",
       "    let loadPlotly = getJsLoader({\n",
       "        context: \"COVID\",\n",
       "        paths: {\n",
       "            plotly: \"https://cdn.plot.ly/plotly-latest.min\"\n",
       "        }\n",
       "    });\n",
       "    \n",
       "    loadPlotly([\"plotly\"], (Plotly) => {\n",
       "        if (typeof (notebookScope.updateInterval) !== 'undefined') {\n",
       "            clearInterval(notebookScope.updateInterval);\n",
       "        }\n",
       "\n",
       "        let index = 0;\n",
       "\n",
       "        if (typeof (document.getElementById(plotTarget)) !== 'undefined') {\n",
       "            interactive.csharp.getVariable(\"series\")\n",
       "                .then(series => {\n",
       "                    var { deathsSeries, confirmedSeries, recoveredSeries,  date } = series[index];\n",
       "                    var recovered = {\n",
       "                        name: \"Recovered\",\n",
       "                        type: \"scattergeo\",\n",
       "                        mode: \"markers\",\n",
       "                        geo: \"geo\",\n",
       "                        lat: recoveredSeries.latitude,\n",
       "                        lon: recoveredSeries.longitude,\n",
       "                        text: recoveredSeries.data,\n",
       "                        marker: {\n",
       "                            symbol: \"square\",\n",
       "                            color: \"Green\"\n",
       "                        }\n",
       "                    };\n",
       "\n",
       "                    var deaths = {\n",
       "                        name: \"Fatal\",\n",
       "                        type: \"scattergeo\",\n",
       "                        geo: \"geo2\",\n",
       "                        mode: \"markers\",\n",
       "                        lat: deathsSeries.latitude,\n",
       "                        lon: deathsSeries.longitude,\n",
       "                        text: deathsSeries.data,\n",
       "                        marker: {\n",
       "                            symbol: \"circle\",\n",
       "                            color: \"Black\"\n",
       "                        }\n",
       "                    };\n",
       "\n",
       "                    var confirmed = {\n",
       "                        name: \"Total confirmed\",\n",
       "                        type: \"scattergeo\",\n",
       "                        geo: \"geo3\",\n",
       "                        mode: \"markers\",\n",
       "                        lat: confirmedSeries.latitude,\n",
       "                        lon: confirmedSeries.longitude,\n",
       "                        text: confirmedSeries.data,\n",
       "                        marker: {\n",
       "                            symbol: \"diamond\",\n",
       "                            color: \"#DC7633\"\n",
       "                        }\n",
       "                    };\n",
       "                  \n",
       "\n",
       "                    var traces = [recovered, deaths, confirmed];\n",
       "\n",
       "                    var layout = {\n",
       "                        title: \"COVID-19 cases (\" + date + \")\",\n",
       "                        grid: { columns: 3, rows: 1 },\n",
       "                        geo: {\n",
       "                            scope: \"world\",\n",
       "                            showland: true,\n",
       "                            showcountries: true,\n",
       "                            bgcolor: \"rgb(90,90,90)\",\n",
       "                            landcolor: \"rgb(250,250,250)\",\n",
       "                            domain: {\n",
       "                                row: 0,\n",
       "                                column: 0\n",
       "                            }\n",
       "                        },\n",
       "                        geo2: {\n",
       "                            scope: \"world\",\n",
       "                            showland: true,\n",
       "                            showcountries: true,\n",
       "                            bgcolor: \"rgb(90,90,90)\",\n",
       "                            landcolor: \"rgb(250,250,250)\",\n",
       "                            domain: {\n",
       "                                row: 0,\n",
       "                                column: 1\n",
       "                            }\n",
       "                        },\n",
       "                        geo3: {\n",
       "                            scope: \"world\",\n",
       "                            showland: true,\n",
       "                            showcountries: true,\n",
       "                            bgcolor: \"rgb(90,90,90)\",\n",
       "                            landcolor: \"rgb(250,250,250)\",\n",
       "                            domain: {\n",
       "                                row: 0,\n",
       "                                column: 2\n",
       "                            }\n",
       "                        }\n",
       "                    };\n",
       "                    if (typeof (document.getElementById(plotTarget)) !== 'undefined') {\n",
       "                        Plotly.newPlot(plotTarget, traces, layout);\n",
       "                    }\n",
       "                    let updateCovidPlot = () => {\n",
       "                        if (typeof (document.getElementById(plotTarget)) !== 'undefined') {\n",
       "                            index++;\n",
       "                            if (index === series.length) {\n",
       "                                clearInterval(notebookScope.updateInterval);\n",
       "                                return;\n",
       "                            }\n",
       "                            var { deathsSeries, confirmedSeries, recoveredSeries, currentSeries, date } = series[index];\n",
       "                            Plotly.animate(\"plotlyChartCovid\", {\n",
       "                                data: [\n",
       "                                    {\n",
       "                                        lat: recoveredSeries.latitude,\n",
       "                                        lon: recoveredSeries.longitude,\n",
       "                                        text: recoveredSeries.data\n",
       "                                    },\n",
       "                                    {\n",
       "                                        lat: deathsSeries.latitude,\n",
       "                                        lon: deathsSeries.longitude,\n",
       "                                        text: deathsSeries.data\n",
       "                                    },\n",
       "                                    {\n",
       "                                        lat: confirmedSeries.latitude,\n",
       "                                        lon: confirmedSeries.longitude,\n",
       "                                        text: confirmedSeries.data\n",
       "                                    }],\n",
       "                                layout: {\n",
       "                                    title: \"COVID-19 \" + date\n",
       "                                }\n",
       "                            });\n",
       "                        }\n",
       "                    }\n",
       "                    notebookScope.updateInterval = setInterval(() => updateCovidPlot(), 250);\n",
       "                });\n",
       "        }\n",
       "    });\n",
       "};\r\n",
       "});\r\n",
       "}</script>"
      ]
     },
     "metadata": {},
     "output_type": "display_data"
    }
   ],
   "source": [
    "#!js\n",
    "notebookScope.plot = function (plotTarget) {\n",
    "    let loadPlotly = getJsLoader({\n",
    "        context: \"COVID\",\n",
    "        paths: {\n",
    "            plotly: \"https://cdn.plot.ly/plotly-latest.min\"\n",
    "        }\n",
    "    });\n",
    "    \n",
    "    loadPlotly([\"plotly\"], (Plotly) => {\n",
    "        if (typeof (notebookScope.updateInterval) !== 'undefined') {\n",
    "            clearInterval(notebookScope.updateInterval);\n",
    "        }\n",
    "\n",
    "        let index = 0;\n",
    "\n",
    "        if (typeof (document.getElementById(plotTarget)) !== 'undefined') {\n",
    "            interactive.csharp.getVariable(\"series\")\n",
    "                .then(series => {\n",
    "                    var { deathsSeries, confirmedSeries, recoveredSeries,  date } = series[index];\n",
    "                    var recovered = {\n",
    "                        name: \"Recovered\",\n",
    "                        type: \"scattergeo\",\n",
    "                        mode: \"markers\",\n",
    "                        geo: \"geo\",\n",
    "                        lat: recoveredSeries.latitude,\n",
    "                        lon: recoveredSeries.longitude,\n",
    "                        text: recoveredSeries.data,\n",
    "                        marker: {\n",
    "                            symbol: \"square\",\n",
    "                            color: \"Green\"\n",
    "                        }\n",
    "                    };\n",
    "\n",
    "                    var deaths = {\n",
    "                        name: \"Fatal\",\n",
    "                        type: \"scattergeo\",\n",
    "                        geo: \"geo2\",\n",
    "                        mode: \"markers\",\n",
    "                        lat: deathsSeries.latitude,\n",
    "                        lon: deathsSeries.longitude,\n",
    "                        text: deathsSeries.data,\n",
    "                        marker: {\n",
    "                            symbol: \"circle\",\n",
    "                            color: \"Black\"\n",
    "                        }\n",
    "                    };\n",
    "\n",
    "                    var confirmed = {\n",
    "                        name: \"Total confirmed\",\n",
    "                        type: \"scattergeo\",\n",
    "                        geo: \"geo3\",\n",
    "                        mode: \"markers\",\n",
    "                        lat: confirmedSeries.latitude,\n",
    "                        lon: confirmedSeries.longitude,\n",
    "                        text: confirmedSeries.data,\n",
    "                        marker: {\n",
    "                            symbol: \"diamond\",\n",
    "                            color: \"#DC7633\"\n",
    "                        }\n",
    "                    };\n",
    "                  \n",
    "\n",
    "                    var traces = [recovered, deaths, confirmed];\n",
    "\n",
    "                    var layout = {\n",
    "                        title: \"COVID-19 cases (\" + date + \")\",\n",
    "                        grid: { columns: 3, rows: 1 },\n",
    "                        geo: {\n",
    "                            scope: \"world\",\n",
    "                            showland: true,\n",
    "                            showcountries: true,\n",
    "                            bgcolor: \"rgb(90,90,90)\",\n",
    "                            landcolor: \"rgb(250,250,250)\",\n",
    "                            domain: {\n",
    "                                row: 0,\n",
    "                                column: 0\n",
    "                            }\n",
    "                        },\n",
    "                        geo2: {\n",
    "                            scope: \"world\",\n",
    "                            showland: true,\n",
    "                            showcountries: true,\n",
    "                            bgcolor: \"rgb(90,90,90)\",\n",
    "                            landcolor: \"rgb(250,250,250)\",\n",
    "                            domain: {\n",
    "                                row: 0,\n",
    "                                column: 1\n",
    "                            }\n",
    "                        },\n",
    "                        geo3: {\n",
    "                            scope: \"world\",\n",
    "                            showland: true,\n",
    "                            showcountries: true,\n",
    "                            bgcolor: \"rgb(90,90,90)\",\n",
    "                            landcolor: \"rgb(250,250,250)\",\n",
    "                            domain: {\n",
    "                                row: 0,\n",
    "                                column: 2\n",
    "                            }\n",
    "                        }\n",
    "                    };\n",
    "                    if (typeof (document.getElementById(plotTarget)) !== 'undefined') {\n",
    "                        Plotly.newPlot(plotTarget, traces, layout);\n",
    "                    }\n",
    "                    let updateCovidPlot = () => {\n",
    "                        if (typeof (document.getElementById(plotTarget)) !== 'undefined') {\n",
    "                            index++;\n",
    "                            if (index === series.length) {\n",
    "                                clearInterval(notebookScope.updateInterval);\n",
    "                                return;\n",
    "                            }\n",
    "                            var { deathsSeries, confirmedSeries, recoveredSeries, currentSeries, date } = series[index];\n",
    "                            Plotly.animate(\"plotlyChartCovid\", {\n",
    "                                data: [\n",
    "                                    {\n",
    "                                        lat: recoveredSeries.latitude,\n",
    "                                        lon: recoveredSeries.longitude,\n",
    "                                        text: recoveredSeries.data\n",
    "                                    },\n",
    "                                    {\n",
    "                                        lat: deathsSeries.latitude,\n",
    "                                        lon: deathsSeries.longitude,\n",
    "                                        text: deathsSeries.data\n",
    "                                    },\n",
    "                                    {\n",
    "                                        lat: confirmedSeries.latitude,\n",
    "                                        lon: confirmedSeries.longitude,\n",
    "                                        text: confirmedSeries.data\n",
    "                                    }],\n",
    "                                layout: {\n",
    "                                    title: \"COVID-19 \" + date\n",
    "                                }\n",
    "                            });\n",
    "                        }\n",
    "                    }\n",
    "                    notebookScope.updateInterval = setInterval(() => updateCovidPlot(), 250);\n",
    "                });\n",
    "        }\n",
    "    });\n",
    "};"
   ]
  },
  {
   "cell_type": "markdown",
   "metadata": {},
   "source": [
    "Notice the `setInterval` call near the end of the previous cell. This rechecks the data in the kernel and updates the plot.\n",
    "\n",
    "Back on the kernel, we can now update the data so that the kernel can see it.\n",
    "\n",
    "Yes, this is a contrived example, and we're planning to support true streaming data, but it's a start."
   ]
  },
  {
   "cell_type": "code",
   "execution_count": 10,
   "metadata": {},
   "outputs": [
    {
     "data": {
      "text/html": [
       "<div id=\"plotlyChartCovid\"></div>\n",
       "\n"
      ]
     },
     "metadata": {},
     "output_type": "display_data"
    },
    {
     "data": {
      "text/html": [
       "<script type=\"text/javascript\">if (typeof window.createDotnetInteractiveClient === typeof Function) {\r\n",
       "createDotnetInteractiveClient('http://172.18.128.1:1013/').then(function (interactive) {\r\n",
       "let notebookScope = getDotnetInteractiveScope('http://172.18.128.1:1013/');\r\n",
       "notebookScope.plot(\"plotlyChartCovid\");\r\n",
       "});\r\n",
       "}</script>"
      ]
     },
     "metadata": {},
     "output_type": "display_data"
    }
   ],
   "source": [
    "#!html\n",
    "<div id=\"plotlyChartCovid\"></div>\n",
    "\n",
    "#!js\n",
    "notebookScope.plot(\"plotlyChartCovid\");"
   ]
  },
  {
   "cell_type": "code",
   "execution_count": 8,
   "metadata": {},
   "outputs": [
    {
     "data": {
      "text/html": [
       "<table><tbody><tr><td><img src=\"https://raw.githubusercontent.com/dotnet/swag/master/netlogo/small-200x198/pngs/msft.net_small_purple.png\" width=\"125em\"></img></td><td style=\"line-height:.8em\"><p style=\"font-size:1.5em\"><b>.NET Interactive</b></p><p>&#169; 2020 Microsoft Corporation</p><p><b>Version: </b>1.0.126201+cf22cf1b88af8b62e07b83b4325d171a1e4c806a</p><p><b>Build date: </b>2020-05-13T15:02:41.9639065Z</p><p><a href=\"https://github.com/dotnet/interactive\">https://github.com/dotnet/interactive</a></p></td></tr></tbody></table>"
      ]
     },
     "metadata": {},
     "output_type": "display_data"
    }
   ],
   "source": [
    "#!about"
   ]
  },
  {
   "cell_type": "code",
   "execution_count": null,
   "metadata": {},
   "outputs": [],
   "source": []
  }
 ],
 "metadata": {
  "kernelspec": {
   "display_name": ".NET (C#)",
   "language": "C#",
   "name": ".net-csharp"
  },
  "language_info": {
   "file_extension": ".cs",
   "mimetype": "text/x-csharp",
   "name": "C#",
   "pygments_lexer": "csharp",
   "version": "8.0"
  }
 },
 "nbformat": 4,
 "nbformat_minor": 4
}
