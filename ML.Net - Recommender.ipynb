{
 "cells": [
  {
   "cell_type": "markdown",
   "metadata": {},
   "source": [
    "# ML.Net - Recommender"
   ]
  },
  {
   "cell_type": "code",
   "execution_count": 10,
   "metadata": {},
   "outputs": [],
   "source": [
    "// ML.NET Nuget packages installation\n",
    "#r \"nuget:Microsoft.ML\"\n",
    "#r \"nuget:Microsoft.ML.Recommender\""
   ]
  },
  {
   "cell_type": "code",
   "execution_count": 11,
   "metadata": {},
   "outputs": [],
   "source": [
    "using System;\n",
    "using System.IO;\n",
    "using Microsoft.ML;\n",
    "using Microsoft.ML.Data;\n",
    "using Microsoft.ML.Trainers;"
   ]
  },
  {
   "cell_type": "code",
   "execution_count": 12,
   "metadata": {},
   "outputs": [],
   "source": [
    "public class MovieRating\n",
    "{\n",
    "    [LoadColumn(0)]\n",
    "    public float userId;\n",
    "    [LoadColumn(1)]\n",
    "    public float movieId;\n",
    "    [LoadColumn(2)]\n",
    "    public float Label;\n",
    "}\n",
    "\n",
    "public class MovieRatingPrediction\n",
    "{\n",
    "    public float Label;\n",
    "    public float Score;\n",
    "}"
   ]
  },
  {
   "cell_type": "code",
   "execution_count": 13,
   "metadata": {},
   "outputs": [],
   "source": [
    "// Load data\n",
    "public static (IDataView training, IDataView test) LoadData(MLContext mlContext)\n",
    "{\n",
    "    // Load training & test datasets using datapaths\n",
    "    var trainingDataPath = Path.Combine(Environment.CurrentDirectory, \"Datasets\\\\Movies_Data\", \"recommendation-ratings-train.csv\");\n",
    "    var testDataPath = Path.Combine(Environment.CurrentDirectory, \"Datasets\\\\Movies_Data\", \"recommendation-ratings-test.csv\");\n",
    "\n",
    "    IDataView trainingDataView = mlContext.Data.LoadFromTextFile<MovieRating>(trainingDataPath, hasHeader: true, separatorChar: ',');\n",
    "    IDataView testDataView = mlContext.Data.LoadFromTextFile<MovieRating>(testDataPath, hasHeader: true, separatorChar: ',');\n",
    "\n",
    "    return (trainingDataView, testDataView);\n",
    "}"
   ]
  },
  {
   "cell_type": "code",
   "execution_count": 14,
   "metadata": {},
   "outputs": [],
   "source": [
    "// Build and train model\n",
    "public static ITransformer BuildAndTrainModel(MLContext mlContext, IDataView trainingDataView)\n",
    "{\n",
    "    // Add data transformations\n",
    "    IEstimator<ITransformer> estimator = mlContext.Transforms.Conversion.MapValueToKey(outputColumnName: \"userIdEncoded\", inputColumnName: \"userId\")\n",
    "        .Append(mlContext.Transforms.Conversion.MapValueToKey(outputColumnName: \"movieIdEncoded\", inputColumnName: \"movieId\"));\n",
    "\n",
    "    // Set algorithm options and append algorithm\n",
    "\n",
    "    var options = new MatrixFactorizationTrainer.Options\n",
    "    {\n",
    "        MatrixColumnIndexColumnName = \"userIdEncoded\",\n",
    "        MatrixRowIndexColumnName = \"movieIdEncoded\", \n",
    "        LabelColumnName = \"Label\",\n",
    "        NumberOfIterations = 20,\n",
    "        ApproximationRank = 100\n",
    "    };\n",
    "    \n",
    "    var trainerEstimator = estimator.Append(mlContext.Recommendation().Trainers.MatrixFactorization(options));\n",
    "\n",
    "    Console.WriteLine(\"=============== Training the model ===============\");\n",
    "    ITransformer model = trainerEstimator.Fit(trainingDataView);\n",
    "\n",
    "    return model;\n",
    "}"
   ]
  },
  {
   "cell_type": "code",
   "execution_count": 15,
   "metadata": {},
   "outputs": [],
   "source": [
    "// Evaluate model\n",
    "public static void EvaluateModel(MLContext mlContext, IDataView testDataView, ITransformer model)\n",
    "{\n",
    "    // Evaluate model on test data & print evaluation metrics\n",
    "    Console.WriteLine(\"=============== Evaluating the model ===============\");\n",
    "    var prediction = model.Transform(testDataView);\n",
    "\n",
    "    var metrics = mlContext.Regression.Evaluate(prediction, labelColumnName: \"Label\", scoreColumnName: \"Score\");\n",
    "\n",
    "    Console.WriteLine(\"Root Mean Squared Error : \" + metrics.RootMeanSquaredError.ToString());\n",
    "    Console.WriteLine(\"RSquared: \" + metrics.RSquared.ToString());\n",
    "}"
   ]
  },
  {
   "cell_type": "code",
   "execution_count": 16,
   "metadata": {},
   "outputs": [],
   "source": [
    "public static void UseModelForSinglePrediction(MLContext mlContext, ITransformer model)\n",
    "{\n",
    "    Console.WriteLine(\"=============== Making a prediction ===============\");\n",
    "    var predictionEngine = mlContext.Model.CreatePredictionEngine<MovieRating, MovieRatingPrediction>(model);\n",
    "\n",
    "    // Create test input & make single prediction\n",
    "    var testInput = new MovieRating { userId = 6, movieId = 10 };\n",
    "\n",
    "    var movieRatingPrediction = predictionEngine.Predict(testInput);\n",
    "\n",
    "    if (Math.Round(movieRatingPrediction.Score, 1) > 3.5)\n",
    "    {\n",
    "        Console.WriteLine(\"Movie \" + testInput.movieId + \" is recommended for user \" + testInput.userId);\n",
    "    }\n",
    "    else\n",
    "    {\n",
    "        Console.WriteLine(\"Movie \" + testInput.movieId + \" is not recommended for user \" + testInput.userId);\n",
    "    }\n",
    "}"
   ]
  },
  {
   "cell_type": "code",
   "execution_count": 17,
   "metadata": {},
   "outputs": [],
   "source": [
    "//Save model\n",
    "public static void SaveModel(MLContext mlContext, DataViewSchema trainingDataViewSchema, ITransformer model)\n",
    "{\n",
    "    // Save the trained model to .zip file\n",
    "    var modelPath = Path.Combine(Environment.CurrentDirectory, \"Datasets\\\\Movies_Data\", \"MovieRecommenderModel.zip\");\n",
    "    \n",
    "    Console.WriteLine(\"=============== Saving the model to a file ===============\");\n",
    "    mlContext.Model.Save(model, trainingDataViewSchema, modelPath);\n",
    "}"
   ]
  },
  {
   "cell_type": "code",
   "execution_count": 18,
   "metadata": {},
   "outputs": [
    {
     "name": "stdout",
     "output_type": "stream",
     "text": [
      "=============== Training the model ===============\n",
      "=============== Evaluating the model ===============\n",
      "Root Mean Squared Error : 0,9963857075088528\n",
      "RSquared: 0,4097941818101922\n",
      "=============== Making a prediction ===============\n",
      "Movie 10 is recommended for user 6\n",
      "=============== Saving the model to a file ===============\n"
     ]
    }
   ],
   "source": [
    "// MLContext to be shared across the model creation workflow objects \n",
    "MLContext mlContext = new MLContext();\n",
    "\n",
    "// Load data\n",
    "(IDataView trainingDataView, IDataView testDataView) = LoadData(mlContext);\n",
    "\n",
    "// Build & train model\n",
    "ITransformer model = BuildAndTrainModel(mlContext, trainingDataView);\n",
    "\n",
    "// Evaluate quality of model\n",
    "EvaluateModel(mlContext, testDataView, model);\n",
    "\n",
    "// Use model to try a single prediction (one row of data)\n",
    "UseModelForSinglePrediction(mlContext, model);\n",
    "\n",
    "// Save model\n",
    "SaveModel(mlContext, trainingDataView.Schema, model);\n"
   ]
  },
  {
   "cell_type": "code",
   "execution_count": null,
   "metadata": {},
   "outputs": [],
   "source": []
  }
 ],
 "metadata": {
  "kernelspec": {
   "display_name": ".NET (C#)",
   "language": "C#",
   "name": ".net-csharp"
  },
  "language_info": {
   "file_extension": ".cs",
   "mimetype": "text/x-csharp",
   "name": "C#",
   "pygments_lexer": "csharp",
   "version": "8.0"
  }
 },
 "nbformat": 4,
 "nbformat_minor": 4
}
