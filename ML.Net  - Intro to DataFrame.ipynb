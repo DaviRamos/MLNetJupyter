{
 "cells": [
  {
   "cell_type": "markdown",
   "metadata": {},
   "source": [
    "# ML.Net  - Intro to DataFrame"
   ]
  },
  {
   "cell_type": "code",
   "execution_count": 1,
   "metadata": {},
   "outputs": [
    {
     "data": {
      "text/html": [
       "\r\n",
       "<div>\r\n",
       "    <div id='dotnet-interactive-this-cell-81da9b99780743cfac0d269355fc6143' style='display: none'>\r\n",
       "        The below script needs to be able to find the current output cell; this is an easy method to get it.\r\n",
       "    </div>\r\n",
       "    <script type='text/javascript'>\r\n",
       "// ensure `requirejs` is available globally\r\n",
       "if (typeof requirejs !== typeof Function || typeof requirejs.config !== typeof Function) {\r\n",
       "    let requirejs_script = document.createElement('script');\r\n",
       "    requirejs_script.setAttribute('src', 'https://cdnjs.cloudflare.com/ajax/libs/require.js/2.3.6/require.min.js');\r\n",
       "    requirejs_script.setAttribute('type', 'text/javascript');\r\n",
       "    requirejs_script.onload = function () {\r\n",
       "        loadDotnetInteractiveApi();\r\n",
       "    };\r\n",
       "\r\n",
       "    document.getElementsByTagName('head')[0].appendChild(requirejs_script);\r\n",
       "}\r\n",
       "else {\r\n",
       "    loadDotnetInteractiveApi();\r\n",
       "}\r\n",
       "\r\n",
       "async function probeAddresses(probingAddresses) {\r\n",
       "    function timeout(ms, promise) {\r\n",
       "        return new Promise(function (resolve, reject) {\r\n",
       "            setTimeout(function () {\r\n",
       "                reject(new Error('timeout'))\r\n",
       "            }, ms)\r\n",
       "            promise.then(resolve, reject)\r\n",
       "        })\r\n",
       "    }\r\n",
       "\r\n",
       "    if (Array.isArray(probingAddresses)) {\r\n",
       "        for (let i = 0; i < probingAddresses.length; i++) {\r\n",
       "\r\n",
       "            let rootUrl = probingAddresses[i];\r\n",
       "\r\n",
       "            if (!rootUrl.endsWith('/')) {\r\n",
       "                rootUrl = `${rootUrl}/`;\r\n",
       "            }\r\n",
       "\r\n",
       "            try {\r\n",
       "                let response = await timeout(1000, fetch(`${rootUrl}discovery`, {\r\n",
       "                    method: 'POST',\r\n",
       "                    timeout: 1000,\r\n",
       "                    headers: {\r\n",
       "                        'Content-Type': 'text/plain'\r\n",
       "                    },\r\n",
       "                    body: probingAddresses[i]\r\n",
       "                }));\r\n",
       "\r\n",
       "                if (response.status == 200) {\r\n",
       "                    return rootUrl;\r\n",
       "                }\r\n",
       "            }\r\n",
       "            catch (e) { }\r\n",
       "        }\r\n",
       "    }\r\n",
       "}\r\n",
       "\r\n",
       "function loadDotnetInteractiveApi() {\r\n",
       "    probeAddresses([\"http://172.18.128.1:1016/\", \"http://10.0.0.101:1016/\", \"http://172.21.192.1:1016/\", \"http://127.0.0.1:1016/\"])\r\n",
       "        .then((root) => {\r\n",
       "            // use probing to find host url and api resources\r\n",
       "            // load interactive helpers and language services\r\n",
       "            let dotnet_require = requirejs.config({\r\n",
       "                context: '37016.81da9b99780743cfac0d269355fc6143',\r\n",
       "                paths: {\r\n",
       "                    'dotnet-interactive': `${root}resources`\r\n",
       "                }\r\n",
       "            });\r\n",
       "            if (!window.dotnet_require) {\r\n",
       "                window.dotnet_require = dotnet_require;\r\n",
       "            }\r\n",
       "        \r\n",
       "            dotnet_require([\r\n",
       "                    'dotnet-interactive/dotnet-interactive'\r\n",
       "                ],\r\n",
       "                function (dotnet) {\r\n",
       "                    dotnet.init(window);\r\n",
       "                },\r\n",
       "                function (error) {\r\n",
       "                    console.log(error);\r\n",
       "                }\r\n",
       "            );\r\n",
       "        })\r\n",
       "        .catch(error => {console.log(error);});\r\n",
       "    }\r\n",
       "    </script>\r\n",
       "</div>"
      ]
     },
     "metadata": {},
     "output_type": "display_data"
    },
    {
     "data": {
      "text/plain": [
       "Installed package Microsoft.Data.Analysis version 0.4.0"
      ]
     },
     "metadata": {},
     "output_type": "display_data"
    }
   ],
   "source": [
    "#r \"nuget:Microsoft.Data.Analysis\""
   ]
  },
  {
   "cell_type": "code",
   "execution_count": 2,
   "metadata": {},
   "outputs": [],
   "source": [
    "using Microsoft.Data.Analysis;"
   ]
  },
  {
   "cell_type": "code",
   "execution_count": 7,
   "metadata": {},
   "outputs": [],
   "source": [
    "using Microsoft.AspNetCore.Html;\n",
    "Formatter<DataFrame>.Register((df, writer) =>\n",
    "{\n",
    "    var headers = new List<IHtmlContent>();\n",
    "    headers.Add(th(i(\"index\")));\n",
    "    headers.AddRange(df.Columns.Select(c => (IHtmlContent) th(c.Name)));\n",
    "    var rows = new List<List<IHtmlContent>>();\n",
    "    var take = 10;\n",
    "    for (var i = 0; i < Math.Min(take, df.Rows.Count); i++)\n",
    "    {\n",
    "        var cells = new List<IHtmlContent>();\n",
    "        cells.Add(td(i));\n",
    "        foreach (var obj in df.Rows[i])\n",
    "        {\n",
    "            cells.Add(td(obj));\n",
    "        }\n",
    "        rows.Add(cells);\n",
    "    }\n",
    "\n",
    "    var t = table(\n",
    "        thead(\n",
    "            headers),\n",
    "        tbody(\n",
    "            rows.Select(\n",
    "                r => tr(r))));\n",
    "\n",
    "    writer.Write(t);\n",
    "}, \"text/html\");"
   ]
  },
  {
   "cell_type": "code",
   "execution_count": 8,
   "metadata": {},
   "outputs": [
    {
     "data": {
      "text/html": [
       "<table><thead><th><i>index</i></th><th>longitude</th><th>latitude</th><th>housing_median_age</th><th>total_rooms</th><th>total_bedrooms</th><th>population</th><th>households</th><th>median_income</th><th>median_house_value</th><th>ocean_proximity</th></thead><tbody><tr><td>0</td><td>-12223</td><td>3788</td><td>410</td><td>8800</td><td>1290</td><td>3220</td><td>1260</td><td>83252</td><td>4526000</td><td>NEAR BAY</td></tr><tr><td>1</td><td>-12222</td><td>3786</td><td>210</td><td>70990</td><td>11060</td><td>24010</td><td>11380</td><td>83014</td><td>3585000</td><td>NEAR BAY</td></tr><tr><td>2</td><td>-12224</td><td>3785</td><td>520</td><td>14670</td><td>1900</td><td>4960</td><td>1770</td><td>72574</td><td>3521000</td><td>NEAR BAY</td></tr><tr><td>3</td><td>-12225</td><td>3785</td><td>520</td><td>12740</td><td>2350</td><td>5580</td><td>2190</td><td>56431</td><td>3413000</td><td>NEAR BAY</td></tr><tr><td>4</td><td>-12225</td><td>3785</td><td>520</td><td>16270</td><td>2800</td><td>5650</td><td>2590</td><td>38462</td><td>3422000</td><td>NEAR BAY</td></tr><tr><td>5</td><td>-12225</td><td>3785</td><td>520</td><td>9190</td><td>2130</td><td>4130</td><td>1930</td><td>40368</td><td>2697000</td><td>NEAR BAY</td></tr><tr><td>6</td><td>-12225</td><td>3784</td><td>520</td><td>25350</td><td>4890</td><td>10940</td><td>5140</td><td>36591</td><td>2992000</td><td>NEAR BAY</td></tr><tr><td>7</td><td>-12225</td><td>3784</td><td>520</td><td>31040</td><td>6870</td><td>11570</td><td>6470</td><td>312</td><td>2414000</td><td>NEAR BAY</td></tr><tr><td>8</td><td>-12226</td><td>3784</td><td>420</td><td>25550</td><td>6650</td><td>12060</td><td>5950</td><td>20804</td><td>2267000</td><td>NEAR BAY</td></tr><tr><td>9</td><td>-12225</td><td>3784</td><td>520</td><td>35490</td><td>7070</td><td>15510</td><td>7140</td><td>36912</td><td>2611000</td><td>NEAR BAY</td></tr></tbody></table>"
      ]
     },
     "execution_count": 8,
     "metadata": {},
     "output_type": "execute_result"
    }
   ],
   "source": [
    "var data = DataFrame.LoadCsv(\"./Datasets/Housing/housing.csv\");\n",
    "data"
   ]
  },
  {
   "cell_type": "code",
   "execution_count": 9,
   "metadata": {},
   "outputs": [
    {
     "data": {
      "text/html": [
       "<table><thead><th><i>index</i></th><th>Info</th><th>longitude</th><th>latitude</th><th>housing_median_age</th><th>total_rooms</th><th>total_bedrooms</th><th>population</th><th>households</th><th>median_income</th><th>median_house_value</th><th>ocean_proximity</th></thead><tbody><tr><td>0</td><td>DataType</td><td>System.Single</td><td>System.Single</td><td>System.Single</td><td>System.Single</td><td>System.Single</td><td>System.Single</td><td>System.Single</td><td>System.Single</td><td>System.Single</td><td>System.String</td></tr><tr><td>1</td><td>Length (excluding null values)</td><td>20640</td><td>20640</td><td>20640</td><td>20640</td><td>20433</td><td>20640</td><td>20640</td><td>20640</td><td>20640</td><td>20640</td></tr></tbody></table>"
      ]
     },
     "execution_count": 9,
     "metadata": {},
     "output_type": "execute_result"
    }
   ],
   "source": [
    "data.Info()"
   ]
  },
  {
   "cell_type": "code",
   "execution_count": 10,
   "metadata": {},
   "outputs": [
    {
     "data": {
      "text/html": [
       "<table><thead><th><i>index</i></th><th>Description</th><th>longitude</th><th>latitude</th><th>housing_median_age</th><th>total_rooms</th><th>total_bedrooms</th><th>population</th><th>households</th><th>median_income</th><th>median_house_value</th></thead><tbody><tr><td>0</td><td>Length (excluding null values)</td><td>20640</td><td>20640</td><td>20640</td><td>20640</td><td>20433</td><td>20640</td><td>20640</td><td>20640</td><td>20640</td></tr><tr><td>1</td><td>Max</td><td>-1146</td><td>4195</td><td>520</td><td>393200</td><td>64450</td><td>356820</td><td>60820</td><td>150001</td><td>5000010</td></tr><tr><td>2</td><td>Min</td><td>-12435</td><td>326</td><td>10</td><td>20</td><td>0</td><td>30</td><td>10</td><td>9</td><td>149990</td></tr><tr><td>3</td><td>Mean</td><td>-10910.303</td><td>3245.5671</td><td>286.39487</td><td>26357.584</td><td>5324.7554</td><td>14254.769</td><td>4995.3945</td><td>33542.402</td><td>2068548.2</td></tr></tbody></table>"
      ]
     },
     "execution_count": 10,
     "metadata": {},
     "output_type": "execute_result"
    }
   ],
   "source": [
    "data.Description()"
   ]
  },
  {
   "cell_type": "code",
   "execution_count": 11,
   "metadata": {},
   "outputs": [
    {
     "data": {
      "text/html": [
       "<table><thead><tr><th><i>index</i></th><th>NullCount</th><th>Length</th><th>Name</th><th>DataType</th></tr></thead><tbody><tr><td>0</td><td>0</td><td>20640</td><td>longitude</td><td>System.Single</td></tr><tr><td>1</td><td>0</td><td>20640</td><td>latitude</td><td>System.Single</td></tr><tr><td>2</td><td>0</td><td>20640</td><td>housing_median_age</td><td>System.Single</td></tr><tr><td>3</td><td>0</td><td>20640</td><td>total_rooms</td><td>System.Single</td></tr><tr><td>4</td><td>207</td><td>20640</td><td>total_bedrooms</td><td>System.Single</td></tr><tr><td>5</td><td>0</td><td>20640</td><td>population</td><td>System.Single</td></tr><tr><td>6</td><td>0</td><td>20640</td><td>households</td><td>System.Single</td></tr><tr><td>7</td><td>0</td><td>20640</td><td>median_income</td><td>System.Single</td></tr><tr><td>8</td><td>0</td><td>20640</td><td>median_house_value</td><td>System.Single</td></tr><tr><td>9</td><td>0</td><td>20640</td><td>ocean_proximity</td><td>System.String</td></tr></tbody></table>"
      ]
     },
     "execution_count": 11,
     "metadata": {},
     "output_type": "execute_result"
    }
   ],
   "source": [
    "data.Columns"
   ]
  },
  {
   "cell_type": "code",
   "execution_count": 12,
   "metadata": {},
   "outputs": [
    {
     "data": {
      "text/plain": [
       "longitude"
      ]
     },
     "execution_count": 12,
     "metadata": {},
     "output_type": "execute_result"
    }
   ],
   "source": [
    "data.Columns[0].Name"
   ]
  },
  {
   "cell_type": "code",
   "execution_count": 13,
   "metadata": {},
   "outputs": [
    {
     "data": {
      "text/html": [
       "<table><thead><th><i>index</i></th><th>HOUSE_longitude</th><th>HOUSE_latitude</th><th>HOUSE_housing_median_age</th><th>HOUSE_total_rooms</th><th>HOUSE_total_bedrooms</th><th>HOUSE_population</th><th>HOUSE_households</th><th>HOUSE_median_income</th><th>HOUSE_median_house_value</th><th>HOUSE_ocean_proximity</th></thead><tbody><tr><td>0</td><td>-12223</td><td>3788</td><td>410</td><td>8800</td><td>1290</td><td>3220</td><td>1260</td><td>83252</td><td>4526000</td><td>NEAR BAY</td></tr><tr><td>1</td><td>-12222</td><td>3786</td><td>210</td><td>70990</td><td>11060</td><td>24010</td><td>11380</td><td>83014</td><td>3585000</td><td>NEAR BAY</td></tr><tr><td>2</td><td>-12224</td><td>3785</td><td>520</td><td>14670</td><td>1900</td><td>4960</td><td>1770</td><td>72574</td><td>3521000</td><td>NEAR BAY</td></tr><tr><td>3</td><td>-12225</td><td>3785</td><td>520</td><td>12740</td><td>2350</td><td>5580</td><td>2190</td><td>56431</td><td>3413000</td><td>NEAR BAY</td></tr><tr><td>4</td><td>-12225</td><td>3785</td><td>520</td><td>16270</td><td>2800</td><td>5650</td><td>2590</td><td>38462</td><td>3422000</td><td>NEAR BAY</td></tr><tr><td>5</td><td>-12225</td><td>3785</td><td>520</td><td>9190</td><td>2130</td><td>4130</td><td>1930</td><td>40368</td><td>2697000</td><td>NEAR BAY</td></tr><tr><td>6</td><td>-12225</td><td>3784</td><td>520</td><td>25350</td><td>4890</td><td>10940</td><td>5140</td><td>36591</td><td>2992000</td><td>NEAR BAY</td></tr><tr><td>7</td><td>-12225</td><td>3784</td><td>520</td><td>31040</td><td>6870</td><td>11570</td><td>6470</td><td>312</td><td>2414000</td><td>NEAR BAY</td></tr><tr><td>8</td><td>-12226</td><td>3784</td><td>420</td><td>25550</td><td>6650</td><td>12060</td><td>5950</td><td>20804</td><td>2267000</td><td>NEAR BAY</td></tr><tr><td>9</td><td>-12225</td><td>3784</td><td>520</td><td>35490</td><td>7070</td><td>15510</td><td>7140</td><td>36912</td><td>2611000</td><td>NEAR BAY</td></tr></tbody></table>"
      ]
     },
     "execution_count": 13,
     "metadata": {},
     "output_type": "execute_result"
    }
   ],
   "source": [
    "data.AddPrefix(\"HOUSE_\")"
   ]
  },
  {
   "cell_type": "code",
   "execution_count": 14,
   "metadata": {},
   "outputs": [
    {
     "data": {
      "text/html": [
       "<table><thead><th><i>index</i></th><th>longitude_data</th><th>latitude_data</th><th>housing_median_age_data</th><th>total_rooms_data</th><th>total_bedrooms_data</th><th>population_data</th><th>households_data</th><th>median_income_data</th><th>median_house_value_data</th><th>ocean_proximity_data</th></thead><tbody><tr><td>0</td><td>-12223</td><td>3788</td><td>410</td><td>8800</td><td>1290</td><td>3220</td><td>1260</td><td>83252</td><td>4526000</td><td>NEAR BAY</td></tr><tr><td>1</td><td>-12222</td><td>3786</td><td>210</td><td>70990</td><td>11060</td><td>24010</td><td>11380</td><td>83014</td><td>3585000</td><td>NEAR BAY</td></tr><tr><td>2</td><td>-12224</td><td>3785</td><td>520</td><td>14670</td><td>1900</td><td>4960</td><td>1770</td><td>72574</td><td>3521000</td><td>NEAR BAY</td></tr><tr><td>3</td><td>-12225</td><td>3785</td><td>520</td><td>12740</td><td>2350</td><td>5580</td><td>2190</td><td>56431</td><td>3413000</td><td>NEAR BAY</td></tr><tr><td>4</td><td>-12225</td><td>3785</td><td>520</td><td>16270</td><td>2800</td><td>5650</td><td>2590</td><td>38462</td><td>3422000</td><td>NEAR BAY</td></tr><tr><td>5</td><td>-12225</td><td>3785</td><td>520</td><td>9190</td><td>2130</td><td>4130</td><td>1930</td><td>40368</td><td>2697000</td><td>NEAR BAY</td></tr><tr><td>6</td><td>-12225</td><td>3784</td><td>520</td><td>25350</td><td>4890</td><td>10940</td><td>5140</td><td>36591</td><td>2992000</td><td>NEAR BAY</td></tr><tr><td>7</td><td>-12225</td><td>3784</td><td>520</td><td>31040</td><td>6870</td><td>11570</td><td>6470</td><td>312</td><td>2414000</td><td>NEAR BAY</td></tr><tr><td>8</td><td>-12226</td><td>3784</td><td>420</td><td>25550</td><td>6650</td><td>12060</td><td>5950</td><td>20804</td><td>2267000</td><td>NEAR BAY</td></tr><tr><td>9</td><td>-12225</td><td>3784</td><td>520</td><td>35490</td><td>7070</td><td>15510</td><td>7140</td><td>36912</td><td>2611000</td><td>NEAR BAY</td></tr></tbody></table>"
      ]
     },
     "execution_count": 14,
     "metadata": {},
     "output_type": "execute_result"
    }
   ],
   "source": [
    "data.AddSuffix(\"_data\")"
   ]
  },
  {
   "cell_type": "code",
   "execution_count": 15,
   "metadata": {},
   "outputs": [
    {
     "data": {
      "text/html": [
       "<table><thead><tr><th><i>index</i></th><th></th></tr></thead><tbody><tr><td>0</td><td>[ -12223, 3788, 410, 8800, 1290, 3220, 1260, 83252, 4526000, NEAR BAY ]</td></tr><tr><td>1</td><td>[ -12222, 3786, 210, 70990, 11060, 24010, 11380, 83014, 3585000, NEAR BAY ]</td></tr><tr><td>2</td><td>[ -12224, 3785, 520, 14670, 1900, 4960, 1770, 72574, 3521000, NEAR BAY ]</td></tr><tr><td>3</td><td>[ -12225, 3785, 520, 12740, 2350, 5580, 2190, 56431, 3413000, NEAR BAY ]</td></tr><tr><td>4</td><td>[ -12225, 3785, 520, 16270, 2800, 5650, 2590, 38462, 3422000, NEAR BAY ]</td></tr></tbody></table>"
      ]
     },
     "execution_count": 15,
     "metadata": {},
     "output_type": "execute_result"
    }
   ],
   "source": [
    "data.Rows.Take(5)"
   ]
  },
  {
   "cell_type": "code",
   "execution_count": 16,
   "metadata": {},
   "outputs": [
    {
     "data": {
      "text/html": [
       "<table><thead><th><i>index</i></th><th>longitude</th><th>latitude</th><th>housing_median_age</th><th>total_rooms</th><th>total_bedrooms</th><th>population</th><th>households</th><th>median_income</th><th>median_house_value</th><th>ocean_proximity</th></thead><tbody><tr><td>0</td><td>-12223</td><td>3788</td><td>410</td><td>8800</td><td>1290</td><td>3220</td><td>1260</td><td>83252</td><td>4526000</td><td>NEAR BAY</td></tr><tr><td>1</td><td>-12222</td><td>3786</td><td>210</td><td>70990</td><td>11060</td><td>24010</td><td>11380</td><td>83014</td><td>3585000</td><td>NEAR BAY</td></tr><tr><td>2</td><td>-12224</td><td>3785</td><td>520</td><td>14670</td><td>1900</td><td>4960</td><td>1770</td><td>72574</td><td>3521000</td><td>NEAR BAY</td></tr><tr><td>3</td><td>-12225</td><td>3785</td><td>520</td><td>12740</td><td>2350</td><td>5580</td><td>2190</td><td>56431</td><td>3413000</td><td>NEAR BAY</td></tr><tr><td>4</td><td>-12225</td><td>3785</td><td>520</td><td>16270</td><td>2800</td><td>5650</td><td>2590</td><td>38462</td><td>3422000</td><td>NEAR BAY</td></tr><tr><td>5</td><td>-12225</td><td>3785</td><td>520</td><td>9190</td><td>2130</td><td>4130</td><td>1930</td><td>40368</td><td>2697000</td><td>NEAR BAY</td></tr><tr><td>6</td><td>-12225</td><td>3784</td><td>520</td><td>25350</td><td>4890</td><td>10940</td><td>5140</td><td>36591</td><td>2992000</td><td>NEAR BAY</td></tr><tr><td>7</td><td>-12225</td><td>3784</td><td>520</td><td>31040</td><td>6870</td><td>11570</td><td>6470</td><td>312</td><td>2414000</td><td>NEAR BAY</td></tr><tr><td>8</td><td>-12226</td><td>3784</td><td>420</td><td>25550</td><td>6650</td><td>12060</td><td>5950</td><td>20804</td><td>2267000</td><td>NEAR BAY</td></tr><tr><td>9</td><td>-12225</td><td>3784</td><td>520</td><td>35490</td><td>7070</td><td>15510</td><td>7140</td><td>36912</td><td>2611000</td><td>NEAR BAY</td></tr></tbody></table>"
      ]
     },
     "execution_count": 16,
     "metadata": {},
     "output_type": "execute_result"
    }
   ],
   "source": [
    "var newDf = data.Clone();\n",
    "newDf"
   ]
  },
  {
   "cell_type": "code",
   "execution_count": 17,
   "metadata": {},
   "outputs": [
    {
     "data": {
      "text/html": [
       "<table><thead><th><i>index</i></th><th>longitude</th><th>latitude</th><th>housing_median_age</th><th>total_rooms</th><th>total_bedrooms</th><th>population</th><th>households</th><th>median_income</th><th>median_house_value</th><th>ocean_proximity</th></thead><tbody><tr><td>0</td><td>-12247</td><td>3779</td><td>520</td><td>4370</td><td>1050</td><td>1940</td><td>870</td><td>28125</td><td>5000010</td><td>NEAR BAY</td></tr><tr><td>1</td><td>-11836</td><td>339</td><td>420</td><td>19350</td><td>3880</td><td>11360</td><td>3790</td><td>474</td><td>2300000</td><td>&lt;1H OCEAN</td></tr><tr><td>2</td><td>-11829</td><td>3405</td><td>310</td><td>28180</td><td>12520</td><td>41260</td><td>12000</td><td>2053</td><td>2292000</td><td>&lt;1H OCEAN</td></tr><tr><td>3</td><td>-12065</td><td>3527</td><td>270</td><td>20340</td><td>3410</td><td>7680</td><td>3160</td><td>42411</td><td>2589000</td><td>NEAR OCEAN</td></tr><tr><td>4</td><td>-11881</td><td>3425</td><td>40</td><td>91470</td><td>18270</td><td>39500</td><td>16610</td><td>5716</td><td>3208000</td><td>&lt;1H OCEAN</td></tr><tr><td>5</td><td>-12318</td><td>3923</td><td>180</td><td>2430</td><td>550</td><td>1150</td><td>540</td><td>2125</td><td>1750000</td><td>&lt;1H OCEAN</td></tr><tr><td>6</td><td>-11811</td><td>339</td><td>350</td><td>13230</td><td>2690</td><td>10840</td><td>2400</td><td>50753</td><td>1780000</td><td>&lt;1H OCEAN</td></tr><tr><td>7</td><td>-12239</td><td>3772</td><td>280</td><td>16090</td><td>3400</td><td>10640</td><td>2900</td><td>11125</td><td>2063000</td><td>NEAR BAY</td></tr><tr><td>8</td><td>-11813</td><td>3381</td><td>360</td><td>17490</td><td>3220</td><td>8550</td><td>3190</td><td>46473</td><td>2271000</td><td>&lt;1H OCEAN</td></tr><tr><td>9</td><td>-11811</td><td>3415</td><td>400</td><td>19500</td><td>5090</td><td>10380</td><td>4380</td><td>26172</td><td>1961000</td><td>&lt;1H OCEAN</td></tr></tbody></table>"
      ]
     },
     "execution_count": 17,
     "metadata": {},
     "output_type": "execute_result"
    }
   ],
   "source": [
    "data.Sample(10)"
   ]
  },
  {
   "cell_type": "code",
   "execution_count": 18,
   "metadata": {},
   "outputs": [
    {
     "data": {
      "text/html": [
       "<table><thead><th><i>index</i></th><th>longitude</th><th>latitude</th><th>housing_median_age</th><th>total_rooms</th><th>total_bedrooms</th><th>population</th><th>households</th><th>median_income</th><th>median_house_value</th><th>ocean_proximity</th></thead><tbody><tr><td>0</td><td>-12223</td><td>3788</td><td>410</td><td>8800</td><td>1290</td><td>3220</td><td>1260</td><td>83252</td><td>4526000</td><td>NEAR BAY</td></tr><tr><td>1</td><td>-12222</td><td>3786</td><td>210</td><td>70990</td><td>11060</td><td>24010</td><td>11380</td><td>83014</td><td>3585000</td><td>NEAR BAY</td></tr><tr><td>2</td><td>-12224</td><td>3785</td><td>520</td><td>14670</td><td>1900</td><td>4960</td><td>1770</td><td>72574</td><td>3521000</td><td>NEAR BAY</td></tr><tr><td>3</td><td>-12225</td><td>3785</td><td>520</td><td>12740</td><td>2350</td><td>5580</td><td>2190</td><td>56431</td><td>3413000</td><td>NEAR BAY</td></tr><tr><td>4</td><td>-12225</td><td>3785</td><td>520</td><td>16270</td><td>2800</td><td>5650</td><td>2590</td><td>38462</td><td>3422000</td><td>NEAR BAY</td></tr><tr><td>5</td><td>-12225</td><td>3785</td><td>520</td><td>9190</td><td>2130</td><td>4130</td><td>1930</td><td>40368</td><td>2697000</td><td>NEAR BAY</td></tr><tr><td>6</td><td>-12225</td><td>3784</td><td>520</td><td>25350</td><td>4890</td><td>10940</td><td>5140</td><td>36591</td><td>2992000</td><td>NEAR BAY</td></tr><tr><td>7</td><td>-12225</td><td>3784</td><td>520</td><td>31040</td><td>6870</td><td>11570</td><td>6470</td><td>312</td><td>2414000</td><td>NEAR BAY</td></tr><tr><td>8</td><td>-12226</td><td>3784</td><td>420</td><td>25550</td><td>6650</td><td>12060</td><td>5950</td><td>20804</td><td>2267000</td><td>NEAR BAY</td></tr><tr><td>9</td><td>-12225</td><td>3784</td><td>520</td><td>35490</td><td>7070</td><td>15510</td><td>7140</td><td>36912</td><td>2611000</td><td>NEAR BAY</td></tr></tbody></table>"
      ]
     },
     "execution_count": 18,
     "metadata": {},
     "output_type": "execute_result"
    }
   ],
   "source": [
    "data.Head(10)"
   ]
  },
  {
   "cell_type": "code",
   "execution_count": 19,
   "metadata": {},
   "outputs": [
    {
     "data": {
      "text/html": [
       "<table><thead><th><i>index</i></th><th>longitude</th><th>latitude</th><th>housing_median_age</th><th>total_rooms</th><th>total_bedrooms</th><th>population</th><th>households</th><th>median_income</th><th>median_house_value</th><th>ocean_proximity</th></thead><tbody><tr><td>0</td><td>-12132</td><td>3929</td><td>110</td><td>26400</td><td>5050</td><td>12570</td><td>4450</td><td>35673</td><td>1120000</td><td>INLAND</td></tr><tr><td>1</td><td>-1214</td><td>3933</td><td>150</td><td>26550</td><td>4930</td><td>12000</td><td>4320</td><td>35179</td><td>1072000</td><td>INLAND</td></tr><tr><td>2</td><td>-12145</td><td>3926</td><td>150</td><td>23190</td><td>4160</td><td>10470</td><td>3850</td><td>3125</td><td>1156000</td><td>INLAND</td></tr><tr><td>3</td><td>-12153</td><td>3919</td><td>270</td><td>20800</td><td>4120</td><td>10820</td><td>3820</td><td>25495</td><td>983000</td><td>INLAND</td></tr><tr><td>4</td><td>-12156</td><td>3927</td><td>280</td><td>23320</td><td>3950</td><td>10410</td><td>3440</td><td>37125</td><td>1168000</td><td>INLAND</td></tr><tr><td>5</td><td>-12109</td><td>3948</td><td>250</td><td>16650</td><td>3740</td><td>8450</td><td>3300</td><td>15603</td><td>781000</td><td>INLAND</td></tr><tr><td>6</td><td>-12121</td><td>3949</td><td>180</td><td>6970</td><td>1500</td><td>3560</td><td>1140</td><td>25568</td><td>771000</td><td>INLAND</td></tr><tr><td>7</td><td>-12122</td><td>3943</td><td>170</td><td>22540</td><td>4850</td><td>10070</td><td>4330</td><td>17</td><td>923000</td><td>INLAND</td></tr><tr><td>8</td><td>-12132</td><td>3943</td><td>180</td><td>18600</td><td>4090</td><td>7410</td><td>3490</td><td>18672</td><td>847000</td><td>INLAND</td></tr><tr><td>9</td><td>-12124</td><td>3937</td><td>160</td><td>27850</td><td>6160</td><td>13870</td><td>5300</td><td>23886</td><td>894000</td><td>INLAND</td></tr></tbody></table>"
      ]
     },
     "execution_count": 19,
     "metadata": {},
     "output_type": "execute_result"
    }
   ],
   "source": [
    "data.Tail(10)"
   ]
  },
  {
   "cell_type": "code",
   "execution_count": 20,
   "metadata": {},
   "outputs": [
    {
     "data": {
      "text/html": [
       "<table><thead><th><i>index</i></th><th>longitude</th><th>latitude</th><th>housing_median_age</th><th>total_rooms</th><th>total_bedrooms</th><th>population</th><th>households</th><th>median_income</th><th>median_house_value</th><th>ocean_proximity</th></thead><tbody><tr><td>0</td><td>-12223</td><td>3788</td><td>410</td><td>8800</td><td>1290</td><td>3220</td><td>1260</td><td>83252</td><td>4526000</td><td>NEAR BAY</td></tr><tr><td>1</td><td>-12222</td><td>3786</td><td>210</td><td>70990</td><td>11060</td><td>24010</td><td>11380</td><td>83014</td><td>3585000</td><td>NEAR BAY</td></tr><tr><td>2</td><td>-12224</td><td>3785</td><td>520</td><td>14670</td><td>1900</td><td>4960</td><td>1770</td><td>72574</td><td>3521000</td><td>NEAR BAY</td></tr><tr><td>3</td><td>-12225</td><td>3785</td><td>520</td><td>12740</td><td>2350</td><td>5580</td><td>2190</td><td>56431</td><td>3413000</td><td>NEAR BAY</td></tr><tr><td>4</td><td>-12225</td><td>3785</td><td>520</td><td>16270</td><td>2800</td><td>5650</td><td>2590</td><td>38462</td><td>3422000</td><td>NEAR BAY</td></tr><tr><td>5</td><td>-12225</td><td>3785</td><td>520</td><td>9190</td><td>2130</td><td>4130</td><td>1930</td><td>40368</td><td>2697000</td><td>NEAR BAY</td></tr><tr><td>6</td><td>-12225</td><td>3784</td><td>520</td><td>25350</td><td>4890</td><td>10940</td><td>5140</td><td>36591</td><td>2992000</td><td>NEAR BAY</td></tr><tr><td>7</td><td>-12225</td><td>3784</td><td>520</td><td>31040</td><td>6870</td><td>11570</td><td>6470</td><td>312</td><td>2414000</td><td>NEAR BAY</td></tr><tr><td>8</td><td>-12226</td><td>3784</td><td>420</td><td>25550</td><td>6650</td><td>12060</td><td>5950</td><td>20804</td><td>2267000</td><td>NEAR BAY</td></tr><tr><td>9</td><td>-12225</td><td>3784</td><td>520</td><td>35490</td><td>7070</td><td>15510</td><td>7140</td><td>36912</td><td>2611000</td><td>NEAR BAY</td></tr></tbody></table>"
      ]
     },
     "execution_count": 20,
     "metadata": {},
     "output_type": "execute_result"
    }
   ],
   "source": [
    "data.DropNulls()"
   ]
  },
  {
   "cell_type": "code",
   "execution_count": 22,
   "metadata": {},
   "outputs": [
    {
     "data": {
      "text/html": [
       "<table><thead><th><i>index</i></th><th>longitude</th><th>latitude</th><th>housing_median_age</th><th>total_rooms</th><th>total_bedrooms</th><th>population</th><th>households</th><th>median_income</th><th>median_house_value</th><th>ocean_proximity</th></thead><tbody><tr><td>0</td><td>-12223</td><td>3788</td><td>410</td><td>8800</td><td>1290</td><td>3220</td><td>1260</td><td>83252</td><td>4526000</td><td>NEAR BAY</td></tr><tr><td>1</td><td>-12222</td><td>3786</td><td>210</td><td>70990</td><td>11060</td><td>24010</td><td>11380</td><td>83014</td><td>3585000</td><td>NEAR BAY</td></tr><tr><td>2</td><td>-12224</td><td>3785</td><td>520</td><td>14670</td><td>1900</td><td>4960</td><td>1770</td><td>72574</td><td>3521000</td><td>NEAR BAY</td></tr><tr><td>3</td><td>-12225</td><td>3785</td><td>520</td><td>12740</td><td>2350</td><td>5580</td><td>2190</td><td>56431</td><td>3413000</td><td>NEAR BAY</td></tr><tr><td>4</td><td>-12225</td><td>3785</td><td>520</td><td>16270</td><td>2800</td><td>5650</td><td>2590</td><td>38462</td><td>3422000</td><td>NEAR BAY</td></tr><tr><td>5</td><td>-12225</td><td>3785</td><td>520</td><td>9190</td><td>2130</td><td>4130</td><td>1930</td><td>40368</td><td>2697000</td><td>NEAR BAY</td></tr><tr><td>6</td><td>-12225</td><td>3784</td><td>520</td><td>25350</td><td>4890</td><td>10940</td><td>5140</td><td>36591</td><td>2992000</td><td>NEAR BAY</td></tr><tr><td>7</td><td>-12225</td><td>3784</td><td>520</td><td>31040</td><td>6870</td><td>11570</td><td>6470</td><td>312</td><td>2414000</td><td>NEAR BAY</td></tr><tr><td>8</td><td>-12226</td><td>3784</td><td>420</td><td>25550</td><td>6650</td><td>12060</td><td>5950</td><td>20804</td><td>2267000</td><td>NEAR BAY</td></tr><tr><td>9</td><td>-12225</td><td>3784</td><td>520</td><td>35490</td><td>7070</td><td>15510</td><td>7140</td><td>36912</td><td>2611000</td><td>NEAR BAY</td></tr></tbody></table>"
      ]
     },
     "execution_count": 22,
     "metadata": {},
     "output_type": "execute_result"
    }
   ],
   "source": [
    "var bedroomsMean = data.Columns[\"total_bedrooms\"].Mean();\n",
    "\n",
    "data = data.FillNulls(bedroomsMean.ToString());\n",
    "data"
   ]
  },
  {
   "cell_type": "code",
   "execution_count": 23,
   "metadata": {},
   "outputs": [
    {
     "ename": "Unhandled exception",
     "evalue": "(1,6): error CS1061: ‘DataFrame’ não contém uma definição para \"Sort\" e não foi possível encontrar nenhum método de extensão \"Sort\" que aceite um primeiro argumento do tipo ‘DataFrame’ (você está se esquecendo de usar uma diretiva ou uma referência de assembly?)",
     "output_type": "error",
     "traceback": [
      "(1,6): error CS1061: ‘DataFrame’ não contém uma definição para \"Sort\" e não foi possível encontrar nenhum método de extensão \"Sort\" que aceite um primeiro argumento do tipo ‘DataFrame’ (você está se esquecendo de usar uma diretiva ou uma referência de assembly?)"
     ]
    }
   ],
   "source": [
    "data.Sort(\"housing_median_age\")"
   ]
  },
  {
   "cell_type": "code",
   "execution_count": 24,
   "metadata": {},
   "outputs": [
    {
     "ename": "Unhandled exception",
     "evalue": "(1,6): error CS1061: ‘DataFrame’ não contém uma definição para \"Sort\" e não foi possível encontrar nenhum método de extensão \"Sort\" que aceite um primeiro argumento do tipo ‘DataFrame’ (você está se esquecendo de usar uma diretiva ou uma referência de assembly?)",
     "output_type": "error",
     "traceback": [
      "(1,6): error CS1061: ‘DataFrame’ não contém uma definição para \"Sort\" e não foi possível encontrar nenhum método de extensão \"Sort\" que aceite um primeiro argumento do tipo ‘DataFrame’ (você está se esquecendo de usar uma diretiva ou uma referência de assembly?)"
     ]
    }
   ],
   "source": [
    "data.Sort(\"housing_median_age\", false)"
   ]
  },
  {
   "cell_type": "code",
   "execution_count": 25,
   "metadata": {},
   "outputs": [
    {
     "data": {
      "text/html": [
       "<table><thead><th><i>index</i></th><th>ocean_proximity</th><th>longitude</th><th>latitude</th><th>housing_median_age</th><th>total_rooms</th><th>total_bedrooms</th><th>population</th><th>households</th><th>median_income</th><th>median_house_value</th></thead><tbody><tr><td>0</td><td>NEAR BAY</td><td>2290</td><td>2290</td><td>2290</td><td>2290</td><td>2290</td><td>2290</td><td>2290</td><td>2290</td><td>2290</td></tr><tr><td>1</td><td>&lt;1H OCEAN</td><td>9136</td><td>9136</td><td>9136</td><td>9136</td><td>9136</td><td>9136</td><td>9136</td><td>9136</td><td>9136</td></tr><tr><td>2</td><td>INLAND</td><td>6551</td><td>6551</td><td>6551</td><td>6551</td><td>6551</td><td>6551</td><td>6551</td><td>6551</td><td>6551</td></tr><tr><td>3</td><td>NEAR OCEAN</td><td>2658</td><td>2658</td><td>2658</td><td>2658</td><td>2658</td><td>2658</td><td>2658</td><td>2658</td><td>2658</td></tr><tr><td>4</td><td>ISLAND</td><td>5</td><td>5</td><td>5</td><td>5</td><td>5</td><td>5</td><td>5</td><td>5</td><td>5</td></tr></tbody></table>"
      ]
     },
     "execution_count": 25,
     "metadata": {},
     "output_type": "execute_result"
    }
   ],
   "source": [
    "data.GroupBy(\"ocean_proximity\").Count()"
   ]
  },
  {
   "cell_type": "code",
   "execution_count": 27,
   "metadata": {},
   "outputs": [
    {
     "data": {
      "text/html": [
       "<table><thead><th><i>index</i></th><th>longitude</th><th>latitude</th><th>housing_median_age</th><th>total_rooms</th><th>total_bedrooms</th><th>population</th><th>households</th><th>median_income</th><th>median_house_value</th><th>ocean_proximity</th></thead><tbody><tr><td>0</td><td>-12223</td><td>3788</td><td>410</td><td>8800</td><td>1290</td><td>3220</td><td>1260</td><td>83252</td><td>4526000</td><td>NEAR BAY</td></tr><tr><td>1</td><td>-12222</td><td>3786</td><td>210</td><td>70990</td><td>11060</td><td>24010</td><td>11380</td><td>83014</td><td>3585000</td><td>NEAR BAY</td></tr><tr><td>2</td><td>-12224</td><td>3785</td><td>520</td><td>14670</td><td>1900</td><td>4960</td><td>1770</td><td>72574</td><td>3521000</td><td>NEAR BAY</td></tr><tr><td>3</td><td>-12225</td><td>3785</td><td>520</td><td>12740</td><td>2350</td><td>5580</td><td>2190</td><td>56431</td><td>3413000</td><td>NEAR BAY</td></tr><tr><td>4</td><td>-12225</td><td>3785</td><td>520</td><td>16270</td><td>2800</td><td>5650</td><td>2590</td><td>38462</td><td>3422000</td><td>NEAR BAY</td></tr><tr><td>5</td><td>-12225</td><td>3785</td><td>520</td><td>9190</td><td>2130</td><td>4130</td><td>1930</td><td>40368</td><td>2697000</td><td>NEAR BAY</td></tr><tr><td>6</td><td>-12225</td><td>3784</td><td>520</td><td>25350</td><td>4890</td><td>10940</td><td>5140</td><td>36591</td><td>2992000</td><td>NEAR BAY</td></tr><tr><td>7</td><td>-12225</td><td>3784</td><td>520</td><td>31040</td><td>6870</td><td>11570</td><td>6470</td><td>312</td><td>2414000</td><td>NEAR BAY</td></tr><tr><td>8</td><td>-12226</td><td>3784</td><td>420</td><td>25550</td><td>6650</td><td>12060</td><td>5950</td><td>20804</td><td>2267000</td><td>NEAR BAY</td></tr><tr><td>9</td><td>-12225</td><td>3784</td><td>520</td><td>35490</td><td>7070</td><td>15510</td><td>7140</td><td>36912</td><td>2611000</td><td>NEAR BAY</td></tr></tbody></table>"
      ]
     },
     "execution_count": 27,
     "metadata": {},
     "output_type": "execute_result"
    }
   ],
   "source": [
    "var filtered = data[data.Columns[\"median_house_value\"].ElementwiseGreaterThan(500000)];\n",
    "filtered"
   ]
  },
  {
   "cell_type": "code",
   "execution_count": null,
   "metadata": {},
   "outputs": [],
   "source": []
  }
 ],
 "metadata": {
  "kernelspec": {
   "display_name": ".NET (C#)",
   "language": "C#",
   "name": ".net-csharp"
  },
  "language_info": {
   "file_extension": ".cs",
   "mimetype": "text/x-csharp",
   "name": "C#",
   "pygments_lexer": "csharp",
   "version": "8.0"
  }
 },
 "nbformat": 4,
 "nbformat_minor": 4
}
