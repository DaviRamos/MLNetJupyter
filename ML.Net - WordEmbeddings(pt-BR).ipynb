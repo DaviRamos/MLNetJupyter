{
 "cells": [
  {
   "cell_type": "markdown",
   "metadata": {},
   "source": [
    "# ML.Net - WordEmbeddings(pt-BR)"
   ]
  },
  {
   "cell_type": "code",
   "execution_count": 5,
   "metadata": {},
   "outputs": [],
   "source": [
    "// ML.NET Nuget packages installation\n",
    "#r \"nuget:Microsoft.ML\" "
   ]
  },
  {
   "cell_type": "markdown",
   "metadata": {},
   "source": [
    "## Using C# Class"
   ]
  },
  {
   "cell_type": "code",
   "execution_count": 6,
   "metadata": {
    "scrolled": true
   },
   "outputs": [],
   "source": [
    "using Microsoft.ML;\n",
    "using Microsoft.ML.Transforms.Text;\n",
    "using Microsoft.ML.Data;\n",
    "using System;\n",
    "using System.Collections.Generic;"
   ]
  },
  {
   "cell_type": "markdown",
   "metadata": {},
   "source": [
    "## Declare data-classes for input data and predictions"
   ]
  },
  {
   "cell_type": "code",
   "execution_count": 7,
   "metadata": {},
   "outputs": [],
   "source": [
    "public class TextFeatures\n",
    "{\n",
    "    public float[] Features { get; set; }\n",
    "}\n",
    "    \n",
    "public class TextInput\n",
    "{\n",
    "    public string Text { get; set; }\n",
    "}"
   ]
  },
  {
   "cell_type": "markdown",
   "metadata": {},
   "source": [
    "## Predict"
   ]
  },
  {
   "cell_type": "code",
   "execution_count": 8,
   "metadata": {},
   "outputs": [
    {
     "name": "stdout",
     "output_type": "stream",
     "text": [
      "Number of Features: 150\n",
      "Features: \n",
      "0,0178 0,1212 0,0487 -0,0344 -0,1750 1,8217 0,7706 -0,6510 -0,6451 0,3292 0,7025 1,0445 -0,6054 -0,1692 -0,5151 -0,2371 -1,1682 0,1874 0,7902 0,0234 -0,8858 0,4046 0,2809 0,6691 -0,7997 1,2440 -1,0106 -1,1486 -1,2397 -0,5169 2,7060 -2,1936 0,2584 -1,3548 -0,0093 0,4534 0,0277 0,5973 -1,0977 -0,1735 -1,8249 -2,3478 0,6569 0,7355 -0,8726 -1,9450 0,9108 1,0538 -1,9575 1,5439 0,0178 0,1212 0,0487 -0,0344 -0,1750 1,8217 0,7706 -0,6510 -0,6451 0,3292 0,7025 1,0445 -0,6054 -0,1692 -0,5151 -0,2371 -1,1682 0,1874 0,7902 0,0234 -0,8858 0,4046 0,2809 0,6691 -0,7997 1,2440 -1,0106 -1,1486 -1,2397 -0,5169 2,7060 -2,1936 0,2584 -1,3548 -0,0093 0,4534 0,0277 0,5973 -1,0977 -0,1735 -1,8249 -2,3478 0,6569 0,7355 -0,8726 -1,9450 0,9108 1,0538 -1,9575 1,5439 0,0178 0,1212 0,0487 -0,0344 -0,1750 1,8217 0,7706 -0,6510 -0,6451 0,3292 0,7025 1,0445 -0,6054 -0,1692 -0,5151 -0,2371 -1,1682 0,1874 0,7902 0,0234 -0,8858 0,4046 0,2809 0,6691 -0,7997 1,2440 -1,0106 -1,1486 -1,2397 -0,5169 2,7060 -2,1936 0,2584 -1,3548 -0,0093 0,4534 0,0277 0,5973 -1,0977 -0,1735 -1,8249 -2,3478 0,6569 0,7355 -0,8726 -1,9450 0,9108 1,0538 -1,9575 1,5439 \n",
      "\n",
      "Number of Features: 150\n",
      "Features: \n",
      "-0,2185 0,7078 0,6381 -0,5985 -0,3803 1,0883 -0,2163 0,3511 0,4225 0,3343 0,9581 1,3110 0,3099 -0,4635 0,0299 0,1832 -0,7610 0,2138 1,3008 -0,2847 -0,1940 -0,5647 -0,4513 1,1763 0,3731 -0,3181 0,1810 -0,3546 -0,9214 -0,5030 1,4513 -0,9830 0,7941 -0,8703 -0,0485 -0,2959 0,3750 -0,0333 -1,4313 0,3770 -0,7266 -1,0786 0,9616 -0,5060 -1,0106 -1,0881 0,4271 1,2569 -1,0764 2,0491 -0,2185 0,7078 0,6381 -0,5985 -0,3803 1,0883 -0,2163 0,3511 0,4225 0,3343 0,9581 1,3110 0,3099 -0,4635 0,0299 0,1832 -0,7610 0,2138 1,3008 -0,2847 -0,1940 -0,5647 -0,4513 1,1763 0,3731 -0,3181 0,1810 -0,3546 -0,9214 -0,5030 1,4513 -0,9830 0,7941 -0,8703 -0,0485 -0,2959 0,3750 -0,0333 -1,4313 0,3770 -0,7266 -1,0786 0,9616 -0,5060 -1,0106 -1,0881 0,4271 1,2569 -1,0764 2,0491 -0,2185 0,7078 0,6381 -0,5985 -0,3803 1,0883 -0,2163 0,3511 0,4225 0,3343 0,9581 1,3110 0,3099 -0,4635 0,0299 0,1832 -0,7610 0,2138 1,3008 -0,2847 -0,1940 -0,5647 -0,4513 1,1763 0,3731 -0,3181 0,1810 -0,3546 -0,9214 -0,5030 1,4513 -0,9830 0,7941 -0,8703 -0,0485 -0,2959 0,3750 -0,0333 -1,4313 0,3770 -0,7266 -1,0786 0,9616 -0,5060 -1,0106 -1,0881 0,4271 1,2569 -1,0764 2,0491 "
     ]
    }
   ],
   "source": [
    "var context = new MLContext();\n",
    "\n",
    "var emptyData = context.Data.LoadFromEnumerable(new List<TextInput>());\n",
    "\n",
    "var embeddingsPipline = context.Transforms.Text.NormalizeText(\"Text\", null, keepDiacritics: false, keepPunctuations: false, keepNumbers: false)\n",
    "    .Append(context.Transforms.Text.TokenizeIntoWords(\"Tokens\", \"Text\"))\n",
    "    .Append(context.Transforms.Text.ApplyWordEmbedding(\"Features\", \"Tokens\", WordEmbeddingEstimator.PretrainedModelKind.SentimentSpecificWordEmbedding));\n",
    "\n",
    "var embeddingTransformer = embeddingsPipline.Fit(emptyData);\n",
    "\n",
    "var predictionEngine = context.Model.CreatePredictionEngine<TextInput, TextFeatures>(embeddingTransformer);\n",
    "\n",
    "var dogData = new TextInput { Text = \"Dog\" };\n",
    "\n",
    "var prediction = predictionEngine.Predict(dogData);\n",
    "\n",
    "Console.WriteLine($\"Number of Features: {prediction.Features.Length}\");\n",
    "\n",
    "// Print the embedding vector.\n",
    "Console.WriteLine(\"Features: \");\n",
    "foreach (var feature in prediction.Features)\n",
    "{\n",
    "    Console.Write($\"{feature:F4} \");\n",
    "}\n",
    "\n",
    "Console.WriteLine(Environment.NewLine);\n",
    "\n",
    "var catData = new TextInput { Text = \"Cat\" };\n",
    "\n",
    "var catPrediction = predictionEngine.Predict(catData);\n",
    "\n",
    "Console.WriteLine($\"Number of Features: {catPrediction.Features.Length}\");\n",
    "\n",
    "// Print the embedding vector.\n",
    "Console.WriteLine(\"Features: \");\n",
    "foreach (var feature in catPrediction.Features)\n",
    "{\n",
    "    Console.Write($\"{feature:F4} \");\n",
    "}"
   ]
  },
  {
   "cell_type": "code",
   "execution_count": null,
   "metadata": {},
   "outputs": [],
   "source": []
  }
 ],
 "metadata": {
  "kernelspec": {
   "display_name": ".NET (C#)",
   "language": "C#",
   "name": ".net-csharp"
  },
  "language_info": {
   "file_extension": ".cs",
   "mimetype": "text/x-csharp",
   "name": "C#",
   "pygments_lexer": "csharp",
   "version": "8.0"
  }
 },
 "nbformat": 4,
 "nbformat_minor": 4
}
