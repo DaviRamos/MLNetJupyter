{
 "cells": [
  {
   "cell_type": "markdown",
   "metadata": {},
   "source": [
    "# ML.Net - Dataframe with AutoML"
   ]
  },
  {
   "cell_type": "code",
   "execution_count": null,
   "metadata": {},
   "outputs": [],
   "source": [
    "#r \"nuget:Microsoft.ML\"\n",
    "#r \"nuget:Microsoft.ML.AutoML\"\n",
    "#r \"nuget:Microsoft.Data.Analysis\""
   ]
  },
  {
   "cell_type": "code",
   "execution_count": 2,
   "metadata": {},
   "outputs": [],
   "source": [
    "using Microsoft.ML;\n",
    "using Microsoft.ML.AutoML;\n",
    "using Microsoft.Data.Analysis;"
   ]
  },
  {
   "cell_type": "code",
   "execution_count": 3,
   "metadata": {},
   "outputs": [],
   "source": [
    "using Microsoft.AspNetCore.Html;\n",
    "Formatter<DataFrame>.Register((df, writer) =>\n",
    "{\n",
    "    var headers = new List<IHtmlContent>();\n",
    "    headers.Add(th(i(\"index\")));\n",
    "    headers.AddRange(df.Columns.Select(c => (IHtmlContent) th(c.Name)));\n",
    "    var rows = new List<List<IHtmlContent>>();\n",
    "    var take = 10;\n",
    "    for (var i = 0; i < Math.Min(take, df.Rows.Count); i++)\n",
    "    {\n",
    "        var cells = new List<IHtmlContent>();\n",
    "        cells.Add(td(i));\n",
    "        foreach (var obj in df.Rows[i])\n",
    "        {\n",
    "            cells.Add(td(obj));\n",
    "        }\n",
    "        rows.Add(cells);\n",
    "    }\n",
    "\n",
    "    var t = table(\n",
    "        thead(\n",
    "            headers),\n",
    "        tbody(\n",
    "            rows.Select(\n",
    "                r => tr(r))));\n",
    "\n",
    "    writer.Write(t);\n",
    "}, \"text/html\");"
   ]
  },
  {
   "cell_type": "code",
   "execution_count": 4,
   "metadata": {},
   "outputs": [
    {
     "data": {
      "text/html": [
       "<table><thead><th><i>index</i></th><th>longitude</th><th>latitude</th><th>housing_median_age</th><th>total_rooms</th><th>total_bedrooms</th><th>population</th><th>households</th><th>median_income</th><th>median_house_value</th><th>ocean_proximity</th></thead><tbody><tr><td>0</td><td>-12223</td><td>3788</td><td>410</td><td>8800</td><td>1290</td><td>3220</td><td>1260</td><td>83252</td><td>4526000</td><td>NEAR BAY</td></tr><tr><td>1</td><td>-12222</td><td>3786</td><td>210</td><td>70990</td><td>11060</td><td>24010</td><td>11380</td><td>83014</td><td>3585000</td><td>NEAR BAY</td></tr><tr><td>2</td><td>-12224</td><td>3785</td><td>520</td><td>14670</td><td>1900</td><td>4960</td><td>1770</td><td>72574</td><td>3521000</td><td>NEAR BAY</td></tr><tr><td>3</td><td>-12225</td><td>3785</td><td>520</td><td>12740</td><td>2350</td><td>5580</td><td>2190</td><td>56431</td><td>3413000</td><td>NEAR BAY</td></tr><tr><td>4</td><td>-12225</td><td>3785</td><td>520</td><td>16270</td><td>2800</td><td>5650</td><td>2590</td><td>38462</td><td>3422000</td><td>NEAR BAY</td></tr><tr><td>5</td><td>-12225</td><td>3785</td><td>520</td><td>9190</td><td>2130</td><td>4130</td><td>1930</td><td>40368</td><td>2697000</td><td>NEAR BAY</td></tr><tr><td>6</td><td>-12225</td><td>3784</td><td>520</td><td>25350</td><td>4890</td><td>10940</td><td>5140</td><td>36591</td><td>2992000</td><td>NEAR BAY</td></tr><tr><td>7</td><td>-12225</td><td>3784</td><td>520</td><td>31040</td><td>6870</td><td>11570</td><td>6470</td><td>312</td><td>2414000</td><td>NEAR BAY</td></tr><tr><td>8</td><td>-12226</td><td>3784</td><td>420</td><td>25550</td><td>6650</td><td>12060</td><td>5950</td><td>20804</td><td>2267000</td><td>NEAR BAY</td></tr><tr><td>9</td><td>-12225</td><td>3784</td><td>520</td><td>35490</td><td>7070</td><td>15510</td><td>7140</td><td>36912</td><td>2611000</td><td>NEAR BAY</td></tr></tbody></table>"
      ]
     },
     "execution_count": 4,
     "metadata": {},
     "output_type": "execute_result"
    }
   ],
   "source": [
    "var data = DataFrame.LoadCsv(\"./datasets/housing/housing.csv\");\n",
    "data"
   ]
  },
  {
   "cell_type": "code",
   "execution_count": 5,
   "metadata": {},
   "outputs": [
    {
     "data": {
      "text/html": [
       "<table><thead><th><i>index</i></th><th>Description</th><th>longitude</th><th>latitude</th><th>housing_median_age</th><th>total_rooms</th><th>total_bedrooms</th><th>population</th><th>households</th><th>median_income</th><th>median_house_value</th></thead><tbody><tr><td>0</td><td>Length (excluding null values)</td><td>20640</td><td>20640</td><td>20640</td><td>20640</td><td>20433</td><td>20640</td><td>20640</td><td>20640</td><td>20640</td></tr><tr><td>1</td><td>Max</td><td>-1146</td><td>4195</td><td>520</td><td>393200</td><td>64450</td><td>356820</td><td>60820</td><td>150001</td><td>5000010</td></tr><tr><td>2</td><td>Min</td><td>-12435</td><td>326</td><td>10</td><td>20</td><td>0</td><td>30</td><td>10</td><td>9</td><td>149990</td></tr><tr><td>3</td><td>Mean</td><td>-10910.303</td><td>3245.5671</td><td>286.39487</td><td>26357.584</td><td>5324.7554</td><td>14254.769</td><td>4995.3945</td><td>33542.402</td><td>2068548.2</td></tr></tbody></table>"
      ]
     },
     "execution_count": 5,
     "metadata": {},
     "output_type": "execute_result"
    }
   ],
   "source": [
    "data.Description()"
   ]
  },
  {
   "cell_type": "code",
   "execution_count": 6,
   "metadata": {},
   "outputs": [
    {
     "data": {
      "text/html": [
       "<table><thead><th><i>index</i></th><th>longitude</th><th>latitude</th><th>housing_median_age</th><th>total_rooms</th><th>total_bedrooms</th><th>population</th><th>households</th><th>median_income</th><th>median_house_value</th><th>ocean_proximity</th></thead><tbody><tr><td>0</td><td>-12223</td><td>3788</td><td>410</td><td>8800</td><td>1290</td><td>3220</td><td>1260</td><td>83252</td><td>4526000</td><td>NEAR BAY</td></tr><tr><td>1</td><td>-12222</td><td>3786</td><td>210</td><td>70990</td><td>11060</td><td>24010</td><td>11380</td><td>83014</td><td>3585000</td><td>NEAR BAY</td></tr><tr><td>2</td><td>-12224</td><td>3785</td><td>520</td><td>14670</td><td>1900</td><td>4960</td><td>1770</td><td>72574</td><td>3521000</td><td>NEAR BAY</td></tr><tr><td>3</td><td>-12225</td><td>3785</td><td>520</td><td>12740</td><td>2350</td><td>5580</td><td>2190</td><td>56431</td><td>3413000</td><td>NEAR BAY</td></tr><tr><td>4</td><td>-12225</td><td>3785</td><td>520</td><td>16270</td><td>2800</td><td>5650</td><td>2590</td><td>38462</td><td>3422000</td><td>NEAR BAY</td></tr><tr><td>5</td><td>-12225</td><td>3785</td><td>520</td><td>9190</td><td>2130</td><td>4130</td><td>1930</td><td>40368</td><td>2697000</td><td>NEAR BAY</td></tr><tr><td>6</td><td>-12225</td><td>3784</td><td>520</td><td>25350</td><td>4890</td><td>10940</td><td>5140</td><td>36591</td><td>2992000</td><td>NEAR BAY</td></tr><tr><td>7</td><td>-12225</td><td>3784</td><td>520</td><td>31040</td><td>6870</td><td>11570</td><td>6470</td><td>312</td><td>2414000</td><td>NEAR BAY</td></tr><tr><td>8</td><td>-12226</td><td>3784</td><td>420</td><td>25550</td><td>6650</td><td>12060</td><td>5950</td><td>20804</td><td>2267000</td><td>NEAR BAY</td></tr><tr><td>9</td><td>-12225</td><td>3784</td><td>520</td><td>35490</td><td>7070</td><td>15510</td><td>7140</td><td>36912</td><td>2611000</td><td>NEAR BAY</td></tr></tbody></table>"
      ]
     },
     "execution_count": 6,
     "metadata": {},
     "output_type": "execute_result"
    }
   ],
   "source": [
    "data = data.DropNulls()"
   ]
  },
  {
   "cell_type": "code",
   "execution_count": 7,
   "metadata": {},
   "outputs": [],
   "source": [
    "var context = new MLContext();\n",
    "\n",
    "var experiment = context.Auto().CreateRegressionExperiment(maxExperimentTimeInSeconds: 10);\n",
    "\n",
    "var result = experiment.Execute((IDataView)data, labelColumnName:\"median_house_value\");"
   ]
  },
  {
   "cell_type": "code",
   "execution_count": 8,
   "metadata": {},
   "outputs": [
    {
     "data": {
      "text/plain": [
       "FastTreeRegression"
      ]
     },
     "execution_count": 8,
     "metadata": {},
     "output_type": "execute_result"
    }
   ],
   "source": [
    "result.BestRun.TrainerName"
   ]
  },
  {
   "cell_type": "code",
   "execution_count": 9,
   "metadata": {},
   "outputs": [
    {
     "data": {
      "text/html": [
       "0.8270475140288194"
      ]
     },
     "execution_count": 9,
     "metadata": {},
     "output_type": "execute_result"
    }
   ],
   "source": [
    "result.BestRun.ValidationMetrics.RSquared"
   ]
  }
 ],
 "metadata": {
  "kernelspec": {
   "display_name": ".NET (C#)",
   "language": "C#",
   "name": ".net-csharp"
  },
  "language_info": {
   "file_extension": ".cs",
   "mimetype": "text/x-csharp",
   "name": "C#",
   "pygments_lexer": "csharp",
   "version": "8.0"
  }
 },
 "nbformat": 4,
 "nbformat_minor": 4
}
