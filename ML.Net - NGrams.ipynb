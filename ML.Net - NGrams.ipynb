{
 "cells": [
  {
   "cell_type": "markdown",
   "metadata": {},
   "source": [
    "# ML.Net - NGrams"
   ]
  },
  {
   "cell_type": "code",
   "execution_count": 1,
   "metadata": {},
   "outputs": [
    {
     "data": {
      "text/html": [
       "\r\n",
       "<div>\r\n",
       "    <div id='dotnet-interactive-this-cell-97d63313dae54ae8a2059cdab47c6a5f' style='display: none'>\r\n",
       "        The below script needs to be able to find the current output cell; this is an easy method to get it.\r\n",
       "    </div>\r\n",
       "    <script type='text/javascript'>\r\n",
       "// ensure `requirejs` is available globally\r\n",
       "if (typeof requirejs !== typeof Function || typeof requirejs.config !== typeof Function) {\r\n",
       "    let requirejs_script = document.createElement('script');\r\n",
       "    requirejs_script.setAttribute('src', 'https://cdnjs.cloudflare.com/ajax/libs/require.js/2.3.6/require.min.js');\r\n",
       "    requirejs_script.setAttribute('type', 'text/javascript');\r\n",
       "    requirejs_script.onload = function () {\r\n",
       "        loadDotnetInteractiveApi();\r\n",
       "    };\r\n",
       "\r\n",
       "    document.getElementsByTagName('head')[0].appendChild(requirejs_script);\r\n",
       "}\r\n",
       "else {\r\n",
       "    loadDotnetInteractiveApi();\r\n",
       "}\r\n",
       "\r\n",
       "async function probeAddresses(probingAddresses) {\r\n",
       "    function timeout(ms, promise) {\r\n",
       "        return new Promise(function (resolve, reject) {\r\n",
       "            setTimeout(function () {\r\n",
       "                reject(new Error('timeout'))\r\n",
       "            }, ms)\r\n",
       "            promise.then(resolve, reject)\r\n",
       "        })\r\n",
       "    }\r\n",
       "\r\n",
       "    if (Array.isArray(probingAddresses)) {\r\n",
       "        for (let i = 0; i < probingAddresses.length; i++) {\r\n",
       "\r\n",
       "            let rootUrl = probingAddresses[i];\r\n",
       "\r\n",
       "            if (!rootUrl.endsWith('/')) {\r\n",
       "                rootUrl = `${rootUrl}/`;\r\n",
       "            }\r\n",
       "\r\n",
       "            try {\r\n",
       "                let response = await timeout(1000, fetch(`${rootUrl}discovery`, {\r\n",
       "                    method: 'POST',\r\n",
       "                    timeout: 1000,\r\n",
       "                    headers: {\r\n",
       "                        'Content-Type': 'text/plain'\r\n",
       "                    },\r\n",
       "                    body: probingAddresses[i]\r\n",
       "                }));\r\n",
       "\r\n",
       "                if (response.status == 200) {\r\n",
       "                    return rootUrl;\r\n",
       "                }\r\n",
       "            }\r\n",
       "            catch (e) { }\r\n",
       "        }\r\n",
       "    }\r\n",
       "}\r\n",
       "\r\n",
       "function loadDotnetInteractiveApi() {\r\n",
       "    probeAddresses([\"http://10.0.0.101:1002/\", \"http://172.27.16.1:1002/\", \"http://172.30.16.1:1002/\", \"http://127.0.0.1:1002/\"])\r\n",
       "        .then((root) => {\r\n",
       "            // use probing to find host url and api resources\r\n",
       "            // load interactive helpers and language services\r\n",
       "            let dotnet_require = requirejs.config({\r\n",
       "                context: '13072.97d63313dae54ae8a2059cdab47c6a5f',\r\n",
       "                paths: {\r\n",
       "                    'dotnet-interactive': `${root}resources`\r\n",
       "                }\r\n",
       "            });\r\n",
       "            if (!window.dotnet_require) {\r\n",
       "                window.dotnet_require = dotnet_require;\r\n",
       "            }\r\n",
       "        \r\n",
       "            dotnet_require([\r\n",
       "                    'dotnet-interactive/dotnet-interactive'\r\n",
       "                ],\r\n",
       "                function (dotnet) {\r\n",
       "                    dotnet.init(window);\r\n",
       "                },\r\n",
       "                function (error) {\r\n",
       "                    console.log(error);\r\n",
       "                }\r\n",
       "            );\r\n",
       "        })\r\n",
       "        .catch(error => {console.log(error);});\r\n",
       "    }\r\n",
       "    </script>\r\n",
       "</div>"
      ]
     },
     "metadata": {},
     "output_type": "display_data"
    },
    {
     "data": {
      "text/plain": [
       "Installed package Microsoft.ML version 1.5.0"
      ]
     },
     "metadata": {},
     "output_type": "display_data"
    }
   ],
   "source": [
    "// ML.NET Nuget packages installation\n",
    "#r \"nuget:Microsoft.ML\" "
   ]
  },
  {
   "cell_type": "markdown",
   "metadata": {},
   "source": [
    "## Using C# Class"
   ]
  },
  {
   "cell_type": "code",
   "execution_count": 3,
   "metadata": {
    "scrolled": true
   },
   "outputs": [],
   "source": [
    "using Microsoft.ML;\n",
    "using Microsoft.ML.Data;\n",
    "using System;\n",
    "using System.Collections.Generic;\n",
    "using System.Linq;"
   ]
  },
  {
   "cell_type": "markdown",
   "metadata": {},
   "source": [
    "## Declare data-classes for input data and predictions"
   ]
  },
  {
   "cell_type": "code",
   "execution_count": 4,
   "metadata": {},
   "outputs": [],
   "source": [
    "public class Output\n",
    "{\n",
    "    public float[] NGrams { get; set; }\n",
    "}\n",
    "    \n",
    "public class Input\n",
    "{\n",
    "    public string Text { get; set; }\n",
    "}"
   ]
  },
  {
   "cell_type": "code",
   "execution_count": 6,
   "metadata": {},
   "outputs": [],
   "source": [
    "var context = new MLContext();\n",
    "\n",
    "var data = new List<Input>\n",
    "{\n",
    "    new Input { Text = \"I really enjoy being in jazz band.\" },\n",
    "    new Input { Text = \"But I'm done for the day and am heading home.\" }\n",
    "};\n",
    "\n",
    "var dataView = context.Data.LoadFromEnumerable(data);"
   ]
  },
  {
   "cell_type": "code",
   "execution_count": 7,
   "metadata": {},
   "outputs": [],
   "source": [
    "var nGramPipeline = context.Transforms.Text.TokenizeIntoWords(\"Tokens\", nameof(Input.Text))\n",
    "    .Append(context.Transforms.Conversion.MapValueToKey(\"Tokens\")\n",
    "    .Append(context.Transforms.Text.ProduceNgrams(\n",
    "        \"NGrams\", \n",
    "        \"Tokens\", \n",
    "        ngramLength: 2, \n",
    "        useAllLengths: false, \n",
    "        weighting: Microsoft.ML.Transforms.Text.NgramExtractingEstimator.WeightingCriteria.Tf)));"
   ]
  },
  {
   "cell_type": "code",
   "execution_count": 8,
   "metadata": {},
   "outputs": [],
   "source": [
    "var fitData = nGramPipeline.Fit(dataView);\n",
    "var dataTransformed = fitData.Transform(dataView);\n",
    "\n",
    "var preview = dataTransformed.Preview();"
   ]
  },
  {
   "cell_type": "code",
   "execution_count": 9,
   "metadata": {},
   "outputs": [],
   "source": [
    "VBuffer<ReadOnlyMemory<char>> slotNames = default;\n",
    "dataTransformed.Schema[\"NGrams\"].GetSlotNames(ref slotNames);"
   ]
  },
  {
   "cell_type": "code",
   "execution_count": 10,
   "metadata": {},
   "outputs": [
    {
     "ename": "Unhandled exception",
     "evalue": "(2,1): error CS8345: O campo ou a propriedade autoimplementada não pode ser do tipo 'ReadOnlySpan<ReadOnlyMemory<char>>', a menos que seja um membro de instância de uma struct de referência.",
     "output_type": "error",
     "traceback": [
      "(2,1): error CS8345: O campo ou a propriedade autoimplementada não pode ser do tipo 'ReadOnlySpan<ReadOnlyMemory<char>>', a menos que seja um membro de instância de uma struct de referência."
     ]
    }
   ],
   "source": [
    "var nGramsColumn = dataTransformed.GetColumn<VBuffer<float>>(dataTransformed.Schema[\"NGrams\"]);\n",
    "var slots = slotNames.GetValues();"
   ]
  },
  {
   "cell_type": "code",
   "execution_count": 11,
   "metadata": {},
   "outputs": [
    {
     "ename": "Unhandled exception",
     "evalue": "(3,21): error CS0103: O nome \"nGramsColumn\" não existe no contexto atual\r\n(7,30): error CS0103: O nome \"slots\" não existe no contexto atual",
     "output_type": "error",
     "traceback": [
      "(3,21): error CS0103: O nome \"nGramsColumn\" não existe no contexto atual\r\n(7,30): error CS0103: O nome \"slots\" não existe no contexto atual"
     ]
    }
   ],
   "source": [
    "Console.WriteLine(\"NGrams\");\n",
    "\n",
    "foreach (var row in nGramsColumn)\n",
    "{\n",
    "    foreach (var item in row.Items())\n",
    "    {\n",
    "        Console.WriteLine($\"{slots[item.Key]} \");\n",
    "    }\n",
    "\n",
    "    Console.WriteLine();\n",
    "}"
   ]
  },
  {
   "cell_type": "code",
   "execution_count": null,
   "metadata": {},
   "outputs": [],
   "source": []
  }
 ],
 "metadata": {
  "kernelspec": {
   "display_name": ".NET (C#)",
   "language": "C#",
   "name": ".net-csharp"
  },
  "language_info": {
   "file_extension": ".cs",
   "mimetype": "text/x-csharp",
   "name": "C#",
   "pygments_lexer": "csharp",
   "version": "8.0"
  }
 },
 "nbformat": 4,
 "nbformat_minor": 4
}
