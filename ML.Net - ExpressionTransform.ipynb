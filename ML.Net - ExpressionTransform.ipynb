{
 "cells": [
  {
   "cell_type": "markdown",
   "metadata": {},
   "source": [
    "# ML.Net - ExpressionTransform"
   ]
  },
  {
   "cell_type": "code",
   "execution_count": 1,
   "metadata": {},
   "outputs": [
    {
     "data": {
      "text/html": [
       "\r\n",
       "<div>\r\n",
       "    <div id='dotnet-interactive-this-cell-2524d364a5b247e0af4c00d13f811b93' style='display: none'>\r\n",
       "        The below script needs to be able to find the current output cell; this is an easy method to get it.\r\n",
       "    </div>\r\n",
       "    <script type='text/javascript'>\r\n",
       "// ensure `requirejs` is available globally\r\n",
       "if (typeof requirejs !== typeof Function || typeof requirejs.config !== typeof Function) {\r\n",
       "    let requirejs_script = document.createElement('script');\r\n",
       "    requirejs_script.setAttribute('src', 'https://cdnjs.cloudflare.com/ajax/libs/require.js/2.3.6/require.min.js');\r\n",
       "    requirejs_script.setAttribute('type', 'text/javascript');\r\n",
       "    requirejs_script.onload = function () {\r\n",
       "        loadDotnetInteractiveApi();\r\n",
       "    };\r\n",
       "\r\n",
       "    document.getElementsByTagName('head')[0].appendChild(requirejs_script);\r\n",
       "}\r\n",
       "else {\r\n",
       "    loadDotnetInteractiveApi();\r\n",
       "}\r\n",
       "\r\n",
       "async function probeAddresses(probingAddresses) {\r\n",
       "    function timeout(ms, promise) {\r\n",
       "        return new Promise(function (resolve, reject) {\r\n",
       "            setTimeout(function () {\r\n",
       "                reject(new Error('timeout'))\r\n",
       "            }, ms)\r\n",
       "            promise.then(resolve, reject)\r\n",
       "        })\r\n",
       "    }\r\n",
       "\r\n",
       "    if (Array.isArray(probingAddresses)) {\r\n",
       "        for (let i = 0; i < probingAddresses.length; i++) {\r\n",
       "\r\n",
       "            let rootUrl = probingAddresses[i];\r\n",
       "\r\n",
       "            if (!rootUrl.endsWith('/')) {\r\n",
       "                rootUrl = `${rootUrl}/`;\r\n",
       "            }\r\n",
       "\r\n",
       "            try {\r\n",
       "                let response = await timeout(1000, fetch(`${rootUrl}discovery`, {\r\n",
       "                    method: 'POST',\r\n",
       "                    timeout: 1000,\r\n",
       "                    headers: {\r\n",
       "                        'Content-Type': 'text/plain'\r\n",
       "                    },\r\n",
       "                    body: probingAddresses[i]\r\n",
       "                }));\r\n",
       "\r\n",
       "                if (response.status == 200) {\r\n",
       "                    return rootUrl;\r\n",
       "                }\r\n",
       "            }\r\n",
       "            catch (e) { }\r\n",
       "        }\r\n",
       "    }\r\n",
       "}\r\n",
       "\r\n",
       "function loadDotnetInteractiveApi() {\r\n",
       "    probeAddresses([\"http://10.0.0.101:1006/\", \"http://172.27.16.1:1006/\", \"http://172.30.16.1:1006/\", \"http://127.0.0.1:1006/\"])\r\n",
       "        .then((root) => {\r\n",
       "            // use probing to find host url and api resources\r\n",
       "            // load interactive helpers and language services\r\n",
       "            let dotnet_require = requirejs.config({\r\n",
       "                context: '26296.2524d364a5b247e0af4c00d13f811b93',\r\n",
       "                paths: {\r\n",
       "                    'dotnet-interactive': `${root}resources`\r\n",
       "                }\r\n",
       "            });\r\n",
       "            if (!window.dotnet_require) {\r\n",
       "                window.dotnet_require = dotnet_require;\r\n",
       "            }\r\n",
       "        \r\n",
       "            dotnet_require([\r\n",
       "                    'dotnet-interactive/dotnet-interactive'\r\n",
       "                ],\r\n",
       "                function (dotnet) {\r\n",
       "                    dotnet.init(window);\r\n",
       "                },\r\n",
       "                function (error) {\r\n",
       "                    console.log(error);\r\n",
       "                }\r\n",
       "            );\r\n",
       "        })\r\n",
       "        .catch(error => {console.log(error);});\r\n",
       "    }\r\n",
       "    </script>\r\n",
       "</div>"
      ]
     },
     "metadata": {},
     "output_type": "display_data"
    },
    {
     "data": {
      "text/plain": [
       "Installed package Microsoft.ML version 1.5.0"
      ]
     },
     "metadata": {},
     "output_type": "display_data"
    }
   ],
   "source": [
    "// ML.NET Nuget packages installation\n",
    "#r \"nuget:Microsoft.ML\" "
   ]
  },
  {
   "cell_type": "markdown",
   "metadata": {},
   "source": [
    "## Using C# Class"
   ]
  },
  {
   "cell_type": "code",
   "execution_count": 2,
   "metadata": {},
   "outputs": [],
   "source": [
    "using System;\n",
    "using Microsoft.ML;\n",
    "using Microsoft.ML.Data;"
   ]
  },
  {
   "cell_type": "markdown",
   "metadata": {},
   "source": [
    "## Declare data-classes for input data and predictions"
   ]
  },
  {
   "cell_type": "code",
   "execution_count": 3,
   "metadata": {},
   "outputs": [],
   "source": [
    "public class SalaryInput\n",
    "{\n",
    "    public float YearsExperience;\n",
    "\n",
    "    public bool IsManager;\n",
    "\n",
    "    public string Title;\n",
    "\n",
    "    public int NumberOfTeamsManaged;\n",
    "}\n",
    "\n",
    "public class ExpressionOutput\n",
    "{\n",
    "    public int TeamsManagedOutput { get; set; }\n",
    "    public float SquareRootOutput { get; set; }\n",
    "    public string ToLowerOutput { get; set; }\n",
    "}"
   ]
  },
  {
   "cell_type": "markdown",
   "metadata": {},
   "source": [
    "## Evaluate"
   ]
  },
  {
   "cell_type": "code",
   "execution_count": 4,
   "metadata": {},
   "outputs": [
    {
     "name": "stdout",
     "output_type": "stream",
     "text": [
      "Square Root - 1\n",
      "Teams Managed - 0\n",
      "To Lower - developer\n",
      "\n",
      "\n",
      "Square Root - 3\n",
      "Teams Managed - 2\n",
      "To Lower - director\n",
      "\n",
      "\n",
      "Square Root - 2\n",
      "Teams Managed - 0\n",
      "To Lower - analyst\n",
      "\n",
      "\n"
     ]
    }
   ],
   "source": [
    "var context = new MLContext();\n",
    "\n",
    "var inputData = new List<SalaryInput>\n",
    "{\n",
    "    new SalaryInput { IsManager = false, YearsExperience = 1f, Title = \"Developer\" },\n",
    "    new SalaryInput { IsManager = true, YearsExperience = 9f, Title = \"Director\", NumberOfTeamsManaged = 2 },\n",
    "    new SalaryInput { IsManager = false, YearsExperience = 4f, Title = \"Analyst\" }\n",
    "};\n",
    "\n",
    "var data = context.Data.LoadFromEnumerable(inputData);\n",
    "\n",
    "var expressions = context.Transforms.Expression(\"SquareRootOutput\", \"(x) => sqrt(x)\", \"YearsExperience\")\n",
    "    .Append(context.Transforms.Expression(\"TeamsManagedOutput\", \"(x, y) => x ? y : 0\", nameof(SalaryInput.IsManager), nameof(SalaryInput.NumberOfTeamsManaged)))\n",
    "    .Append(context.Transforms.Expression(\"ToLowerOutput\", \"(x) => lower(x)\", nameof(SalaryInput.Title)));\n",
    "\n",
    "var expressionsTransformed = expressions.Fit(data).Transform(data);\n",
    "\n",
    "var expressionsData = context.Data.CreateEnumerable<ExpressionOutput>(expressionsTransformed,\n",
    "    reuseRowObject: false);\n",
    "\n",
    "foreach (var expression in expressionsData)\n",
    "{\n",
    "    Console.WriteLine($\"Square Root - {expression.SquareRootOutput}\");\n",
    "    Console.WriteLine($\"Teams Managed - {expression.TeamsManagedOutput}\");\n",
    "    Console.WriteLine($\"To Lower - {expression.ToLowerOutput}\");\n",
    "    Console.WriteLine(Environment.NewLine);\n",
    "}\n",
    "\n",
    "Console.ReadLine();"
   ]
  }
 ],
 "metadata": {
  "kernelspec": {
   "display_name": ".NET (C#)",
   "language": "C#",
   "name": ".net-csharp"
  },
  "language_info": {
   "file_extension": ".cs",
   "mimetype": "text/x-csharp",
   "name": "C#",
   "pygments_lexer": "csharp",
   "version": "8.0"
  }
 },
 "nbformat": 4,
 "nbformat_minor": 4
}
