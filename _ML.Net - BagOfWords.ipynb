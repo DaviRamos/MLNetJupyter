{
 "cells": [
  {
   "cell_type": "markdown",
   "metadata": {},
   "source": [
    "# ML.Net - BagOfWords"
   ]
  },
  {
   "cell_type": "code",
   "execution_count": 1,
   "metadata": {},
   "outputs": [
    {
     "data": {
      "text/html": [
       "\r\n",
       "<div>\r\n",
       "    <div id='dotnet-interactive-this-cell-9b457106787c45cebfee3ed7693e23f2' style='display: none'>\r\n",
       "        The below script needs to be able to find the current output cell; this is an easy method to get it.\r\n",
       "    </div>\r\n",
       "    <script type='text/javascript'>\r\n",
       "// ensure `requirejs` is available globally\r\n",
       "if (typeof requirejs !== typeof Function || typeof requirejs.config !== typeof Function) {\r\n",
       "    let requirejs_script = document.createElement('script');\r\n",
       "    requirejs_script.setAttribute('src', 'https://cdnjs.cloudflare.com/ajax/libs/require.js/2.3.6/require.min.js');\r\n",
       "    requirejs_script.setAttribute('type', 'text/javascript');\r\n",
       "    requirejs_script.onload = function () {\r\n",
       "        loadDotnetInteractiveApi();\r\n",
       "    };\r\n",
       "\r\n",
       "    document.getElementsByTagName('head')[0].appendChild(requirejs_script);\r\n",
       "}\r\n",
       "else {\r\n",
       "    loadDotnetInteractiveApi();\r\n",
       "}\r\n",
       "\r\n",
       "async function probeAddresses(probingAddresses) {\r\n",
       "    function timeout(ms, promise) {\r\n",
       "        return new Promise(function (resolve, reject) {\r\n",
       "            setTimeout(function () {\r\n",
       "                reject(new Error('timeout'))\r\n",
       "            }, ms)\r\n",
       "            promise.then(resolve, reject)\r\n",
       "        })\r\n",
       "    }\r\n",
       "\r\n",
       "    if (Array.isArray(probingAddresses)) {\r\n",
       "        for (let i = 0; i < probingAddresses.length; i++) {\r\n",
       "\r\n",
       "            let rootUrl = probingAddresses[i];\r\n",
       "\r\n",
       "            if (!rootUrl.endsWith('/')) {\r\n",
       "                rootUrl = `${rootUrl}/`;\r\n",
       "            }\r\n",
       "\r\n",
       "            try {\r\n",
       "                let response = await timeout(1000, fetch(`${rootUrl}discovery`, {\r\n",
       "                    method: 'POST',\r\n",
       "                    timeout: 1000,\r\n",
       "                    headers: {\r\n",
       "                        'Content-Type': 'text/plain'\r\n",
       "                    },\r\n",
       "                    body: probingAddresses[i]\r\n",
       "                }));\r\n",
       "\r\n",
       "                if (response.status == 200) {\r\n",
       "                    return rootUrl;\r\n",
       "                }\r\n",
       "            }\r\n",
       "            catch (e) { }\r\n",
       "        }\r\n",
       "    }\r\n",
       "}\r\n",
       "\r\n",
       "function loadDotnetInteractiveApi() {\r\n",
       "    probeAddresses([\"http://10.0.0.101:1015/\", \"http://172.27.16.1:1015/\", \"http://172.30.16.1:1015/\", \"http://127.0.0.1:1015/\"])\r\n",
       "        .then((root) => {\r\n",
       "            // use probing to find host url and api resources\r\n",
       "            // load interactive helpers and language services\r\n",
       "            let dotnet_require = requirejs.config({\r\n",
       "                context: '30116.9b457106787c45cebfee3ed7693e23f2',\r\n",
       "                paths: {\r\n",
       "                    'dotnet-interactive': `${root}resources`\r\n",
       "                }\r\n",
       "            });\r\n",
       "            if (!window.dotnet_require) {\r\n",
       "                window.dotnet_require = dotnet_require;\r\n",
       "            }\r\n",
       "        \r\n",
       "            dotnet_require([\r\n",
       "                    'dotnet-interactive/dotnet-interactive'\r\n",
       "                ],\r\n",
       "                function (dotnet) {\r\n",
       "                    dotnet.init(window);\r\n",
       "                },\r\n",
       "                function (error) {\r\n",
       "                    console.log(error);\r\n",
       "                }\r\n",
       "            );\r\n",
       "        })\r\n",
       "        .catch(error => {console.log(error);});\r\n",
       "    }\r\n",
       "    </script>\r\n",
       "</div>"
      ]
     },
     "metadata": {},
     "output_type": "display_data"
    },
    {
     "data": {
      "text/plain": [
       "Installed package Microsoft.ML version 1.5.0"
      ]
     },
     "metadata": {},
     "output_type": "display_data"
    }
   ],
   "source": [
    "// ML.NET Nuget packages installation\n",
    "#r \"nuget:Microsoft.ML\" "
   ]
  },
  {
   "cell_type": "markdown",
   "metadata": {},
   "source": [
    "## Using C# Class"
   ]
  },
  {
   "cell_type": "code",
   "execution_count": 2,
   "metadata": {
    "scrolled": true
   },
   "outputs": [],
   "source": [
    "using Microsoft.ML;\n",
    "using Microsoft.ML.Data;\n",
    "using System;\n",
    "using System.Collections.Generic;"
   ]
  },
  {
   "cell_type": "markdown",
   "metadata": {},
   "source": [
    "## Declare data-classes for input data and predictions"
   ]
  },
  {
   "cell_type": "code",
   "execution_count": 3,
   "metadata": {},
   "outputs": [],
   "source": [
    "public class Output\n",
    "{\n",
    "    public float[] BagOfWords { get; set; }\n",
    "}\n",
    "    \n",
    "internal class Input\n",
    "{\n",
    "    public string Text { get; set; }\n",
    "}"
   ]
  },
  {
   "cell_type": "code",
   "execution_count": 4,
   "metadata": {},
   "outputs": [
    {
     "ename": "Unhandled exception",
     "evalue": "(29,1): error CS8345: O campo ou a propriedade autoimplementada não pode ser do tipo 'ReadOnlySpan<ReadOnlyMemory<char>>', a menos que seja um membro de instância de uma struct de referência.",
     "output_type": "error",
     "traceback": [
      "(29,1): error CS8345: O campo ou a propriedade autoimplementada não pode ser do tipo 'ReadOnlySpan<ReadOnlyMemory<char>>', a menos que seja um membro de instância de uma struct de referência."
     ]
    }
   ],
   "source": [
    "var context = new MLContext();\n",
    "\n",
    "var data = new List<Input>\n",
    "{\n",
    "    new Input { Text = \"I really enjoy programming in C#. And I really like it.\" }\n",
    "};\n",
    "\n",
    "var dataView = context.Data.LoadFromEnumerable(data);\n",
    "\n",
    "var bagWordsPipeline = context.Transforms.Text.ProduceWordBags(\n",
    "        \"BagOfWords\",\n",
    "        \"Text\",\n",
    "        ngramLength: 1,\n",
    "        useAllLengths: false,\n",
    "        weighting: Microsoft.ML.Transforms.Text.NgramExtractingEstimator.WeightingCriteria.Tf\n",
    "    );\n",
    "\n",
    "var bagWordsTransform = bagWordsPipeline.Fit(dataView);\n",
    "var bagWordsDataView = bagWordsTransform.Transform(dataView);\n",
    "\n",
    "var predictionEngine = context.Model.CreatePredictionEngine<Input, Output>(bagWordsTransform);\n",
    "\n",
    "var prediction = predictionEngine.Predict(data[0]);\n",
    "\n",
    "VBuffer<ReadOnlyMemory<char>> slotNames = default;\n",
    "bagWordsDataView.Schema[\"BagOfWords\"].GetSlotNames(ref slotNames);\n",
    "\n",
    "var bagOfWordColumn = bagWordsDataView.GetColumn<VBuffer<float>>(bagWordsDataView.Schema[\"BagOfWords\"]);\n",
    "var slots = slotNames.GetValues();\n",
    "\n",
    "Console.Write(\"NGrams: \");\n",
    "foreach (var featureRow in bagOfWordColumn)\n",
    "{\n",
    "    foreach (var item in featureRow.Items())\n",
    "    {\n",
    "        Console.Write($\"{slots[item.Key]}  \");\n",
    "    }\n",
    "\n",
    "    Console.WriteLine();\n",
    "}\n",
    "\n",
    "Console.Write(\"Word Counts: \");\n",
    "for (int i = 0; i < prediction.BagOfWords.Length; i++)\n",
    "{\n",
    "    Console.Write($\"{prediction.BagOfWords[i]:F4}  \");\n",
    "}\n",
    "\n",
    "Console.WriteLine(Environment.NewLine);"
   ]
  },
  {
   "cell_type": "code",
   "execution_count": null,
   "metadata": {},
   "outputs": [],
   "source": []
  }
 ],
 "metadata": {
  "kernelspec": {
   "display_name": ".NET (C#)",
   "language": "C#",
   "name": ".net-csharp"
  },
  "language_info": {
   "file_extension": ".cs",
   "mimetype": "text/x-csharp",
   "name": "C#",
   "pygments_lexer": "csharp",
   "version": "8.0"
  }
 },
 "nbformat": 4,
 "nbformat_minor": 4
}
