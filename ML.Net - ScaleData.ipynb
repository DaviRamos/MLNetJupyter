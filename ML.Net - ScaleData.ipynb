{
 "cells": [
  {
   "cell_type": "markdown",
   "metadata": {},
   "source": [
    "# ML.Net - ScaleData"
   ]
  },
  {
   "cell_type": "code",
   "execution_count": 1,
   "metadata": {},
   "outputs": [
    {
     "data": {
      "text/html": [
       "\r\n",
       "<div>\r\n",
       "    <div id='dotnet-interactive-this-cell-bff403ad350a46f1894d59bf2ab6b533' style='display: none'>\r\n",
       "        The below script needs to be able to find the current output cell; this is an easy method to get it.\r\n",
       "    </div>\r\n",
       "    <script type='text/javascript'>\r\n",
       "// ensure `requirejs` is available globally\r\n",
       "if (typeof requirejs !== typeof Function || typeof requirejs.config !== typeof Function) {\r\n",
       "    let requirejs_script = document.createElement('script');\r\n",
       "    requirejs_script.setAttribute('src', 'https://cdnjs.cloudflare.com/ajax/libs/require.js/2.3.6/require.min.js');\r\n",
       "    requirejs_script.setAttribute('type', 'text/javascript');\r\n",
       "    requirejs_script.onload = function () {\r\n",
       "        loadDotnetInteractiveApi();\r\n",
       "    };\r\n",
       "\r\n",
       "    document.getElementsByTagName('head')[0].appendChild(requirejs_script);\r\n",
       "}\r\n",
       "else {\r\n",
       "    loadDotnetInteractiveApi();\r\n",
       "}\r\n",
       "\r\n",
       "async function probeAddresses(probingAddresses) {\r\n",
       "    function timeout(ms, promise) {\r\n",
       "        return new Promise(function (resolve, reject) {\r\n",
       "            setTimeout(function () {\r\n",
       "                reject(new Error('timeout'))\r\n",
       "            }, ms)\r\n",
       "            promise.then(resolve, reject)\r\n",
       "        })\r\n",
       "    }\r\n",
       "\r\n",
       "    if (Array.isArray(probingAddresses)) {\r\n",
       "        for (let i = 0; i < probingAddresses.length; i++) {\r\n",
       "\r\n",
       "            let rootUrl = probingAddresses[i];\r\n",
       "\r\n",
       "            if (!rootUrl.endsWith('/')) {\r\n",
       "                rootUrl = `${rootUrl}/`;\r\n",
       "            }\r\n",
       "\r\n",
       "            try {\r\n",
       "                let response = await timeout(1000, fetch(`${rootUrl}discovery`, {\r\n",
       "                    method: 'POST',\r\n",
       "                    timeout: 1000,\r\n",
       "                    headers: {\r\n",
       "                        'Content-Type': 'text/plain'\r\n",
       "                    },\r\n",
       "                    body: probingAddresses[i]\r\n",
       "                }));\r\n",
       "\r\n",
       "                if (response.status == 200) {\r\n",
       "                    return rootUrl;\r\n",
       "                }\r\n",
       "            }\r\n",
       "            catch (e) { }\r\n",
       "        }\r\n",
       "    }\r\n",
       "}\r\n",
       "\r\n",
       "function loadDotnetInteractiveApi() {\r\n",
       "    probeAddresses([\"http://10.0.0.101:1009/\", \"http://172.27.16.1:1009/\", \"http://172.30.16.1:1009/\", \"http://127.0.0.1:1009/\"])\r\n",
       "        .then((root) => {\r\n",
       "            // use probing to find host url and api resources\r\n",
       "            // load interactive helpers and language services\r\n",
       "            let dotnet_require = requirejs.config({\r\n",
       "                context: '4956.bff403ad350a46f1894d59bf2ab6b533',\r\n",
       "                paths: {\r\n",
       "                    'dotnet-interactive': `${root}resources`\r\n",
       "                }\r\n",
       "            });\r\n",
       "            if (!window.dotnet_require) {\r\n",
       "                window.dotnet_require = dotnet_require;\r\n",
       "            }\r\n",
       "        \r\n",
       "            dotnet_require([\r\n",
       "                    'dotnet-interactive/dotnet-interactive'\r\n",
       "                ],\r\n",
       "                function (dotnet) {\r\n",
       "                    dotnet.init(window);\r\n",
       "                },\r\n",
       "                function (error) {\r\n",
       "                    console.log(error);\r\n",
       "                }\r\n",
       "            );\r\n",
       "        })\r\n",
       "        .catch(error => {console.log(error);});\r\n",
       "    }\r\n",
       "    </script>\r\n",
       "</div>"
      ]
     },
     "metadata": {},
     "output_type": "display_data"
    },
    {
     "data": {
      "text/plain": [
       "Installed package Microsoft.ML version 1.5.0"
      ]
     },
     "metadata": {},
     "output_type": "display_data"
    }
   ],
   "source": [
    "// ML.NET Nuget packages installation\n",
    "#r \"nuget:Microsoft.ML\" "
   ]
  },
  {
   "cell_type": "markdown",
   "metadata": {},
   "source": [
    "## Using C# Class"
   ]
  },
  {
   "cell_type": "code",
   "execution_count": 6,
   "metadata": {},
   "outputs": [],
   "source": [
    "using System;\n",
    "using Microsoft.ML;\n",
    "using Microsoft.ML.Data;"
   ]
  },
  {
   "cell_type": "markdown",
   "metadata": {},
   "source": [
    "## Declare data-classes for input data and predictions"
   ]
  },
  {
   "cell_type": "code",
   "execution_count": 7,
   "metadata": {},
   "outputs": [],
   "source": [
    "public class HousingData\n",
    "{\n",
    "    [LoadColumn(0)]\n",
    "    public float Longitude { get; set; }\n",
    "\n",
    "    [LoadColumn(1)]\n",
    "    public float Latitude { get; set; }\n",
    "\n",
    "    [LoadColumn(2)]\n",
    "    public float HousingMedianAge { get; set; }\n",
    "\n",
    "    [LoadColumn(3)]\n",
    "    public float TotalRooms { get; set; }\n",
    "\n",
    "    [LoadColumn(4)]\n",
    "    public float TotalBedrooms { get; set; }\n",
    "\n",
    "    [LoadColumn(5)]\n",
    "    public float Population { get; set; }\n",
    "\n",
    "    [LoadColumn(6)]\n",
    "    public float Households { get; set; }\n",
    "\n",
    "    [LoadColumn(7)]\n",
    "    public float MedianIncome { get; set; }\n",
    "\n",
    "    [LoadColumn(8), ColumnName(\"Label\")]\n",
    "    public float MedianHouseValue { get; set; }\n",
    "\n",
    "    [LoadColumn(9)]\n",
    "    public string OceanProximity { get; set; }\n",
    "}\n",
    "\n",
    "public class HousingPrediction\n",
    "{\n",
    "    [ColumnName(\"Score\")]\n",
    "    public float PredictedHouseValue { get; set; }\n",
    "}"
   ]
  },
  {
   "cell_type": "markdown",
   "metadata": {},
   "source": [
    "## Evaluate"
   ]
  },
  {
   "cell_type": "code",
   "execution_count": 8,
   "metadata": {},
   "outputs": [
    {
     "name": "stdout",
     "output_type": "stream",
     "text": [
      "Prediction - 259222,4\n"
     ]
    }
   ],
   "source": [
    "var context = new MLContext();\n",
    "\n",
    "var data = context.Data.LoadFromTextFile<HousingData>(\"./datasets/housing/housing.csv\", hasHeader: true, separatorChar: ',');\n",
    "\n",
    "var columns = data.Schema\n",
    "    .Select(col => col.Name)\n",
    "    .Where(col => col != \"Label\" && col != \"OceanProximity\")\n",
    "    .Select(col => new InputOutputColumnPair(col, col))\n",
    "    .ToArray();\n",
    "\n",
    "var scaling = context.Transforms.NormalizeMinMax(columns);\n",
    "\n",
    "var dataScaled = scaling.Fit(data).Transform(data);\n",
    "\n",
    "var features = columns.Select(col => col.OutputColumnName).ToArray();\n",
    "\n",
    "var preview = dataScaled.Preview();\n",
    "\n",
    "var pipeline = context.Transforms.Text.FeaturizeText(\"Text\", \"OceanProximity\")\n",
    "    .Append(context.Transforms.Concatenate(\"Features\", features))\n",
    "    .Append(context.Transforms.Concatenate(\"Features\", \"Text\"))\n",
    "    .Append(context.Regression.Trainers.LbfgsPoissonRegression());\n",
    "\n",
    "var model = pipeline.Fit(dataScaled);\n",
    "\n",
    "var predictionFunc = context.Model.CreatePredictionEngine<HousingData, HousingPrediction>(model);\n",
    "\n",
    "var prediction = predictionFunc.Predict(new HousingData\n",
    "{\n",
    "    Longitude = -122.25f,\n",
    "    Latitude = 37.85f,\n",
    "    HousingMedianAge = 55.0f,\n",
    "    TotalRooms = 1627.0f,\n",
    "    TotalBedrooms = 235.0f,\n",
    "    Population = 322.0f,\n",
    "    Households = 120.0f,\n",
    "    MedianIncome = 8.3014f,\n",
    "    OceanProximity = \"NEAR BAY\"\n",
    "});\n",
    "\n",
    "Console.WriteLine($\"Prediction - {prediction.PredictedHouseValue}\");\n",
    "\n",
    "Console.ReadLine();"
   ]
  },
  {
   "cell_type": "code",
   "execution_count": null,
   "metadata": {},
   "outputs": [],
   "source": []
  }
 ],
 "metadata": {
  "kernelspec": {
   "display_name": ".NET (C#)",
   "language": "C#",
   "name": ".net-csharp"
  },
  "language_info": {
   "file_extension": ".cs",
   "mimetype": "text/x-csharp",
   "name": "C#",
   "pygments_lexer": "csharp",
   "version": "8.0"
  }
 },
 "nbformat": 4,
 "nbformat_minor": 4
}
