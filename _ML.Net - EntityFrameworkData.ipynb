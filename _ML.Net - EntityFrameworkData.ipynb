{
 "cells": [
  {
   "cell_type": "markdown",
   "metadata": {},
   "source": [
    "# ML.Net - EntityFrameworkData"
   ]
  },
  {
   "cell_type": "code",
   "execution_count": 12,
   "metadata": {},
   "outputs": [
    {
     "data": {
      "text/plain": [
       "Installed package Microsoft.EntityFrameworkCore.SqlServer version 3.1.5"
      ]
     },
     "metadata": {},
     "output_type": "display_data"
    },
    {
     "data": {
      "text/plain": [
       "Installing package Microsoft.EntityFrameworkCore.Tools..."
      ]
     },
     "metadata": {},
     "output_type": "display_data"
    }
   ],
   "source": [
    "// ML.NET Nuget packages installation\n",
    "#r \"nuget:Microsoft.ML\" \n",
    "#r \"nuget:Microsoft.EntityFrameworkCore\" \n",
    "#r \"nuget:Microsoft.EntityFrameworkCore\" \n",
    "#r \"nuget:Microsoft.EntityFrameworkCore.InMemory\" \n",
    "#r \"nuget:Microsoft.EntityFrameworkCore.Tools\" \n",
    "#r \"nuget:Microsoft.EntityFrameworkCore.SqlServer\" "
   ]
  },
  {
   "cell_type": "markdown",
   "metadata": {},
   "source": [
    "## Using C# Class"
   ]
  },
  {
   "cell_type": "code",
   "execution_count": 18,
   "metadata": {},
   "outputs": [],
   "source": [
    "using Microsoft.EntityFrameworkCore;\n",
    "using Microsoft.ML;\n",
    "using Microsoft.ML.Data;\n",
    "using System;\n",
    "using System.Collections.Generic;\n",
    "using System.IO;\n",
    "using System.Linq;"
   ]
  },
  {
   "cell_type": "markdown",
   "metadata": {},
   "source": [
    "## Declare data-classes for input data and predictions"
   ]
  },
  {
   "cell_type": "code",
   "execution_count": 14,
   "metadata": {},
   "outputs": [],
   "source": [
    "public class SalaryData\n",
    "{\n",
    "    public int SalaryDataId { get; set; }\n",
    "    public float YearsExperience { get; set; }\n",
    "\n",
    "    public float Salary { get; set; }\n",
    "}\n",
    "\n",
    "public class SalaryPrediction\n",
    "{\n",
    "    [ColumnName(\"Score\")]\n",
    "    public float PredictedSalary;\n",
    "}"
   ]
  },
  {
   "cell_type": "code",
   "execution_count": 16,
   "metadata": {},
   "outputs": [],
   "source": [
    "public partial class MLNetExampleContext : DbContext\n",
    "{\n",
    "    public DbSet<SalaryData> Salaries { get; set; }\n",
    "\n",
    "    public MLNetExampleContext(DbContextOptions<MLNetExampleContext> options)\n",
    "        : base(options)\n",
    "    {\n",
    "    }\n",
    "\n",
    "    protected override void OnConfiguring(DbContextOptionsBuilder optionsBuilder)\n",
    "    {\n",
    "        if (!optionsBuilder.IsConfigured)\n",
    "        {\n",
    "            optionsBuilder.UseSqlServer(\"Server=(localdb)\\\\mssqllocaldb;Database=EFProviders.InMemory;Trusted_Connection=True;ConnectRetryCount=0\");\n",
    "        }\n",
    "    }\n",
    "}"
   ]
  },
  {
   "cell_type": "code",
   "execution_count": null,
   "metadata": {},
   "outputs": [],
   "source": []
  },
  {
   "cell_type": "code",
   "execution_count": 19,
   "metadata": {},
   "outputs": [],
   "source": [
    "private static IEnumerable<SalaryData> WriteAndReadToDatabase(IEnumerable<SalaryData> fileData)\n",
    "{\n",
    "    var options = new DbContextOptionsBuilder<MLNetExampleContext>()\n",
    "                    .UseInMemoryDatabase(databaseName: \"TestData\")\n",
    "                    .Options;\n",
    "\n",
    "    using (var context = new MLNetExampleContext(options))\n",
    "    {\n",
    "        foreach (var item in fileData)\n",
    "        {\n",
    "            context.Salaries.Add(item);\n",
    "        }\n",
    "\n",
    "        var count = context.SaveChanges();\n",
    "\n",
    "        return context.Salaries.ToList();\n",
    "    }\n",
    "}\n",
    "\n",
    "private static IEnumerable<SalaryData> ReadFromFile(string filePath)\n",
    "{\n",
    "    var data = File.ReadAllLines(filePath)\n",
    "        .Skip(1)\n",
    "        .Select(l => l.Split(','))\n",
    "        .Select(i => new SalaryData\n",
    "        {\n",
    "            YearsExperience = float.Parse(i[0]),\n",
    "            Salary = float.Parse(i[1])\n",
    "        });\n",
    "\n",
    "    return data;\n",
    "}"
   ]
  },
  {
   "cell_type": "markdown",
   "metadata": {},
   "source": [
    "## Evaluate"
   ]
  },
  {
   "cell_type": "code",
   "execution_count": 21,
   "metadata": {},
   "outputs": [
    {
     "ename": "Unhandled exception",
     "evalue": "(11,40): error CS1061: ‘RegressionCatalog’ não contém uma definição para \"TrainTestSplit\" e não foi possível encontrar nenhum método de extensão \"TrainTestSplit\" que aceite um primeiro argumento do tipo ‘RegressionCatalog’ (você está se esquecendo de usar uma diretiva ou uma referência de assembly?)\r\n(14,32): error CS7036: Não há nenhum argumento fornecido que corresponde ao parâmetro formal necessário \"inputColumnName\" de \"TransformExtensionsCatalog.CopyColumns(TransformsCatalog, string, string)\"\r\n(15,41): error CS1061: ‘RegressionCatalog.RegressionTrainers’ não contém uma definição para \"FastTree\" e não foi possível encontrar nenhum método de extensão \"FastTree\" que aceite um primeiro argumento do tipo ‘RegressionCatalog.RegressionTrainers’ (você está se esquecendo de usar uma diretiva ou uma referência de assembly?)\r\n(23,28): error CS1061: ‘TransformerChain<TNewTrans>’ não contém uma definição para \"CreatePredictionEngine\" e não foi possível encontrar nenhum método de extensão \"CreatePredictionEngine\" que aceite um primeiro argumento do tipo ‘TransformerChain<TNewTrans>’ (você está se esquecendo de usar uma diretiva ou uma referência de assembly?)",
     "output_type": "error",
     "traceback": [
      "(11,40): error CS1061: ‘RegressionCatalog’ não contém uma definição para \"TrainTestSplit\" e não foi possível encontrar nenhum método de extensão \"TrainTestSplit\" que aceite um primeiro argumento do tipo ‘RegressionCatalog’ (você está se esquecendo de usar uma diretiva ou uma referência de assembly?)\r\n(14,32): error CS7036: Não há nenhum argumento fornecido que corresponde ao parâmetro formal necessário \"inputColumnName\" de \"TransformExtensionsCatalog.CopyColumns(TransformsCatalog, string, string)\"\r\n(15,41): error CS1061: ‘RegressionCatalog.RegressionTrainers’ não contém uma definição para \"FastTree\" e não foi possível encontrar nenhum método de extensão \"FastTree\" que aceite um primeiro argumento do tipo ‘RegressionCatalog.RegressionTrainers’ (você está se esquecendo de usar uma diretiva ou uma referência de assembly?)\r\n(23,28): error CS1061: ‘TransformerChain<TNewTrans>’ não contém uma definição para \"CreatePredictionEngine\" e não foi possível encontrar nenhum método de extensão \"CreatePredictionEngine\" que aceite um primeiro argumento do tipo ‘TransformerChain<TNewTrans>’ (você está se esquecendo de usar uma diretiva ou uma referência de assembly?)"
     ]
    }
   ],
   "source": [
    "private static IEnumerable<SalaryData> data;\n",
    "\n",
    "var fileData = ReadFromFile(\"./datasets/salary/SalaryData.csv\");\n",
    "\n",
    "data = WriteAndReadToDatabase(fileData);\n",
    "\n",
    "var context = new MLContext();\n",
    "\n",
    "var mlData = context.Data.LoadFromEnumerable(data);\n",
    "\n",
    "var trainTestData = context.Regression.TrainTestSplit(mlData);\n",
    "\n",
    "var pipeline = context.Transforms.Concatenate(\"Features\", \"YearsExperience\")\n",
    "    .Append(context.Transforms.CopyColumns((\"Label\", \"Salary\")))\n",
    "    .Append(context.Regression.Trainers.FastTree());\n",
    "\n",
    "var model = pipeline.Fit(trainTestData.TrainSet);\n",
    "\n",
    "var prediction = model.Transform(trainTestData.TestSet);\n",
    "\n",
    "var metrics = context.Regression.Evaluate(prediction);\n",
    "\n",
    "var predictionFunc = model.CreatePredictionEngine<SalaryData, SalaryPrediction>(context);\n",
    "\n",
    "var salaryPrediction = predictionFunc.Predict(new SalaryData { YearsExperience = 11 });\n",
    "\n",
    "Console.WriteLine($\"Prediction - {salaryPrediction.PredictedSalary}\");\n",
    "Console.ReadLine();"
   ]
  },
  {
   "cell_type": "code",
   "execution_count": null,
   "metadata": {},
   "outputs": [],
   "source": []
  }
 ],
 "metadata": {
  "kernelspec": {
   "display_name": ".NET (C#)",
   "language": "C#",
   "name": ".net-csharp"
  },
  "language_info": {
   "file_extension": ".cs",
   "mimetype": "text/x-csharp",
   "name": "C#",
   "pygments_lexer": "csharp",
   "version": "8.0"
  }
 },
 "nbformat": 4,
 "nbformat_minor": 4
}
