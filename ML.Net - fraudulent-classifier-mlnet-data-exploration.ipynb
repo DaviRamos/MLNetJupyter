{
 "cells": [
  {
   "cell_type": "markdown",
   "metadata": {},
   "source": [
    "# ML.Net - Fraudulent Classifier Data Exploration"
   ]
  },
  {
   "cell_type": "code",
   "execution_count": 1,
   "metadata": {},
   "outputs": [
    {
     "data": {
      "text/html": [
       "\r\n",
       "<div>\r\n",
       "    <div id='dotnet-interactive-this-cell-10c0245888954b4599d36d98265b12c0' style='display: none'>\r\n",
       "        The below script needs to be able to find the current output cell; this is an easy method to get it.\r\n",
       "    </div>\r\n",
       "    <script type='text/javascript'>\r\n",
       "// ensure `requirejs` is available globally\r\n",
       "if (typeof requirejs !== typeof Function || typeof requirejs.config !== typeof Function) {\r\n",
       "    let requirejs_script = document.createElement('script');\r\n",
       "    requirejs_script.setAttribute('src', 'https://cdnjs.cloudflare.com/ajax/libs/require.js/2.3.6/require.min.js');\r\n",
       "    requirejs_script.setAttribute('type', 'text/javascript');\r\n",
       "    requirejs_script.onload = function () {\r\n",
       "        loadDotnetInteractiveApi();\r\n",
       "    };\r\n",
       "\r\n",
       "    document.getElementsByTagName('head')[0].appendChild(requirejs_script);\r\n",
       "}\r\n",
       "else {\r\n",
       "    loadDotnetInteractiveApi();\r\n",
       "}\r\n",
       "\r\n",
       "async function probeAddresses(probingAddresses) {\r\n",
       "    function timeout(ms, promise) {\r\n",
       "        return new Promise(function (resolve, reject) {\r\n",
       "            setTimeout(function () {\r\n",
       "                reject(new Error('timeout'))\r\n",
       "            }, ms)\r\n",
       "            promise.then(resolve, reject)\r\n",
       "        })\r\n",
       "    }\r\n",
       "\r\n",
       "    if (Array.isArray(probingAddresses)) {\r\n",
       "        for (let i = 0; i < probingAddresses.length; i++) {\r\n",
       "\r\n",
       "            let rootUrl = probingAddresses[i];\r\n",
       "\r\n",
       "            if (!rootUrl.endsWith('/')) {\r\n",
       "                rootUrl = `${rootUrl}/`;\r\n",
       "            }\r\n",
       "\r\n",
       "            try {\r\n",
       "                let response = await timeout(1000, fetch(`${rootUrl}discovery`, {\r\n",
       "                    method: 'POST',\r\n",
       "                    timeout: 1000,\r\n",
       "                    headers: {\r\n",
       "                        'Content-Type': 'text/plain'\r\n",
       "                    },\r\n",
       "                    body: probingAddresses[i]\r\n",
       "                }));\r\n",
       "\r\n",
       "                if (response.status == 200) {\r\n",
       "                    return rootUrl;\r\n",
       "                }\r\n",
       "            }\r\n",
       "            catch (e) { }\r\n",
       "        }\r\n",
       "    }\r\n",
       "}\r\n",
       "\r\n",
       "function loadDotnetInteractiveApi() {\r\n",
       "    probeAddresses([\"http://172.18.128.1:1005/\", \"http://10.0.0.101:1005/\", \"http://172.21.192.1:1005/\", \"http://127.0.0.1:1005/\"])\r\n",
       "        .then((root) => {\r\n",
       "            // use probing to find host url and api resources\r\n",
       "            // load interactive helpers and language services\r\n",
       "            let dotnet_require = requirejs.config({\r\n",
       "                context: '18740.10c0245888954b4599d36d98265b12c0',\r\n",
       "                paths: {\r\n",
       "                    'dotnet-interactive': `${root}resources`\r\n",
       "                }\r\n",
       "            });\r\n",
       "            if (!window.dotnet_require) {\r\n",
       "                window.dotnet_require = dotnet_require;\r\n",
       "            }\r\n",
       "        \r\n",
       "            dotnet_require([\r\n",
       "                    'dotnet-interactive/dotnet-interactive'\r\n",
       "                ],\r\n",
       "                function (dotnet) {\r\n",
       "                    dotnet.init(window);\r\n",
       "                },\r\n",
       "                function (error) {\r\n",
       "                    console.log(error);\r\n",
       "                }\r\n",
       "            );\r\n",
       "        })\r\n",
       "        .catch(error => {console.log(error);});\r\n",
       "    }\r\n",
       "    </script>\r\n",
       "</div>"
      ]
     },
     "metadata": {},
     "output_type": "display_data"
    },
    {
     "data": {
      "text/plain": [
       "Installed package Microsoft.ML version 1.5.0"
      ]
     },
     "metadata": {},
     "output_type": "display_data"
    },
    {
     "data": {
      "text/plain": [
       "Installed package XPlot.Plotly version 3.0.1"
      ]
     },
     "metadata": {},
     "output_type": "display_data"
    }
   ],
   "source": [
    "// ML.NET Nuget packages \n",
    "#r \"nuget:Microsoft.ML\"  \n",
    "    \n",
    "//Install XPlot package\n",
    "#r \"nuget:XPlot.Plotly\""
   ]
  },
  {
   "cell_type": "code",
   "execution_count": 2,
   "metadata": {},
   "outputs": [],
   "source": [
    "using System.IO;\n",
    "using System.Net.Http;\n",
    "\n",
    "string dataPath = \"data.csv\";\n",
    "if (!File.Exists(dataPath))\n",
    "{\n",
    "    var contents = new HttpClient().GetStringAsync(\"http://bit.ly/2NDquHE\").Result;       \n",
    "    File.WriteAllText(dataPath, contents);\n",
    "}"
   ]
  },
  {
   "cell_type": "code",
   "execution_count": 3,
   "metadata": {},
   "outputs": [],
   "source": [
    "using Microsoft.ML;\n",
    "using Microsoft.ML.Data;\n",
    "using XPlot.Plotly;\n",
    "\n",
    "public class Transaction\n",
    "{\n",
    "    [ColumnName(\"step\"), LoadColumn(0)]\n",
    "    public float Step { get; set; }\n",
    "\n",
    "    [ColumnName(\"type\"), LoadColumn(1)]\n",
    "    public string Type { get; set; }\n",
    "\n",
    "    [ColumnName(\"amount\"), LoadColumn(2)]\n",
    "    public float Amount { get; set; }\n",
    "\n",
    "    [ColumnName(\"nameOrig\"), LoadColumn(3)]\n",
    "    public string NameOrig { get; set; }\n",
    "\n",
    "    [ColumnName(\"oldbalanceOrg\"), LoadColumn(4)]\n",
    "    public float OldbalanceOrg { get; set; }\n",
    "\n",
    "    [ColumnName(\"newbalanceOrig\"), LoadColumn(5)]\n",
    "    public float NewbalanceOrig { get; set; }\n",
    "\n",
    "    [ColumnName(\"nameDest\"), LoadColumn(6)]\n",
    "    public string NameDest { get; set; }\n",
    "\n",
    "    [ColumnName(\"oldbalanceDest\"), LoadColumn(7)]\n",
    "    public float OldbalanceDest { get; set; }\n",
    "\n",
    "    [ColumnName(\"newbalanceDest\"), LoadColumn(8)]\n",
    "    public float NewbalanceDest { get; set; }\n",
    "\n",
    "    [ColumnName(\"isFraud\"), LoadColumn(9)]\n",
    "    public bool IsFraud { get; set; }\n",
    "\n",
    "    [ColumnName(\"isFlaggedFraud\"), LoadColumn(10)]\n",
    "    public float IsFlaggedFraud { get; set; }\n",
    "}"
   ]
  },
  {
   "cell_type": "code",
   "execution_count": 4,
   "metadata": {},
   "outputs": [],
   "source": [
    "var mlContext = new MLContext();\n",
    "\n",
    "var dataView = mlContext.Data.LoadFromTextFile<Transaction>(dataPath, hasHeader: true, separatorChar: ',');"
   ]
  },
  {
   "cell_type": "code",
   "execution_count": 5,
   "metadata": {},
   "outputs": [
    {
     "data": {
      "text/html": [
       "<table><thead><tr><th><i>index</i></th><th>Step</th><th>Type</th><th>Amount</th><th>NameOrig</th><th>OldbalanceOrg</th><th>NewbalanceOrig</th><th>NameDest</th><th>OldbalanceDest</th><th>NewbalanceDest</th><th>IsFraud</th><th>IsFlaggedFraud</th></tr></thead><tbody><tr><td>0</td><td>1</td><td>PAYMENT</td><td>9839.64</td><td>C1231006815</td><td>170136</td><td>160296.36</td><td>M1979787155</td><td>0</td><td>0</td><td>False</td><td>0</td></tr><tr><td>1</td><td>1</td><td>PAYMENT</td><td>1864.28</td><td>C1666544295</td><td>21249</td><td>19384.72</td><td>M2044282225</td><td>0</td><td>0</td><td>False</td><td>0</td></tr><tr><td>2</td><td>1</td><td>TRANSFER</td><td>181</td><td>C1305486145</td><td>181</td><td>0</td><td>C553264065</td><td>0</td><td>0</td><td>True</td><td>0</td></tr><tr><td>3</td><td>1</td><td>CASH_OUT</td><td>181</td><td>C840083671</td><td>181</td><td>0</td><td>C38997010</td><td>21182</td><td>0</td><td>True</td><td>0</td></tr><tr><td>4</td><td>1</td><td>PAYMENT</td><td>11668.14</td><td>C2048537720</td><td>41554</td><td>29885.86</td><td>M1230701703</td><td>0</td><td>0</td><td>False</td><td>0</td></tr></tbody></table>"
      ]
     },
     "metadata": {},
     "output_type": "display_data"
    }
   ],
   "source": [
    "var rows = mlContext.Data.CreateEnumerable<Transaction>(dataView, reuseRowObject: false)\n",
    "                    .Take(5)\n",
    "                    .ToList();\n",
    "\n",
    "display(rows);"
   ]
  },
  {
   "cell_type": "code",
   "execution_count": 6,
   "metadata": {},
   "outputs": [
    {
     "data": {
      "text/html": [
       "<div id=\"084f93a3-86f2-4bf6-8e2d-3102da8a0aef\" style=\"width: 900px; height: 500px;\"></div>\r\n",
       "<script type=\"text/javascript\">\r\n",
       "\r\n",
       "var renderPlotly = function() {\r\n",
       "    var xplotRequire = requirejs.config({context:'xplot-3.0.1',paths:{plotly:'https://cdn.plot.ly/plotly-1.49.2.min'}});\r\n",
       "    xplotRequire(['plotly'], function(Plotly) {\r\n",
       "\n",
       "            var data = [{\"type\":\"pie\",\"labels\":[\"IsFraud\",\"IsNotFraud\"],\"values\":[206,401831]}];\n",
       "            var layout = \"\";\n",
       "            Plotly.newPlot('084f93a3-86f2-4bf6-8e2d-3102da8a0aef', data, layout);\n",
       "        \r\n",
       "});\r\n",
       "};\r\n",
       "if ((typeof(requirejs) !==  typeof(Function)) || (typeof(requirejs.config) !== typeof(Function))) { \r\n",
       "    var script = document.createElement(\"script\"); \r\n",
       "    script.setAttribute(\"src\", \"https://cdnjs.cloudflare.com/ajax/libs/require.js/2.3.6/require.min.js\"); \r\n",
       "    script.onload = function(){\r\n",
       "        renderPlotly();\r\n",
       "    };\r\n",
       "    document.getElementsByTagName(\"head\")[0].appendChild(script); \r\n",
       "}\r\n",
       "else {\r\n",
       "    renderPlotly();\r\n",
       "}\r\n",
       "</script>\r\n"
      ]
     },
     "execution_count": 6,
     "metadata": {},
     "output_type": "execute_result"
    }
   ],
   "source": [
    "var countFraud = dataView.GetColumn<bool>(\"isFraud\").Count(x => x == true);\n",
    "var countNotFraud = dataView.GetColumn<bool>(\"isFraud\").Count(x => x == false);\n",
    "\n",
    "var values = new List<int> { countFraud, countNotFraud};\n",
    "var labels = new List<string> { \"IsFraud\", \"IsNotFraud\" };\n",
    "\n",
    "var pieChart = Chart.Plot(new Graph.Pie \n",
    "{\n",
    "    labels = labels,\n",
    "    values = values\n",
    "});\n",
    "\n",
    "pieChart"
   ]
  }
 ],
 "metadata": {
  "kernelspec": {
   "display_name": ".NET (C#)",
   "language": "C#",
   "name": ".net-csharp"
  },
  "language_info": {
   "file_extension": ".cs",
   "mimetype": "text/x-csharp",
   "name": "C#",
   "pygments_lexer": "csharp",
   "version": "8.0"
  }
 },
 "nbformat": 4,
 "nbformat_minor": 4
}
