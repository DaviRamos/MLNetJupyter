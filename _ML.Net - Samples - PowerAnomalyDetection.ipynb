{
 "cells": [
  {
   "cell_type": "markdown",
   "metadata": {},
   "source": [
    "# ML.Net - Samples - Power Anomaly Detection"
   ]
  },
  {
   "cell_type": "markdown",
   "metadata": {},
   "source": [
    "# Spam Detection for Text Messages"
   ]
  },
  {
   "cell_type": "markdown",
   "metadata": {},
   "source": [
    "| ML.NET version | API type          | Status                        | App Type    | Data type | Scenario            | ML Task                   | Algorithms                  |\n",
    "|----------------|-------------------|-------------------------------|-------------|-----------|---------------------|---------------------------|-----------------------------|\n",
    "| v1.4           | Dynamic API | Might need to update project structure to match template | Jupyter-Notebbok | .tsv files | Spam detection | Two-class classification | Averaged Perceptron (linear learner) |"
   ]
  },
  {
   "cell_type": "markdown",
   "metadata": {},
   "source": [
    "In this sample, you'll see how to use [ML.NET](https://www.microsoft.com/net/learn/apps/machine-learning-and-ai/ml-dotnet) to predict whether a text message is spam. In the world of machine learning, this type of prediction is known as **binary classification**."
   ]
  },
  {
   "cell_type": "markdown",
   "metadata": {},
   "source": [
    "## Problem"
   ]
  },
  {
   "cell_type": "markdown",
   "metadata": {},
   "source": [
    "Our goal here is to predict whether a text message is spam (an irrelevant/unwanted message). We will use the [SMS Spam Collection Data Set](https://archive.ics.uci.edu/ml/datasets/SMS+Spam+Collection) from UCI, which contains close to 6000 messages that have been classified as being \"spam\" or \"ham\" (not spam). We will use this dataset to train a model that can take in new message and predict whether they are spam or not.\n",
    "\n",
    "This is an example of binary classification, as we are classifying the text messages into one of two categories.\n"
   ]
  },
  {
   "cell_type": "markdown",
   "metadata": {},
   "source": [
    "## Solution"
   ]
  },
  {
   "cell_type": "markdown",
   "metadata": {},
   "source": [
    "To solve this problem, first we will build an estimator to define the ML pipeline we want to use. Then we will train this estimator on existing data, evaluate how good it is, and lastly we'll consume the model to predict whether a few examples messages are spam.\n",
    "\n",
    "![Build -> Train -> Evaluate -> Consume](../shared_content/modelpipeline.png)"
   ]
  },
  {
   "cell_type": "markdown",
   "metadata": {},
   "source": [
    "### 1. Build Model"
   ]
  },
  {
   "cell_type": "markdown",
   "metadata": {},
   "source": [
    "To build the model we will:\n",
    "\n",
    "* Define how to read the spam dataset that will be downloaded from https://archive.ics.uci.edu/ml/datasets/SMS+Spam+Collection. \n",
    "\n",
    "* Apply several data transformations:\n",
    "\n",
    "    * Convert the label (\"spam\" or \"ham\") to a boolean (\"true\" represents spam) so we can use it with a binary classifier. \n",
    "    * Featurize the text message into a numeric vector so a machine learning trainer can use it\n",
    "\n",
    "* Add a trainer (such as `StochasticDualCoordinateAscent`).\n",
    "\n",
    "The initial code is similar to the following:\n"
   ]
  },
  {
   "cell_type": "code",
   "execution_count": 3,
   "metadata": {},
   "outputs": [
    {
     "data": {
      "text/plain": [
       "Installing package Microsoft.ML.Mkl.Redist..."
      ]
     },
     "metadata": {},
     "output_type": "display_data"
    }
   ],
   "source": [
    "// ML.NET Nuget packages installation \n",
    "#r \"nuget:Microsoft.ML\" \n",
    "#r \"nuget:Microsoft.ML.TimeSeries\" \n",
    "#r \"nuget:Microsoft.ML.Mkl.Redist\""
   ]
  },
  {
   "cell_type": "markdown",
   "metadata": {},
   "source": [
    "## Using C# Class"
   ]
  },
  {
   "cell_type": "code",
   "execution_count": 11,
   "metadata": {},
   "outputs": [],
   "source": [
    "using System;\n",
    "using System.IO;\n",
    "using System.IO.Compression;\n",
    "using System.Linq;\n",
    "using System.Net;\n",
    "using Microsoft.ML;\n",
    "using Microsoft.ML.Data;\n",
    "using System.Collections.Generic;\n",
    "using static Microsoft.ML.TrainCatalogBase;\n",
    "using static Microsoft.ML.DataOperationsCatalog;\n",
    "using System.Diagnostics;\n",
    "using Microsoft.ML.TimeSeries;\n",
    "using Microsoft.ML.Transforms.TimeSeries;"
   ]
  },
  {
   "cell_type": "markdown",
   "metadata": {},
   "source": [
    "## Declare data-classes for input data and predictions"
   ]
  },
  {
   "cell_type": "code",
   "execution_count": 12,
   "metadata": {},
   "outputs": [],
   "source": [
    "    class MeterData\n",
    "    {\n",
    "        [LoadColumn(0)]\n",
    "        public string name { get; set; }\n",
    "        [LoadColumn(1)]\n",
    "        public DateTime time { get; set; }\n",
    "        [LoadColumn(2)]\n",
    "        public float ConsumptionDiffNormalized { get; set; }\n",
    "    }\n",
    "\n",
    "class SpikePrediction\n",
    "    {\n",
    "        [VectorType(3)]\n",
    "        public double[] Prediction { get; set; }\n",
    "    }"
   ]
  },
  {
   "cell_type": "markdown",
   "metadata": {},
   "source": [
    "### Constants"
   ]
  },
  {
   "cell_type": "code",
   "execution_count": 13,
   "metadata": {},
   "outputs": [],
   "source": [
    "private static string TrainingDataPath = @\"./datasets/PowerAnomalyDetection/power-export_min.csv\";\n",
    "private static string ModelPath =  @\"./datasets/PowerAnomalyDetection/MLModels/PowerAnomalyDetectionModel.zip\";"
   ]
  },
  {
   "cell_type": "markdown",
   "metadata": {},
   "source": [
    "### Methods"
   ]
  },
  {
   "cell_type": "code",
   "execution_count": 14,
   "metadata": {},
   "outputs": [],
   "source": [
    "public static void DetectAnomalies(MLContext mlContext,IDataView dataView)\n",
    "{\n",
    "    ITransformer trainedModel = mlContext.Model.Load(ModelPath, out var modelInputSchema);\n",
    "\n",
    "    var transformedData = trainedModel.Transform(dataView);\n",
    "\n",
    "    // Getting the data of the newly created column as an IEnumerable\n",
    "    IEnumerable<SpikePrediction> predictions =\n",
    "        mlContext.Data.CreateEnumerable<SpikePrediction>(transformedData, false);\n",
    "    \n",
    "    var colCDN = dataView.GetColumn<float>(\"ConsumptionDiffNormalized\").ToArray();\n",
    "    var colTime = dataView.GetColumn<DateTime>(\"time\").ToArray();\n",
    "\n",
    "    // Output the input data and predictions\n",
    "    Console.WriteLine(\"======Displaying anomalies in the Power meter data=========\");\n",
    "    Console.WriteLine(\"Date              \\tReadingDiff\\tAlert\\tScore\\tP-Value\");\n",
    "\n",
    "    int i = 0;\n",
    "    foreach (var p in predictions)\n",
    "    {\n",
    "        Console.WriteLine(\"{0}\\t{1:0.0000}\\t{2:0.00}\\t{3:0.00}\\t{4:0.00}\", \n",
    "            colTime[i], colCDN[i], \n",
    "            p.Prediction[0], p.Prediction[1], p.Prediction[2]);\n",
    "        i++;\n",
    "    }\n",
    "}\n",
    "\n",
    "public static void BuildTrainModel(MLContext mlContext, IDataView dataView)\n",
    "{\n",
    "    // Configure the Estimator\n",
    "    const int PValueSize = 30;\n",
    "    const int SeasonalitySize = 30;\n",
    "    const int TrainingSize = 90;\n",
    "    const int ConfidenceInterval = 98;            \n",
    "\n",
    "    string outputColumnName = nameof(SpikePrediction.Prediction);\n",
    "    string inputColumnName = nameof(MeterData.ConsumptionDiffNormalized);\n",
    "\n",
    "    var trainigPipeLine = mlContext.Transforms.DetectSpikeBySsa(\n",
    "        outputColumnName,\n",
    "        inputColumnName,\n",
    "        confidence: ConfidenceInterval,\n",
    "        pvalueHistoryLength: PValueSize,\n",
    "        trainingWindowSize: TrainingSize,\n",
    "        seasonalityWindowSize: SeasonalitySize);\n",
    "\n",
    "    ITransformer trainedModel = trainigPipeLine.Fit(dataView);\n",
    "\n",
    "    // STEP 6: Save/persist the trained model to a .ZIP file\n",
    "    mlContext.Model.Save(trainedModel, dataView.Schema, ModelPath);\n",
    "\n",
    "    Console.WriteLine(\"The model is saved to {0}\", ModelPath);\n",
    "    Console.WriteLine(\"\");\n",
    "}\n"
   ]
  },
  {
   "cell_type": "markdown",
   "metadata": {},
   "source": [
    "## Evaluate"
   ]
  },
  {
   "cell_type": "code",
   "execution_count": 15,
   "metadata": {},
   "outputs": [
    {
     "ename": "Unhandled exception",
     "evalue": "System.TypeInitializationException: The type initializer for 'Microsoft.ML.Transforms.TimeSeries.FftUtils' threw an exception.\r\n ---> System.DllNotFoundException: Unable to load DLL 'MklImports' or one of its dependencies: Não foi possível encontrar o módulo especificado. (0x8007007E)\r\n   at Microsoft.ML.Transforms.TimeSeries.FftUtils.ErrorMessage(Int32 status)\r\n   at Microsoft.ML.Transforms.TimeSeries.FftUtils..cctor()\r\n   --- End of inner exception stack trace ---\r\n   at Microsoft.ML.Transforms.TimeSeries.FftUtils.ComputeForwardFft(Double[] inputRe, Double[] inputIm, Double[] outputRe, Double[] outputIm, Int32 length)\r\n   at Microsoft.ML.Transforms.TimeSeries.TrajectoryMatrix.CacheInputSeriesFft()\r\n   at Microsoft.ML.Transforms.TimeSeries.TrajectoryMatrix.FftMultiply(Single[] vector, Single[] result, Boolean add, Int32 srcIndex, Int32 dstIndex)\r\n   at Microsoft.ML.Transforms.TimeSeries.TrajectoryMatrix.ComputeUnnormalizedTrajectoryCovarianceMat(Single[] cov)\r\n   at Microsoft.ML.Transforms.TimeSeries.TrajectoryMatrix.ComputeSvd(Single[]& singularValues, Single[]& leftSingularvectors)\r\n   at Microsoft.ML.Transforms.TimeSeries.AdaptiveSingularSpectrumSequenceModelerInternal.TrainCore(Single[] dataArray, Int32 originalSeriesLength)\r\n   at Microsoft.ML.Transforms.TimeSeries.AdaptiveSingularSpectrumSequenceModelerInternal.Train(RoleMappedData data)\r\n   at Microsoft.ML.Transforms.TimeSeries.SsaSpikeDetector..ctor(IHostEnvironment env, Options options, IDataView input)\r\n   at Microsoft.ML.Transforms.TimeSeries.SsaSpikeEstimator.Fit(IDataView input)\r\n   at Submission#24.BuildTrainModel(MLContext mlContext, IDataView dataView)\r\n   at Submission#25.<<Initialize>>d__0.MoveNext()\r\n--- End of stack trace from previous location where exception was thrown ---\r\n   at Microsoft.CodeAnalysis.Scripting.ScriptExecutionState.RunSubmissionsAsync[TResult](ImmutableArray`1 precedingExecutors, Func`2 currentExecutor, StrongBox`1 exceptionHolderOpt, Func`2 catchExceptionOpt, CancellationToken cancellationToken)",
     "output_type": "error",
     "traceback": [
      "System.TypeInitializationException: The type initializer for 'Microsoft.ML.Transforms.TimeSeries.FftUtils' threw an exception.\r\n ---> System.DllNotFoundException: Unable to load DLL 'MklImports' or one of its dependencies: Não foi possível encontrar o módulo especificado. (0x8007007E)\r\n   at Microsoft.ML.Transforms.TimeSeries.FftUtils.ErrorMessage(Int32 status)\r\n   at Microsoft.ML.Transforms.TimeSeries.FftUtils..cctor()\r\n   --- End of inner exception stack trace ---\r\n   at Microsoft.ML.Transforms.TimeSeries.FftUtils.ComputeForwardFft(Double[] inputRe, Double[] inputIm, Double[] outputRe, Double[] outputIm, Int32 length)\r\n   at Microsoft.ML.Transforms.TimeSeries.TrajectoryMatrix.CacheInputSeriesFft()\r\n   at Microsoft.ML.Transforms.TimeSeries.TrajectoryMatrix.FftMultiply(Single[] vector, Single[] result, Boolean add, Int32 srcIndex, Int32 dstIndex)\r\n   at Microsoft.ML.Transforms.TimeSeries.TrajectoryMatrix.ComputeUnnormalizedTrajectoryCovarianceMat(Single[] cov)\r\n   at Microsoft.ML.Transforms.TimeSeries.TrajectoryMatrix.ComputeSvd(Single[]& singularValues, Single[]& leftSingularvectors)\r\n   at Microsoft.ML.Transforms.TimeSeries.AdaptiveSingularSpectrumSequenceModelerInternal.TrainCore(Single[] dataArray, Int32 originalSeriesLength)\r\n   at Microsoft.ML.Transforms.TimeSeries.AdaptiveSingularSpectrumSequenceModelerInternal.Train(RoleMappedData data)\r\n   at Microsoft.ML.Transforms.TimeSeries.SsaSpikeDetector..ctor(IHostEnvironment env, Options options, IDataView input)\r\n   at Microsoft.ML.Transforms.TimeSeries.SsaSpikeEstimator.Fit(IDataView input)\r\n   at Submission#24.BuildTrainModel(MLContext mlContext, IDataView dataView)\r\n   at Submission#25.<<Initialize>>d__0.MoveNext()\r\n--- End of stack trace from previous location where exception was thrown ---\r\n   at Microsoft.CodeAnalysis.Scripting.ScriptExecutionState.RunSubmissionsAsync[TResult](ImmutableArray`1 precedingExecutors, Func`2 currentExecutor, StrongBox`1 exceptionHolderOpt, Func`2 catchExceptionOpt, CancellationToken cancellationToken)",
      "   at Microsoft.ML.Transforms.TimeSeries.FftUtils.ComputeForwardFft(Double[] inputRe, Double[] inputIm, Double[] outputRe, Double[] outputIm, Int32 length)",
      "   at Microsoft.ML.Transforms.TimeSeries.TrajectoryMatrix.CacheInputSeriesFft()",
      "   at Microsoft.ML.Transforms.TimeSeries.TrajectoryMatrix.FftMultiply(Single[] vector, Single[] result, Boolean add, Int32 srcIndex, Int32 dstIndex)",
      "   at Microsoft.ML.Transforms.TimeSeries.TrajectoryMatrix.ComputeUnnormalizedTrajectoryCovarianceMat(Single[] cov)",
      "   at Microsoft.ML.Transforms.TimeSeries.TrajectoryMatrix.ComputeSvd(Single[]& singularValues, Single[]& leftSingularvectors)",
      "   at Microsoft.ML.Transforms.TimeSeries.AdaptiveSingularSpectrumSequenceModelerInternal.TrainCore(Single[] dataArray, Int32 originalSeriesLength)",
      "   at Microsoft.ML.Transforms.TimeSeries.AdaptiveSingularSpectrumSequenceModelerInternal.Train(RoleMappedData data)",
      "   at Microsoft.ML.Transforms.TimeSeries.SsaSpikeDetector..ctor(IHostEnvironment env, Options options, IDataView input)",
      "   at Microsoft.ML.Transforms.TimeSeries.SsaSpikeEstimator.Fit(IDataView input)",
      "   at Submission#24.BuildTrainModel(MLContext mlContext, IDataView dataView)",
      "   at Submission#25.<<Initialize>>d__0.MoveNext()",
      "--- End of stack trace from previous location where exception was thrown ---",
      "   at Microsoft.CodeAnalysis.Scripting.ScriptExecutionState.RunSubmissionsAsync[TResult](ImmutableArray`1 precedingExecutors, Func`2 currentExecutor, StrongBox`1 exceptionHolderOpt, Func`2 catchExceptionOpt, CancellationToken cancellationToken)"
     ]
    }
   ],
   "source": [
    "var mlContext = new MLContext(seed:0);\n",
    "\n",
    "// load data\n",
    "var dataView = mlContext.Data.LoadFromTextFile<MeterData>(\n",
    "   TrainingDataPath,\n",
    "   separatorChar: ',',\n",
    "   hasHeader: true);\n",
    "\n",
    "// transform options\n",
    "BuildTrainModel(mlContext, dataView);  // using SsaSpikeEstimator\n",
    "\n",
    "//DetectAnomalies(mlContext, dataView);\n",
    "\n",
    "//Console.WriteLine(\"\\nPress any key to exit\");"
   ]
  },
  {
   "cell_type": "code",
   "execution_count": null,
   "metadata": {},
   "outputs": [],
   "source": []
  },
  {
   "cell_type": "code",
   "execution_count": null,
   "metadata": {},
   "outputs": [],
   "source": []
  }
 ],
 "metadata": {
  "kernelspec": {
   "display_name": ".NET (C#)",
   "language": "C#",
   "name": ".net-csharp"
  },
  "language_info": {
   "file_extension": ".cs",
   "mimetype": "text/x-csharp",
   "name": "C#",
   "pygments_lexer": "csharp",
   "version": "8.0"
  }
 },
 "nbformat": 4,
 "nbformat_minor": 4
}
