{
 "cells": [
  {
   "cell_type": "code",
   "execution_count": 1,
   "metadata": {},
   "outputs": [
    {
     "data": {
      "text/html": [
       "\r\n",
       "<div>\r\n",
       "    <div id='dotnet-interactive-this-cell-90115b8479164677b34f796f413caf6a' style='display: none'>\r\n",
       "        The below script needs to be able to find the current output cell; this is an easy method to get it.\r\n",
       "    </div>\r\n",
       "    <script type='text/javascript'>\r\n",
       "// ensure `requirejs` is available globally\r\n",
       "if (typeof requirejs !== typeof Function || typeof requirejs.config !== typeof Function) {\r\n",
       "    let requirejs_script = document.createElement('script');\r\n",
       "    requirejs_script.setAttribute('src', 'https://cdnjs.cloudflare.com/ajax/libs/require.js/2.3.6/require.min.js');\r\n",
       "    requirejs_script.setAttribute('type', 'text/javascript');\r\n",
       "    requirejs_script.onload = function () {\r\n",
       "        loadDotnetInteractiveApi();\r\n",
       "    };\r\n",
       "\r\n",
       "    document.getElementsByTagName('head')[0].appendChild(requirejs_script);\r\n",
       "}\r\n",
       "else {\r\n",
       "    loadDotnetInteractiveApi();\r\n",
       "}\r\n",
       "\r\n",
       "async function probeAddresses(probingAddresses) {\r\n",
       "    function timeout(ms, promise) {\r\n",
       "        return new Promise(function (resolve, reject) {\r\n",
       "            setTimeout(function () {\r\n",
       "                reject(new Error('timeout'))\r\n",
       "            }, ms)\r\n",
       "            promise.then(resolve, reject)\r\n",
       "        })\r\n",
       "    }\r\n",
       "\r\n",
       "    if (Array.isArray(probingAddresses)) {\r\n",
       "        for (let i = 0; i < probingAddresses.length; i++) {\r\n",
       "\r\n",
       "            let rootUrl = probingAddresses[i];\r\n",
       "\r\n",
       "            if (!rootUrl.endsWith('/')) {\r\n",
       "                rootUrl = `${rootUrl}/`;\r\n",
       "            }\r\n",
       "\r\n",
       "            try {\r\n",
       "                let response = await timeout(1000, fetch(`${rootUrl}discovery`, {\r\n",
       "                    method: 'POST',\r\n",
       "                    timeout: 1000,\r\n",
       "                    headers: {\r\n",
       "                        'Content-Type': 'text/plain'\r\n",
       "                    },\r\n",
       "                    body: probingAddresses[i]\r\n",
       "                }));\r\n",
       "\r\n",
       "                if (response.status == 200) {\r\n",
       "                    return rootUrl;\r\n",
       "                }\r\n",
       "            }\r\n",
       "            catch (e) { }\r\n",
       "        }\r\n",
       "    }\r\n",
       "}\r\n",
       "\r\n",
       "function loadDotnetInteractiveApi() {\r\n",
       "    probeAddresses([\"http://172.18.128.1:1008/\", \"http://10.0.0.101:1008/\", \"http://172.21.192.1:1008/\", \"http://127.0.0.1:1008/\"])\r\n",
       "        .then((root) => {\r\n",
       "            // use probing to find host url and api resources\r\n",
       "            // load interactive helpers and language services\r\n",
       "            let dotnet_require = requirejs.config({\r\n",
       "                context: '40916.90115b8479164677b34f796f413caf6a',\r\n",
       "                paths: {\r\n",
       "                    'dotnet-interactive': `${root}resources`\r\n",
       "                }\r\n",
       "            });\r\n",
       "            if (!window.dotnet_require) {\r\n",
       "                window.dotnet_require = dotnet_require;\r\n",
       "            }\r\n",
       "        \r\n",
       "            dotnet_require([\r\n",
       "                    'dotnet-interactive/dotnet-interactive'\r\n",
       "                ],\r\n",
       "                function (dotnet) {\r\n",
       "                    dotnet.init(window);\r\n",
       "                },\r\n",
       "                function (error) {\r\n",
       "                    console.log(error);\r\n",
       "                }\r\n",
       "            );\r\n",
       "        })\r\n",
       "        .catch(error => {console.log(error);});\r\n",
       "    }\r\n",
       "    </script>\r\n",
       "</div>"
      ]
     },
     "metadata": {},
     "output_type": "display_data"
    },
    {
     "data": {
      "text/plain": [
       "Installed package Microsoft.Data.Analysis version 0.2.0"
      ]
     },
     "metadata": {},
     "output_type": "display_data"
    }
   ],
   "source": [
    "#r \"nuget:Microsoft.Data.Analysis,0.2.0\""
   ]
  },
  {
   "cell_type": "code",
   "execution_count": 2,
   "metadata": {},
   "outputs": [],
   "source": [
    "using Microsoft.Data.Analysis; "
   ]
  },
  {
   "cell_type": "code",
   "execution_count": 3,
   "metadata": {},
   "outputs": [
    {
     "data": {
      "text/plain": [
       "Wall time: 1271,904ms"
      ]
     },
     "metadata": {},
     "output_type": "display_data"
    }
   ],
   "source": [
    "#!time\n",
    "PrimitiveDataFrameColumn<DateTime> dateTimes = new PrimitiveDataFrameColumn<DateTime>(\"DateTimes\"); // Default length is 0.\n",
    "PrimitiveDataFrameColumn<int> ints = new PrimitiveDataFrameColumn<int>(\"Ints\", 3); // Makes a column of length 3. Filled with nulls initially\n",
    "StringDataFrameColumn strings = new StringDataFrameColumn(\"Strings\", 3); // Makes a column of length 3. Filled with nulls initially"
   ]
  },
  {
   "cell_type": "code",
   "execution_count": 4,
   "metadata": {},
   "outputs": [],
   "source": [
    "// Append 3 values to dateTimes\n",
    "dateTimes.Append(DateTime.Parse(\"2019/01/01\"));\n",
    "dateTimes.Append(DateTime.Parse(\"2019/01/01\"));\n",
    "dateTimes.Append(DateTime.Parse(\"2019/01/02\"));"
   ]
  },
  {
   "cell_type": "code",
   "execution_count": 5,
   "metadata": {},
   "outputs": [
    {
     "data": {
      "text/html": [
       "<table><thead><tr><th>Columns</th><th>Rows</th></tr></thead><tbody><tr><td>[ [ 2019-01-01 00:00:00Z, 2019-01-01 00:00:00Z, 2019-01-02 00:00:00Z ], [ &lt;null&gt;, &lt;null&gt;, &lt;null&gt; ], [ &lt;null&gt;, &lt;null&gt;, &lt;null&gt; ] ]</td><td>[ [ 2019-01-01 00:00:00Z, &lt;null&gt;, &lt;null&gt; ], [ 2019-01-01 00:00:00Z, &lt;null&gt;, &lt;null&gt; ], [ 2019-01-02 00:00:00Z, &lt;null&gt;, &lt;null&gt; ] ]</td></tr></tbody></table>"
      ]
     },
     "execution_count": 5,
     "metadata": {},
     "output_type": "execute_result"
    }
   ],
   "source": [
    "DataFrame df = new DataFrame(dateTimes, ints, strings ); // This will throw if the columns are of different lengths\n",
    "df"
   ]
  },
  {
   "cell_type": "code",
   "execution_count": 7,
   "metadata": {},
   "outputs": [],
   "source": [
    "using Microsoft.AspNetCore.Html;\n",
    "Formatter<DataFrame>.Register((df, writer) =>\n",
    "{\n",
    "    var headers = new List<IHtmlContent>();\n",
    "    headers.Add(th(i(\"index\")));\n",
    "    headers.AddRange(df.Columns.Select(c => (IHtmlContent) th(c.Name)));\n",
    "    var rows = new List<List<IHtmlContent>>();\n",
    "    var take = 20;\n",
    "    for (var i = 0; i < Math.Min(take, df.Rows.Count); i++)\n",
    "    {\n",
    "        var cells = new List<IHtmlContent>();\n",
    "        cells.Add(td(i));\n",
    "        foreach (var obj in df.Rows[i])\n",
    "        {\n",
    "            cells.Add(td(obj));\n",
    "        }\n",
    "        rows.Add(cells);\n",
    "    }\n",
    "    \n",
    "    var t = table(\n",
    "        thead(\n",
    "            headers),\n",
    "        tbody(\n",
    "            rows.Select(\n",
    "                r => tr(r))));\n",
    "    \n",
    "    writer.Write(t);\n",
    "}, \"text/html\");"
   ]
  },
  {
   "cell_type": "code",
   "execution_count": 9,
   "metadata": {},
   "outputs": [
    {
     "data": {
      "text/html": [
       "<table><thead><th><i>index</i></th><th>longitude</th><th>latitude</th><th>housing_median_age</th><th>total_rooms</th><th>total_bedrooms</th><th>population</th><th>households</th><th>median_income</th><th>median_house_value</th><th>ocean_proximity</th></thead><tbody><tr><td>0</td><td>-12223</td><td>3788</td><td>410</td><td>8800</td><td>1290</td><td>3220</td><td>1260</td><td>83252</td><td>4526000</td><td>NEAR BAY</td></tr><tr><td>1</td><td>-12222</td><td>3786</td><td>210</td><td>70990</td><td>11060</td><td>24010</td><td>11380</td><td>83014</td><td>3585000</td><td>NEAR BAY</td></tr><tr><td>2</td><td>-12224</td><td>3785</td><td>520</td><td>14670</td><td>1900</td><td>4960</td><td>1770</td><td>72574</td><td>3521000</td><td>NEAR BAY</td></tr><tr><td>3</td><td>-12225</td><td>3785</td><td>520</td><td>12740</td><td>2350</td><td>5580</td><td>2190</td><td>56431</td><td>3413000</td><td>NEAR BAY</td></tr><tr><td>4</td><td>-12225</td><td>3785</td><td>520</td><td>16270</td><td>2800</td><td>5650</td><td>2590</td><td>38462</td><td>3422000</td><td>NEAR BAY</td></tr><tr><td>5</td><td>-12225</td><td>3785</td><td>520</td><td>9190</td><td>2130</td><td>4130</td><td>1930</td><td>40368</td><td>2697000</td><td>NEAR BAY</td></tr><tr><td>6</td><td>-12225</td><td>3784</td><td>520</td><td>25350</td><td>4890</td><td>10940</td><td>5140</td><td>36591</td><td>2992000</td><td>NEAR BAY</td></tr><tr><td>7</td><td>-12225</td><td>3784</td><td>520</td><td>31040</td><td>6870</td><td>11570</td><td>6470</td><td>312</td><td>2414000</td><td>NEAR BAY</td></tr><tr><td>8</td><td>-12226</td><td>3784</td><td>420</td><td>25550</td><td>6650</td><td>12060</td><td>5950</td><td>20804</td><td>2267000</td><td>NEAR BAY</td></tr><tr><td>9</td><td>-12225</td><td>3784</td><td>520</td><td>35490</td><td>7070</td><td>15510</td><td>7140</td><td>36912</td><td>2611000</td><td>NEAR BAY</td></tr><tr><td>10</td><td>-12226</td><td>3785</td><td>520</td><td>22020</td><td>4340</td><td>9100</td><td>4020</td><td>32031</td><td>2815000</td><td>NEAR BAY</td></tr><tr><td>11</td><td>-12226</td><td>3785</td><td>520</td><td>35030</td><td>7520</td><td>15040</td><td>7340</td><td>32705</td><td>2418000</td><td>NEAR BAY</td></tr><tr><td>12</td><td>-12226</td><td>3785</td><td>520</td><td>24910</td><td>4740</td><td>10980</td><td>4680</td><td>3075</td><td>2135000</td><td>NEAR BAY</td></tr><tr><td>13</td><td>-12226</td><td>3784</td><td>520</td><td>6960</td><td>1910</td><td>3450</td><td>1740</td><td>26736</td><td>1913000</td><td>NEAR BAY</td></tr><tr><td>14</td><td>-12226</td><td>3785</td><td>520</td><td>26430</td><td>6260</td><td>12120</td><td>6200</td><td>19167</td><td>1592000</td><td>NEAR BAY</td></tr><tr><td>15</td><td>-12226</td><td>3785</td><td>500</td><td>11200</td><td>2830</td><td>6970</td><td>2640</td><td>2125</td><td>1400000</td><td>NEAR BAY</td></tr><tr><td>16</td><td>-12227</td><td>3785</td><td>520</td><td>19660</td><td>3470</td><td>7930</td><td>3310</td><td>2775</td><td>1525000</td><td>NEAR BAY</td></tr><tr><td>17</td><td>-12227</td><td>3785</td><td>520</td><td>12280</td><td>2930</td><td>6480</td><td>3030</td><td>21202</td><td>1555000</td><td>NEAR BAY</td></tr><tr><td>18</td><td>-12226</td><td>3784</td><td>500</td><td>22390</td><td>4550</td><td>9900</td><td>4190</td><td>19911</td><td>1587000</td><td>NEAR BAY</td></tr><tr><td>19</td><td>-12227</td><td>3784</td><td>520</td><td>15030</td><td>2980</td><td>6900</td><td>2750</td><td>26033</td><td>1629000</td><td>NEAR BAY</td></tr></tbody></table>"
      ]
     },
     "execution_count": 9,
     "metadata": {},
     "output_type": "execute_result"
    }
   ],
   "source": [
    "var data = DataFrame.LoadCsv(\"./Datasets/Housing/housing.csv\", separator: ',');\n",
    "\n",
    "data"
   ]
  },
  {
   "cell_type": "code",
   "execution_count": 12,
   "metadata": {},
   "outputs": [],
   "source": [
    "data.GroupBy(\"total_rooms\");"
   ]
  },
  {
   "cell_type": "code",
   "execution_count": 13,
   "metadata": {},
   "outputs": [
    {
     "ename": "Unhandled exception",
     "evalue": "System.ArgumentException: Column lengths are mismatched (Parameter 'column')\r\n   at Microsoft.Data.Analysis.DataFrameColumnCollection.InsertItem(Int32 columnIndex, DataFrameColumn column)\r\n   at Microsoft.Data.Analysis.DataFrameColumnCollection..ctor(IEnumerable`1 columns, Action columnsChanged)\r\n   at Microsoft.Data.Analysis.DataFrame..ctor(IEnumerable`1 columns)\r\n   at Microsoft.Data.Analysis.DataFrame.Sort(String columnName, Boolean ascending)\r\n   at Submission#17.<<Initialize>>d__0.MoveNext()\r\n--- End of stack trace from previous location where exception was thrown ---\r\n   at Microsoft.CodeAnalysis.Scripting.ScriptExecutionState.RunSubmissionsAsync[TResult](ImmutableArray`1 precedingExecutors, Func`2 currentExecutor, StrongBox`1 exceptionHolderOpt, Func`2 catchExceptionOpt, CancellationToken cancellationToken)",
     "output_type": "error",
     "traceback": [
      "System.ArgumentException: Column lengths are mismatched (Parameter 'column')\r\n   at Microsoft.Data.Analysis.DataFrameColumnCollection.InsertItem(Int32 columnIndex, DataFrameColumn column)\r\n   at Microsoft.Data.Analysis.DataFrameColumnCollection..ctor(IEnumerable`1 columns, Action columnsChanged)\r\n   at Microsoft.Data.Analysis.DataFrame..ctor(IEnumerable`1 columns)\r\n   at Microsoft.Data.Analysis.DataFrame.Sort(String columnName, Boolean ascending)\r\n   at Submission#17.<<Initialize>>d__0.MoveNext()\r\n--- End of stack trace from previous location where exception was thrown ---\r\n   at Microsoft.CodeAnalysis.Scripting.ScriptExecutionState.RunSubmissionsAsync[TResult](ImmutableArray`1 precedingExecutors, Func`2 currentExecutor, StrongBox`1 exceptionHolderOpt, Func`2 catchExceptionOpt, CancellationToken cancellationToken)",
      "   at Microsoft.Data.Analysis.DataFrameColumnCollection.InsertItem(Int32 columnIndex, DataFrameColumn column)",
      "   at Microsoft.Data.Analysis.DataFrameColumnCollection..ctor(IEnumerable`1 columns, Action columnsChanged)",
      "   at Microsoft.Data.Analysis.DataFrame..ctor(IEnumerable`1 columns)",
      "   at Microsoft.Data.Analysis.DataFrame.Sort(String columnName, Boolean ascending)",
      "   at Submission#17.<<Initialize>>d__0.MoveNext()",
      "--- End of stack trace from previous location where exception was thrown ---",
      "   at Microsoft.CodeAnalysis.Scripting.ScriptExecutionState.RunSubmissionsAsync[TResult](ImmutableArray`1 precedingExecutors, Func`2 currentExecutor, StrongBox`1 exceptionHolderOpt, Func`2 catchExceptionOpt, CancellationToken cancellationToken)"
     ]
    }
   ],
   "source": [
    "DataFrame sorted = data.Sort(\"total_rooms\");\n",
    "sorted"
   ]
  },
  {
   "cell_type": "code",
   "execution_count": null,
   "metadata": {},
   "outputs": [],
   "source": []
  }
 ],
 "metadata": {
  "kernelspec": {
   "display_name": ".NET (C#)",
   "language": "C#",
   "name": ".net-csharp"
  },
  "language_info": {
   "file_extension": ".cs",
   "mimetype": "text/x-csharp",
   "name": "C#",
   "pygments_lexer": "csharp",
   "version": "8.0"
  }
 },
 "nbformat": 4,
 "nbformat_minor": 4
}
