{
 "cells": [
  {
   "cell_type": "markdown",
   "metadata": {},
   "source": [
    "# ML.Net - Time-series forecasting\n",
    "\n",
    "**Rational**:\n",
    "Predict upcoming sales for a specific product"
   ]
  },
  {
   "cell_type": "code",
   "execution_count": 1,
   "metadata": {},
   "outputs": [
    {
     "data": {
      "text/html": [
       "\r\n",
       "<div>\r\n",
       "    <div id='dotnet-interactive-this-cell-202d458a969c4da9b3c0781ae0ce98c8' style='display: none'>\r\n",
       "        The below script needs to be able to find the current output cell; this is an easy method to get it.\r\n",
       "    </div>\r\n",
       "    <script type='text/javascript'>\r\n",
       "// ensure `requirejs` is available globally\r\n",
       "if (typeof requirejs !== typeof Function || typeof requirejs.config !== typeof Function) {\r\n",
       "    let requirejs_script = document.createElement('script');\r\n",
       "    requirejs_script.setAttribute('src', 'https://cdnjs.cloudflare.com/ajax/libs/require.js/2.3.6/require.min.js');\r\n",
       "    requirejs_script.setAttribute('type', 'text/javascript');\r\n",
       "    requirejs_script.onload = function () {\r\n",
       "        loadDotnetInteractiveApi();\r\n",
       "    };\r\n",
       "\r\n",
       "    document.getElementsByTagName('head')[0].appendChild(requirejs_script);\r\n",
       "}\r\n",
       "else {\r\n",
       "    loadDotnetInteractiveApi();\r\n",
       "}\r\n",
       "\r\n",
       "async function probeAddresses(probingAddresses) {\r\n",
       "    function timeout(ms, promise) {\r\n",
       "        return new Promise(function (resolve, reject) {\r\n",
       "            setTimeout(function () {\r\n",
       "                reject(new Error('timeout'))\r\n",
       "            }, ms)\r\n",
       "            promise.then(resolve, reject)\r\n",
       "        })\r\n",
       "    }\r\n",
       "\r\n",
       "    if (Array.isArray(probingAddresses)) {\r\n",
       "        for (let i = 0; i < probingAddresses.length; i++) {\r\n",
       "\r\n",
       "            let rootUrl = probingAddresses[i];\r\n",
       "\r\n",
       "            if (!rootUrl.endsWith('/')) {\r\n",
       "                rootUrl = `${rootUrl}/`;\r\n",
       "            }\r\n",
       "\r\n",
       "            try {\r\n",
       "                let response = await timeout(1000, fetch(`${rootUrl}discovery`, {\r\n",
       "                    method: 'POST',\r\n",
       "                    timeout: 1000,\r\n",
       "                    headers: {\r\n",
       "                        'Content-Type': 'text/plain'\r\n",
       "                    },\r\n",
       "                    body: probingAddresses[i]\r\n",
       "                }));\r\n",
       "\r\n",
       "                if (response.status == 200) {\r\n",
       "                    return rootUrl;\r\n",
       "                }\r\n",
       "            }\r\n",
       "            catch (e) { }\r\n",
       "        }\r\n",
       "    }\r\n",
       "}\r\n",
       "\r\n",
       "function loadDotnetInteractiveApi() {\r\n",
       "    probeAddresses([\"http://172.30.0.1:1129/\", \"http://10.0.0.101:1129/\", \"http://172.19.16.1:1129/\", \"http://127.0.0.1:1129/\"])\r\n",
       "        .then((root) => {\r\n",
       "            // use probing to find host url and api resources\r\n",
       "            // load interactive helpers and language services\r\n",
       "            let dotnet_require = requirejs.config({\r\n",
       "                context: '24612.202d458a969c4da9b3c0781ae0ce98c8',\r\n",
       "                paths: {\r\n",
       "                    'dotnet-interactive': `${root}resources`\r\n",
       "                }\r\n",
       "            });\r\n",
       "            if (!window.dotnet_require) {\r\n",
       "                window.dotnet_require = dotnet_require;\r\n",
       "            }\r\n",
       "        \r\n",
       "            dotnet_require([\r\n",
       "                    'dotnet-interactive/dotnet-interactive'\r\n",
       "                ],\r\n",
       "                function (dotnet) {\r\n",
       "                    dotnet.init(window);\r\n",
       "                },\r\n",
       "                function (error) {\r\n",
       "                    console.log(error);\r\n",
       "                }\r\n",
       "            );\r\n",
       "        })\r\n",
       "        .catch(error => {console.log(error);});\r\n",
       "    }\r\n",
       "    </script>\r\n",
       "</div>"
      ]
     },
     "metadata": {},
     "output_type": "display_data"
    },
    {
     "data": {
      "text/plain": [
       "Installed package Microsoft.ML.TimeSeries version 1.5.0"
      ]
     },
     "metadata": {},
     "output_type": "display_data"
    },
    {
     "data": {
      "text/plain": [
       "Installed package XPlot.Plotly version 3.0.1"
      ]
     },
     "metadata": {},
     "output_type": "display_data"
    },
    {
     "data": {
      "text/plain": [
       "Installed package Microsoft.ML version 1.5.0"
      ]
     },
     "metadata": {},
     "output_type": "display_data"
    },
    {
     "data": {
      "text/plain": [
       "Installed package Microsoft.ML.FastTree version 1.5.0"
      ]
     },
     "metadata": {},
     "output_type": "display_data"
    }
   ],
   "source": [
    "// ML.NET Nuget packages \n",
    "#r \"nuget:Microsoft.ML\"  \n",
    "#r \"nuget:Microsoft.ML.FastTree\"\n",
    "#r \"nuget:Microsoft.ML.TimeSeries\"\n",
    "    \n",
    "//Install XPlot package\n",
    "#r \"nuget:XPlot.Plotly\""
   ]
  },
  {
   "cell_type": "code",
   "execution_count": 2,
   "metadata": {},
   "outputs": [],
   "source": [
    "using Microsoft.ML;\n",
    "using Microsoft.ML.Data;\n",
    "using XPlot.Plotly;\n",
    "using Microsoft.ML.Transforms.TimeSeries;"
   ]
  },
  {
   "cell_type": "code",
   "execution_count": 3,
   "metadata": {},
   "outputs": [],
   "source": [
    "public class ProductData\n",
    "{\n",
    "    //Next month's #units sold\n",
    "    [LoadColumn(0)]\n",
    "    public float next;\n",
    "\n",
    "    [LoadColumn(1)]\n",
    "    public float productId;\n",
    "\n",
    "    [LoadColumn(2)]\n",
    "    public float year;\n",
    "\n",
    "    [LoadColumn(3)]\n",
    "    public float month;\n",
    "\n",
    "    [LoadColumn(4)]\n",
    "    public float units;\n",
    "\n",
    "    //Average #units sold per day in a month\n",
    "    [LoadColumn(5)]\n",
    "    public float avg;\n",
    "\n",
    "    [LoadColumn(6)]\n",
    "    public float count;\n",
    "\n",
    "    //Max #units sold per day in a month\n",
    "    [LoadColumn(7)]\n",
    "    public float max;\n",
    "\n",
    "    //Min #units sold per day in a month\n",
    "    [LoadColumn(8)]\n",
    "    public float min;\n",
    "\n",
    "    //Previous month's #units sold\n",
    "    [LoadColumn(9)]\n",
    "    public float prev;\n",
    "}"
   ]
  },
  {
   "cell_type": "code",
   "execution_count": 4,
   "metadata": {},
   "outputs": [],
   "source": [
    "public class ProductUnitTimeSeriesPrediction\n",
    "{\n",
    "    public float[] ForecastedProductUnits { get; set; }\n",
    "\n",
    "    public float[] ConfidenceLowerBound { get; set; }\n",
    "\n",
    "    public float[] ConfidenceUpperBound { get; set; }\n",
    "}"
   ]
  },
  {
   "cell_type": "code",
   "execution_count": 5,
   "metadata": {},
   "outputs": [],
   "source": [
    "var dataPath = \"./Datasets/Time-Series Forecasting/products.stats.csv\";"
   ]
  },
  {
   "cell_type": "code",
   "execution_count": 6,
   "metadata": {},
   "outputs": [],
   "source": [
    "var mlContext = new MLContext(seed: 1);\n",
    "\n",
    "var dataView = mlContext.Data.LoadFromTextFile<ProductData>(dataPath, hasHeader: true, separatorChar:',');"
   ]
  },
  {
   "cell_type": "code",
   "execution_count": 7,
   "metadata": {},
   "outputs": [],
   "source": [
    "//Get data for a specific product\n",
    "var productId = 988;\n",
    "\n",
    "IDataView productDataView = mlContext.Data.FilterRowsByColumn(dataView, \"productId\", productId, productId + 1);"
   ]
  },
  {
   "cell_type": "markdown",
   "metadata": {},
   "source": [
    "#### Data exploration"
   ]
  },
  {
   "cell_type": "code",
   "execution_count": 8,
   "metadata": {},
   "outputs": [
    {
     "data": {
      "text/html": [
       "<table><thead><tr><th><i>index</i></th><th>next</th><th>productId</th><th>year</th><th>month</th><th>units</th><th>avg</th><th>count</th><th>max</th><th>min</th><th>prev</th></tr></thead><tbody><tr><td>0</td><td>971</td><td>988</td><td>2017</td><td>1</td><td>759</td><td>42</td><td>18</td><td>150</td><td>1</td><td>427</td></tr><tr><td>1</td><td>1175</td><td>988</td><td>2017</td><td>2</td><td>971</td><td>48</td><td>20</td><td>205</td><td>5</td><td>759</td></tr><tr><td>2</td><td>547</td><td>988</td><td>2017</td><td>3</td><td>1175</td><td>55</td><td>21</td><td>210</td><td>2</td><td>971</td></tr><tr><td>3</td><td>968</td><td>988</td><td>2017</td><td>4</td><td>547</td><td>28</td><td>19</td><td>108</td><td>6</td><td>1175</td></tr><tr><td>4</td><td>834</td><td>988</td><td>2017</td><td>5</td><td>968</td><td>40</td><td>24</td><td>161</td><td>5</td><td>547</td></tr></tbody></table>"
      ]
     },
     "metadata": {},
     "output_type": "display_data"
    }
   ],
   "source": [
    "var rows = mlContext.Data.CreateEnumerable<ProductData>(productDataView, reuseRowObject: false)\n",
    "                    .Take(5)\n",
    "                    .ToList();\n",
    "\n",
    "display(rows);"
   ]
  },
  {
   "cell_type": "markdown",
   "metadata": {},
   "source": [
    "#### Plotting"
   ]
  },
  {
   "cell_type": "code",
   "execution_count": 9,
   "metadata": {},
   "outputs": [],
   "source": [
    "var years = productDataView.GetColumn<float>(\"year\").ToArray();\n",
    "var months = productDataView.GetColumn<float>(\"month\").ToArray();\n",
    "\n",
    "var index = 0;\n",
    "var dates = new List<DateTime>();\n",
    "foreach(var year in years)\n",
    "{\n",
    "    dates.Add(new DateTime(Convert.ToInt32(year), Convert.ToInt32(months[index]), 1));\n",
    "    index++;\n",
    "}"
   ]
  },
  {
   "cell_type": "code",
   "execution_count": 10,
   "metadata": {},
   "outputs": [],
   "source": [
    "var units = productDataView.GetColumn<float>(\"units\").ToArray();\n",
    "var max = productDataView.GetColumn<float>(\"max\").ToArray();\n",
    "var min = productDataView.GetColumn<float>(\"min\").ToArray();\n",
    "var avg = productDataView.GetColumn<float>(\"avg\").ToArray();"
   ]
  },
  {
   "cell_type": "code",
   "execution_count": 11,
   "metadata": {},
   "outputs": [
    {
     "data": {
      "text/html": [
       "<div id=\"acc10bfe-a3c8-4508-b575-39987978423c\" style=\"width: 900px; height: 500px;\"></div>\r\n",
       "<script type=\"text/javascript\">\r\n",
       "\r\n",
       "var renderPlotly = function() {\r\n",
       "    var xplotRequire = requirejs.config({context:'xplot-3.0.1',paths:{plotly:'https://cdn.plot.ly/plotly-1.49.2.min'}});\r\n",
       "    xplotRequire(['plotly'], function(Plotly) {\r\n",
       "\n",
       "            var data = [{\"type\":\"scatter\",\"x\":[\"2017-01-01T00:00:00\",\"2017-02-01T00:00:00\",\"2017-03-01T00:00:00\",\"2017-04-01T00:00:00\",\"2017-05-01T00:00:00\",\"2017-06-01T00:00:00\",\"2017-07-01T00:00:00\",\"2017-08-01T00:00:00\",\"2017-09-01T00:00:00\",\"2017-10-01T00:00:00\"],\"y\":[759.0,971.0,1175.0,547.0,968.0,834.0,882.0,1445.0,1036.0,1094.0],\"name\":\"Number of units\"}];\n",
       "            var layout = {\"title\":\"Units sold per month\",\"showlegend\":true,\"yaxis\":{\"rangemode\":\"tozero\",\"_isSubplotObj\":true}};\n",
       "            Plotly.newPlot('acc10bfe-a3c8-4508-b575-39987978423c', data, layout);\n",
       "        \r\n",
       "});\r\n",
       "};\r\n",
       "if ((typeof(requirejs) !==  typeof(Function)) || (typeof(requirejs.config) !== typeof(Function))) { \r\n",
       "    var script = document.createElement(\"script\"); \r\n",
       "    script.setAttribute(\"src\", \"https://cdnjs.cloudflare.com/ajax/libs/require.js/2.3.6/require.min.js\"); \r\n",
       "    script.onload = function(){\r\n",
       "        renderPlotly();\r\n",
       "    };\r\n",
       "    document.getElementsByTagName(\"head\")[0].appendChild(script); \r\n",
       "}\r\n",
       "else {\r\n",
       "    renderPlotly();\r\n",
       "}\r\n",
       "</script>\r\n"
      ]
     },
     "metadata": {},
     "output_type": "display_data"
    }
   ],
   "source": [
    "var chart = Chart.Plot(\n",
    "    new Graph.Scatter()\n",
    "    {\n",
    "        x = dates,\n",
    "        y = units,\n",
    "        name = \"Number of units\"         \n",
    "    },\n",
    "    new Layout.Layout \n",
    "    { \n",
    "        title= \"Units sold per month\",\n",
    "        yaxis = new Graph.Yaxis { rangemode = \"tozero\" }\n",
    "    } \n",
    ");\n",
    "\n",
    "chart.WithLegend(true);\n",
    "display(chart);"
   ]
  }
 ],
 "metadata": {
  "kernelspec": {
   "display_name": ".NET (C#)",
   "language": "C#",
   "name": ".net-csharp"
  },
  "language_info": {
   "file_extension": ".cs",
   "mimetype": "text/x-csharp",
   "name": "C#",
   "pygments_lexer": "csharp",
   "version": "8.0"
  }
 },
 "nbformat": 4,
 "nbformat_minor": 4
}
