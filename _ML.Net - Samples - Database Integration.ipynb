{
 "cells": [
  {
   "cell_type": "markdown",
   "metadata": {},
   "source": [
    "# ML.Net - Samples - Database Integration"
   ]
  },
  {
   "cell_type": "markdown",
   "metadata": {},
   "source": [
    "# Spam Detection for Text Messages"
   ]
  },
  {
   "cell_type": "markdown",
   "metadata": {},
   "source": [
    "| ML.NET version | API type          | Status                        | App Type    | Data type | Scenario            | ML Task                   | Algorithms                  |\n",
    "|----------------|-------------------|-------------------------------|-------------|-----------|---------------------|---------------------------|-----------------------------|\n",
    "| v1.4           | Dynamic API | Might need to update project structure to match template | Jupyter-Notebbok | .tsv files | Spam detection | Two-class classification | Averaged Perceptron (linear learner) |"
   ]
  },
  {
   "cell_type": "markdown",
   "metadata": {},
   "source": [
    "In this sample, you'll see how to use [ML.NET](https://www.microsoft.com/net/learn/apps/machine-learning-and-ai/ml-dotnet) to predict whether a text message is spam. In the world of machine learning, this type of prediction is known as **binary classification**."
   ]
  },
  {
   "cell_type": "markdown",
   "metadata": {},
   "source": [
    "## Problem"
   ]
  },
  {
   "cell_type": "markdown",
   "metadata": {},
   "source": [
    "Our goal here is to predict whether a text message is spam (an irrelevant/unwanted message). We will use the [SMS Spam Collection Data Set](https://archive.ics.uci.edu/ml/datasets/SMS+Spam+Collection) from UCI, which contains close to 6000 messages that have been classified as being \"spam\" or \"ham\" (not spam). We will use this dataset to train a model that can take in new message and predict whether they are spam or not.\n",
    "\n",
    "This is an example of binary classification, as we are classifying the text messages into one of two categories.\n"
   ]
  },
  {
   "cell_type": "markdown",
   "metadata": {},
   "source": [
    "## Solution"
   ]
  },
  {
   "cell_type": "markdown",
   "metadata": {},
   "source": [
    "To solve this problem, first we will build an estimator to define the ML pipeline we want to use. Then we will train this estimator on existing data, evaluate how good it is, and lastly we'll consume the model to predict whether a few examples messages are spam.\n",
    "\n",
    "![Build -> Train -> Evaluate -> Consume](../shared_content/modelpipeline.png)"
   ]
  },
  {
   "cell_type": "markdown",
   "metadata": {},
   "source": [
    "### 1. Build Model"
   ]
  },
  {
   "cell_type": "markdown",
   "metadata": {},
   "source": [
    "To build the model we will:\n",
    "\n",
    "* Define how to read the spam dataset that will be downloaded from https://archive.ics.uci.edu/ml/datasets/SMS+Spam+Collection. \n",
    "\n",
    "* Apply several data transformations:\n",
    "\n",
    "    * Convert the label (\"spam\" or \"ham\") to a boolean (\"true\" represents spam) so we can use it with a binary classifier. \n",
    "    * Featurize the text message into a numeric vector so a machine learning trainer can use it\n",
    "\n",
    "* Add a trainer (such as `StochasticDualCoordinateAscent`).\n",
    "\n",
    "The initial code is similar to the following:\n"
   ]
  },
  {
   "cell_type": "code",
   "execution_count": 3,
   "metadata": {},
   "outputs": [
    {
     "data": {
      "text/plain": [
       "Installing package Microsoft.EntityFrameworkCore.Sqlite..."
      ]
     },
     "metadata": {},
     "output_type": "display_data"
    },
    {
     "data": {
      "text/plain": [
       "Installing package System.ComponentModel.Annotations..."
      ]
     },
     "metadata": {},
     "output_type": "display_data"
    },
    {
     "data": {
      "text/plain": [
       "Installing package System.ComponentModel..."
      ]
     },
     "metadata": {},
     "output_type": "display_data"
    }
   ],
   "source": [
    "// ML.NET Nuget packages installation\n",
    "#r \"nuget:Microsoft.ML\" \n",
    "#r \"nuget:Microsoft.ML.FastTree\" \n",
    "#r \"nuget:Microsoft.ML.LightGbm\" \n",
    "#r \"nuget:Microsoft.EntityFrameworkCore.Sqlite\"  \n",
    "#r \"nuget:Microsoft.EntityFrameworkCore.Design\" \n",
    "#r \"nuget:System.ComponentModel.Annotations\""
   ]
  },
  {
   "cell_type": "markdown",
   "metadata": {},
   "source": [
    "## Using C# Class"
   ]
  },
  {
   "cell_type": "code",
   "execution_count": 4,
   "metadata": {},
   "outputs": [],
   "source": [
    "using Microsoft.EntityFrameworkCore;\n",
    "using Microsoft.ML;\n",
    "using Microsoft.ML.Transforms;\n",
    "using Microsoft.ML.Trainers;\n",
    "using System;\n",
    "using System.IO;\n",
    "using System.Linq;\n",
    "using System.Net;\n",
    "using System.Collections.Generic;\n",
    "using System.Threading.Tasks;\n",
    "using System.Collections.Generic;\n",
    "using System.ComponentModel;"
   ]
  },
  {
   "cell_type": "markdown",
   "metadata": {},
   "source": [
    "## Declare data-classes for input data and predictions"
   ]
  },
  {
   "cell_type": "code",
   "execution_count": 5,
   "metadata": {},
   "outputs": [
    {
     "ename": "Unhandled exception",
     "evalue": "(12,6): error CS0246: O nome do tipo ou do namespace \"KeyAttribute\" não pode ser encontrado (está faltando uma diretiva using ou uma referência de assembly?)\r\n(12,6): error CS0246: O nome do tipo ou do namespace \"Key\" não pode ser encontrado (está faltando uma diretiva using ou uma referência de assembly?)\r\n(13,6): error CS0246: O nome do tipo ou do namespace \"DatabaseGeneratedAttribute\" não pode ser encontrado (está faltando uma diretiva using ou uma referência de assembly?)\r\n(13,6): error CS0246: O nome do tipo ou do namespace \"DatabaseGenerated\" não pode ser encontrado (está faltando uma diretiva using ou uma referência de assembly?)\r\n(13,24): error CS0103: O nome \"DatabaseGeneratedOption\" não existe no contexto atual",
     "output_type": "error",
     "traceback": [
      "(12,6): error CS0246: O nome do tipo ou do namespace \"KeyAttribute\" não pode ser encontrado (está faltando uma diretiva using ou uma referência de assembly?)\r\n(12,6): error CS0246: O nome do tipo ou do namespace \"Key\" não pode ser encontrado (está faltando uma diretiva using ou uma referência de assembly?)\r\n(13,6): error CS0246: O nome do tipo ou do namespace \"DatabaseGeneratedAttribute\" não pode ser encontrado (está faltando uma diretiva using ou uma referência de assembly?)\r\n(13,6): error CS0246: O nome do tipo ou do namespace \"DatabaseGenerated\" não pode ser encontrado (está faltando uma diretiva using ou uma referência de assembly?)\r\n(13,24): error CS0103: O nome \"DatabaseGeneratedOption\" não existe no contexto atual"
     ]
    }
   ],
   "source": [
    "public class AdultCensusContext : DbContext\n",
    "{\n",
    "    public DbSet<AdultCensus> AdultCensus { get; set; }\n",
    "\n",
    "    protected override void OnConfiguring(DbContextOptionsBuilder optionsBuilder)\n",
    "    {\n",
    "        optionsBuilder.UseSqlite(\"Data Source=mlexample.db\");\n",
    "    }\n",
    "}\n",
    "public class AdultCensus\n",
    "{\n",
    "    [Key]\n",
    "    [DatabaseGenerated(DatabaseGeneratedOption.Identity)]\n",
    "    public int AdultCensusId {get; set;}\n",
    "    public int Age { get; set; }\n",
    "    public string Workclass {  get; set; }\n",
    "    public string Education { get; set; }\n",
    "    public string MaritalStatus { get; set; }\n",
    "    public string Occupation { get; set; }\n",
    "    public string Relationship { get; set; }\n",
    "    public string Race { get; set; }\n",
    "    public string Sex { get; set; }\n",
    "    public string CapitalGain { get; set; }\n",
    "    public string CapitalLoss { get; set; }\n",
    "    public int HoursPerWeek { get; set; }\n",
    "    public string NativeCountry { get; set; }\n",
    "    public bool Label { get; set; }\n",
    "} "
   ]
  },
  {
   "cell_type": "markdown",
   "metadata": {},
   "source": [
    "### ConsoleHelper"
   ]
  },
  {
   "cell_type": "code",
   "execution_count": 6,
   "metadata": {},
   "outputs": [],
   "source": [
    "public static class ConsoleHelper\n",
    "{\n",
    "    public static voi d PrintPrediction(string prediction)\n",
    "    {\n",
    "        Console.WriteLine($\"*************************************************\");\n",
    "        Console.WriteLine($\"Predicted : {prediction}\");\n",
    "        Console.WriteLine($\"*************************************************\");\n",
    "    }\n",
    "\n",
    "    public static void PrintRegressionPredictionVersusObserved(string predictionCount, string observedCount)\n",
    "    {\n",
    "        Console.WriteLine($\"-------------------------------------------------\");\n",
    "        Console.WriteLine($\"Predicted : {predictionCount}\");\n",
    "        Console.WriteLine($\"Actual:     {observedCount}\");\n",
    "        Console.WriteLine($\"-------------------------------------------------\");\n",
    "    }\n",
    "\n",
    "    public static void PrintRegressionMetrics(string name, RegressionMetrics metrics)\n",
    "    {\n",
    "        Console.WriteLine($\"*************************************************\");\n",
    "        Console.WriteLine($\"*       Metrics for {name} regression model      \");\n",
    "        Console.WriteLine($\"*------------------------------------------------\");\n",
    "        Console.WriteLine($\"*       LossFn:        {metrics.LossFunction:0.##}\");\n",
    "        Console.WriteLine($\"*       R2 Score:      {metrics.RSquared:0.##}\");\n",
    "        Console.WriteLine($\"*       Absolute loss: {metrics.MeanAbsoluteError:#.##}\");\n",
    "        Console.WriteLine($\"*       Squared loss:  {metrics.MeanSquaredError:#.##}\");\n",
    "        Console.WriteLine($\"*       RMS loss:      {metrics.RootMeanSquaredError:#.##}\");\n",
    "        Console.WriteLine($\"*************************************************\");\n",
    "    }\n",
    "\n",
    "    public static void PrintBinaryClassificationMetrics(string name, CalibratedBinaryClassificationMetrics metrics)\n",
    "    {\n",
    "        Console.WriteLine($\"************************************************************\");\n",
    "        Console.WriteLine($\"*       Metrics for {name} binary classification model      \");\n",
    "        Console.WriteLine($\"*-----------------------------------------------------------\");\n",
    "        Console.WriteLine($\"*       Accuracy: {metrics.Accuracy:P2}\");\n",
    "        Console.WriteLine($\"*       Area Under Curve:      {metrics.AreaUnderRocCurve:P2}\");\n",
    "        Console.WriteLine($\"*       Area under Precision recall Curve:  {metrics.AreaUnderPrecisionRecallCurve:P2}\");\n",
    "        Console.WriteLine($\"*       F1Score:  {metrics.F1Score:P2}\");\n",
    "        Console.WriteLine($\"*       LogLoss:  {metrics.LogLoss:#.##}\");\n",
    "        Console.WriteLine($\"*       LogLossReduction:  {metrics.LogLossReduction:#.##}\");\n",
    "        Console.WriteLine($\"*       PositivePrecision:  {metrics.PositivePrecision:#.##}\");\n",
    "        Console.WriteLine($\"*       PositiveRecall:  {metrics.PositiveRecall:#.##}\");\n",
    "        Console.WriteLine($\"*       NegativePrecision:  {metrics.NegativePrecision:#.##}\");\n",
    "        Console.WriteLine($\"*       NegativeRecall:  {metrics.NegativeRecall:P2}\");\n",
    "        Console.WriteLine($\"************************************************************\");\n",
    "    }\n",
    "\n",
    "    public static void PrintMultiClassClassificationMetrics(string name, MulticlassClassificationMetrics metrics)\n",
    "    {\n",
    "        Console.WriteLine($\"************************************************************\");\n",
    "        Console.WriteLine($\"*    Metrics for {name} multi-class classification model   \");\n",
    "        Console.WriteLine($\"*-----------------------------------------------------------\");\n",
    "        Console.WriteLine($\"    AccuracyMacro = {metrics.MacroAccuracy:0.####}, a value between 0 and 1, the closer to 1, the better\");\n",
    "        Console.WriteLine($\"    AccuracyMicro = {metrics.MicroAccuracy:0.####}, a value between 0 and 1, the closer to 1, the better\");\n",
    "        Console.WriteLine($\"    LogLoss = {metrics.LogLoss:0.####}, the closer to 0, the better\");\n",
    "        Console.WriteLine($\"    LogLoss for class 1 = {metrics.PerClassLogLoss[0]:0.####}, the closer to 0, the better\");\n",
    "        Console.WriteLine($\"    LogLoss for class 2 = {metrics.PerClassLogLoss[1]:0.####}, the closer to 0, the better\");\n",
    "        Console.WriteLine($\"    LogLoss for class 3 = {metrics.PerClassLogLoss[2]:0.####}, the closer to 0, the better\");\n",
    "        Console.WriteLine($\"************************************************************\");\n",
    "    }\n",
    "    \n",
    "    public static void PrintRegressionFoldsAverageMetrics(string algorithmName, IReadOnlyList<CrossValidationResult<RegressionMetrics>> crossValidationResults)\n",
    "    {\n",
    "        var L1 = crossValidationResults.Select(r => r.Metrics.MeanAbsoluteError);\n",
    "        var L2 = crossValidationResults.Select(r => r.Metrics.MeanSquaredError);\n",
    "        var RMS = crossValidationResults.Select(r => r.Metrics.RootMeanSquaredError);\n",
    "        var lossFunction = crossValidationResults.Select(r => r.Metrics.LossFunction);\n",
    "        var R2 = crossValidationResults.Select(r => r.Metrics.RSquared);\n",
    "\n",
    "        Console.WriteLine($\"*************************************************************************************************************\");\n",
    "        Console.WriteLine($\"*       Metrics for {algorithmName} Regression model      \");\n",
    "        Console.WriteLine($\"*------------------------------------------------------------------------------------------------------------\");\n",
    "        Console.WriteLine($\"*       Average L1 Loss:    {L1.Average():0.###} \");\n",
    "        Console.WriteLine($\"*       Average L2 Loss:    {L2.Average():0.###}  \");\n",
    "        Console.WriteLine($\"*       Average RMS:          {RMS.Average():0.###}  \");\n",
    "        Console.WriteLine($\"*       Average Loss Function: {lossFunction.Average():0.###}  \");\n",
    "        Console.WriteLine($\"*       Average R-squared: {R2.Average():0.###}  \");\n",
    "        Console.WriteLine($\"*************************************************************************************************************\");\n",
    "    }\n",
    "    \n",
    "    public static void PrintMulticlassClassificationFoldsAverageMetrics(\n",
    "                                     string algorithmName,\n",
    "                                   IReadOnlyList<CrossValidationResult<MulticlassClassificationMetrics>> crossValResults\n",
    "                                                                       )\n",
    "    {\n",
    "        var metricsInMultipleFolds = crossValResults.Select(r => r.Metrics);\n",
    "\n",
    "        var microAccuracyValues = metricsInMultipleFolds.Select(m => m.MicroAccuracy);\n",
    "        var microAccuracyAverage = microAccuracyValues.Average();\n",
    "        var microAccuraciesStdDeviation = CalculateStandardDeviation(microAccuracyValues);\n",
    "        var microAccuraciesConfidenceInterval95 = CalculateConfidenceInterval95(microAccuracyValues);\n",
    "\n",
    "        var macroAccuracyValues = metricsInMultipleFolds.Select(m => m.MacroAccuracy);\n",
    "        var macroAccuracyAverage = macroAccuracyValues.Average();\n",
    "        var macroAccuraciesStdDeviation = CalculateStandardDeviation(macroAccuracyValues);\n",
    "        var macroAccuraciesConfidenceInterval95 = CalculateConfidenceInterval95(macroAccuracyValues);\n",
    "\n",
    "        var logLossValues = metricsInMultipleFolds.Select(m => m.LogLoss);\n",
    "        var logLossAverage = logLossValues.Average();\n",
    "        var logLossStdDeviation = CalculateStandardDeviation(logLossValues);\n",
    "        var logLossConfidenceInterval95 = CalculateConfidenceInterval95(logLossValues);\n",
    "\n",
    "        var logLossReductionValues = metricsInMultipleFolds.Select(m => m.LogLossReduction);\n",
    "        var logLossReductionAverage = logLossReductionValues.Average();\n",
    "        var logLossReductionStdDeviation = CalculateStandardDeviation(logLossReductionValues);\n",
    "        var logLossReductionConfidenceInterval95 = CalculateConfidenceInterval95(logLossReductionValues);\n",
    "\n",
    "        Console.WriteLine($\"*************************************************************************************************************\");\n",
    "        Console.WriteLine($\"*       Metrics for {algorithmName} Multi-class Classification model      \");\n",
    "        Console.WriteLine($\"*------------------------------------------------------------------------------------------------------------\");\n",
    "        Console.WriteLine($\"*       Average MicroAccuracy:    {microAccuracyAverage:0.###}  - Standard deviation: ({microAccuraciesStdDeviation:#.###})  - Confidence Interval 95%: ({microAccuraciesConfidenceInterval95:#.###})\");\n",
    "        Console.WriteLine($\"*       Average MacroAccuracy:    {macroAccuracyAverage:0.###}  - Standard deviation: ({macroAccuraciesStdDeviation:#.###})  - Confidence Interval 95%: ({macroAccuraciesConfidenceInterval95:#.###})\");\n",
    "        Console.WriteLine($\"*       Average LogLoss:          {logLossAverage:#.###}  - Standard deviation: ({logLossStdDeviation:#.###})  - Confidence Interval 95%: ({logLossConfidenceInterval95:#.###})\");\n",
    "        Console.WriteLine($\"*       Average LogLossReduction: {logLossReductionAverage:#.###}  - Standard deviation: ({logLossReductionStdDeviation:#.###})  - Confidence Interval 95%: ({logLossReductionConfidenceInterval95:#.###})\");\n",
    "        Console.WriteLine($\"*************************************************************************************************************\");\n",
    "    }    \n",
    "\n",
    "    public static double CalculateStandardDeviation (IEnumerable<double> values)\n",
    "    {\n",
    "        double average = values.Average();\n",
    "        double sumOfSquaresOfDifferences = values.Select(val => (val - average) * (val - average)).Sum();\n",
    "        double standardDeviation = Math.Sqrt(sumOfSquaresOfDifferences / (values.Count()-1));\n",
    "        return standardDeviation;\n",
    "    }\n",
    "\n",
    "    public static double CalculateConfidenceInterval95(IEnumerable<double> values)\n",
    "    {\n",
    "        double confidenceInterval95 = 1.96 * CalculateStandardDeviation(values) / Math.Sqrt((values.Count()-1));\n",
    "        return confidenceInterval95;\n",
    "    }\n",
    "\n",
    "    public static void PrintClusteringMetrics(string name, ClusteringMetrics metrics)\n",
    "    {\n",
    "        Console.WriteLine($\"*************************************************\");\n",
    "        Console.WriteLine($\"*       Metrics for {name} clustering model      \");\n",
    "        Console.WriteLine($\"*------------------------------------------------\");\n",
    "        Console.WriteLine($\"*       Average Distance: {metrics.AverageDistance}\");\n",
    "        Console.WriteLine($\"*       Davies Bouldin Index is: {metrics.DaviesBouldinIndex}\");\n",
    "        Console.WriteLine($\"*************************************************\");\n",
    "    }    \n",
    "}"
   ]
  },
  {
   "cell_type": "markdown",
   "metadata": {},
   "source": []
  },
  {
   "cell_type": "markdown",
   "metadata": {},
   "source": [
    "## Evaluate"
   ]
  },
  {
   "cell_type": "code",
   "execution_count": 7,
   "metadata": {},
   "outputs": [
    {
     "name": "stdout",
     "output_type": "stream",
     "text": [
      "=============== Cross-validating to get model's accuracy metrics ===============\n",
      "*************************************************************************************************************\n",
      "*       Metrics for Microsoft.ML.Data.EstimatorChain`1[Microsoft.ML.Transforms.KeyToValueMappingTransformer] Multi-class Classification model      \n",
      "*------------------------------------------------------------------------------------------------------------\n",
      "*       Average MicroAccuracy:    0,987  - Standard deviation: (,004)  - Confidence Interval 95%: (,004)\n",
      "*       Average MacroAccuracy:    0,967  - Standard deviation: (,009)  - Confidence Interval 95%: (,009)\n",
      "*       Average LogLoss:          ,05  - Standard deviation: (,015)  - Confidence Interval 95%: (,015)\n",
      "*       Average LogLossReduction: ,875  - Standard deviation: (,037)  - Confidence Interval 95%: (,036)\n",
      "*************************************************************************************************************\n",
      "=============== Predictions for below data===============\n",
      "The message 'That's a great idea. It should work.' is not spam\n",
      "The message 'free medicine winner! congratulations' is spam\n",
      "The message 'Yes we should meet over the weekend!' is not spam\n",
      "The message 'you win pills and free entry vouchers' is spam\n",
      "=============== End of process, hit any key to finish =============== \n"
     ]
    }
   ],
   "source": [
    "   // Download the dataset if it doesn't exist.\n",
    "if (!File.Exists(TrainDataPath))\n",
    "{\n",
    "    using (var client = new WebClient())\n",
    "    {\n",
    "        //The code below will download a dataset from a third-party, UCI (link), and may be governed by separate third-party terms. \n",
    "        //By proceeding, you agree to those separate terms.\n",
    "        client.DownloadFile(\"https://archive.ics.uci.edu/ml/machine-learning-databases/00228/smsspamcollection.zip\", \"spam.zip\");\n",
    "    }\n",
    "\n",
    "    ZipFile.ExtractToDirectory(\"spam.zip\", DataDirectoryPath);\n",
    "}\n",
    "\n",
    "// Set up the MLContext, which is a catalog of components in ML.NET.\n",
    "MLContext mlContext = new MLContext();\n",
    "\n",
    "// Specify the schema for spam data and read it into DataView.\n",
    "var data = mlContext.Data.LoadFromTextFile<SpamInput>(path: TrainDataPath, hasHeader: true, separatorChar: '\\t');\n",
    "\n",
    "// Create the estimator which converts the text label to boolean, featurizes the text, and adds a linear trainer.\n",
    "// Data process configuration with pipeline data transformations \n",
    "var dataProcessPipeline = mlContext.Transforms.Conversion.MapValueToKey(\"Label\", \"Label\")\n",
    "                          .Append(mlContext.Transforms.Text.FeaturizeText(\"FeaturesText\", new Microsoft.ML.Transforms.Text.TextFeaturizingEstimator.Options\n",
    "                          {\n",
    "                              WordFeatureExtractor = new Microsoft.ML.Transforms.Text.WordBagEstimator.Options { NgramLength = 2, UseAllLengths = true },\n",
    "                              CharFeatureExtractor = new Microsoft.ML.Transforms.Text.WordBagEstimator.Options { NgramLength = 3, UseAllLengths = false },\n",
    "                          }, \"Message\"))\n",
    "                          .Append(mlContext.Transforms.CopyColumns(\"Features\", \"FeaturesText\"))\n",
    "                          .Append(mlContext.Transforms.NormalizeLpNorm(\"Features\", \"Features\"))\n",
    "                          .AppendCacheCheckpoint(mlContext);\n",
    "\n",
    "// Set the training algorithm \n",
    "var trainer = mlContext.MulticlassClassification.Trainers.OneVersusAll(mlContext.BinaryClassification.Trainers.AveragedPerceptron(labelColumnName: \"Label\", numberOfIterations: 10, featureColumnName: \"Features\"), labelColumnName: \"Label\")\n",
    "                          .Append(mlContext.Transforms.Conversion.MapKeyToValue(\"PredictedLabel\", \"PredictedLabel\"));\n",
    "var trainingPipeLine = dataProcessPipeline.Append(trainer);\n",
    "\n",
    "// Evaluate the model using cross-validation.\n",
    "// Cross-validation splits our dataset into 'folds', trains a model on some folds and \n",
    "// evaluates it on the remaining fold. We are using 5 folds so we get back 5 sets of scores.\n",
    "// Let's compute the average AUC, which should be between 0.5 and 1 (higher is better).\n",
    "Console.WriteLine(\"=============== Cross-validating to get model's accuracy metrics ===============\");\n",
    "var crossValidationResults = mlContext.MulticlassClassification.CrossValidate(data: data, estimator: trainingPipeLine, numberOfFolds: 5);\n",
    "ConsoleHelper.PrintMulticlassClassificationFoldsAverageMetrics(trainer.ToString(), crossValidationResults);\n",
    "\n",
    "// Now let's train a model on the full dataset to help us get better results\n",
    "var model = trainingPipeLine.Fit(data);\n",
    "\n",
    "//Create a PredictionFunction from our model \n",
    "var predictor = mlContext.Model.CreatePredictionEngine<SpamInput, SpamPrediction>(model);\n",
    "\n",
    "Console.WriteLine(\"=============== Predictions for below data===============\");\n",
    "// Test a few examples\n",
    "ClassifyMessage(predictor, \"That's a great idea. It should work.\");\n",
    "ClassifyMessage(predictor, \"free medicine winner! congratulations\");\n",
    "ClassifyMessage(predictor, \"Yes we should meet over the weekend!\");\n",
    "ClassifyMessage(predictor, \"you win pills and free entry vouchers\");\n",
    "\n",
    "Console.WriteLine(\"=============== End of process, hit any key to finish =============== \");\n",
    "Console.ReadLine();"
   ]
  },
  {
   "cell_type": "code",
   "execution_count": null,
   "metadata": {},
   "outputs": [],
   "source": []
  }
 ],
 "metadata": {
  "kernelspec": {
   "display_name": ".NET (C#)",
   "language": "C#",
   "name": ".net-csharp"
  },
  "language_info": {
   "file_extension": ".cs",
   "mimetype": "text/x-csharp",
   "name": "C#",
   "pygments_lexer": "csharp",
   "version": "8.0"
  }
 },
 "nbformat": 4,
 "nbformat_minor": 4
}
