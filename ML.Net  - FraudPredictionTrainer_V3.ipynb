{
 "cells": [
  {
   "cell_type": "markdown",
   "metadata": {},
   "source": [
    "# ML.Net - Building a Fraud Classifier in ML.NET with Jupyter Notebooks"
   ]
  },
  {
   "cell_type": "markdown",
   "metadata": {},
   "source": [
    "## Import Nuget Packages"
   ]
  },
  {
   "cell_type": "code",
   "execution_count": 1,
   "metadata": {},
   "outputs": [
    {
     "data": {
      "text/html": [
       "\r\n",
       "<div>\r\n",
       "    <div id='dotnet-interactive-this-cell-ee3327f5d338495aa021d94665890671' style='display: none'>\r\n",
       "        The below script needs to be able to find the current output cell; this is an easy method to get it.\r\n",
       "    </div>\r\n",
       "    <script type='text/javascript'>\r\n",
       "// ensure `requirejs` is available globally\r\n",
       "if (typeof requirejs !== typeof Function || typeof requirejs.config !== typeof Function) {\r\n",
       "    let requirejs_script = document.createElement('script');\r\n",
       "    requirejs_script.setAttribute('src', 'https://cdnjs.cloudflare.com/ajax/libs/require.js/2.3.6/require.min.js');\r\n",
       "    requirejs_script.setAttribute('type', 'text/javascript');\r\n",
       "    requirejs_script.onload = function () {\r\n",
       "        loadDotnetInteractiveApi();\r\n",
       "    };\r\n",
       "\r\n",
       "    document.getElementsByTagName('head')[0].appendChild(requirejs_script);\r\n",
       "}\r\n",
       "else {\r\n",
       "    loadDotnetInteractiveApi();\r\n",
       "}\r\n",
       "\r\n",
       "async function probeAddresses(probingAddresses) {\r\n",
       "    function timeout(ms, promise) {\r\n",
       "        return new Promise(function (resolve, reject) {\r\n",
       "            setTimeout(function () {\r\n",
       "                reject(new Error('timeout'))\r\n",
       "            }, ms)\r\n",
       "            promise.then(resolve, reject)\r\n",
       "        })\r\n",
       "    }\r\n",
       "\r\n",
       "    if (Array.isArray(probingAddresses)) {\r\n",
       "        for (let i = 0; i < probingAddresses.length; i++) {\r\n",
       "\r\n",
       "            let rootUrl = probingAddresses[i];\r\n",
       "\r\n",
       "            if (!rootUrl.endsWith('/')) {\r\n",
       "                rootUrl = `${rootUrl}/`;\r\n",
       "            }\r\n",
       "\r\n",
       "            try {\r\n",
       "                let response = await timeout(1000, fetch(`${rootUrl}discovery`, {\r\n",
       "                    method: 'POST',\r\n",
       "                    timeout: 1000,\r\n",
       "                    headers: {\r\n",
       "                        'Content-Type': 'text/plain'\r\n",
       "                    },\r\n",
       "                    body: probingAddresses[i]\r\n",
       "                }));\r\n",
       "\r\n",
       "                if (response.status == 200) {\r\n",
       "                    return rootUrl;\r\n",
       "                }\r\n",
       "            }\r\n",
       "            catch (e) { }\r\n",
       "        }\r\n",
       "    }\r\n",
       "}\r\n",
       "\r\n",
       "function loadDotnetInteractiveApi() {\r\n",
       "    probeAddresses([\"http://172.18.128.1:1003/\", \"http://10.0.0.101:1003/\", \"http://172.21.192.1:1003/\", \"http://127.0.0.1:1003/\"])\r\n",
       "        .then((root) => {\r\n",
       "            // use probing to find host url and api resources\r\n",
       "            // load interactive helpers and language services\r\n",
       "            let dotnet_require = requirejs.config({\r\n",
       "                context: '13828.ee3327f5d338495aa021d94665890671',\r\n",
       "                paths: {\r\n",
       "                    'dotnet-interactive': `${root}resources`\r\n",
       "                }\r\n",
       "            });\r\n",
       "            if (!window.dotnet_require) {\r\n",
       "                window.dotnet_require = dotnet_require;\r\n",
       "            }\r\n",
       "        \r\n",
       "            dotnet_require([\r\n",
       "                    'dotnet-interactive/dotnet-interactive'\r\n",
       "                ],\r\n",
       "                function (dotnet) {\r\n",
       "                    dotnet.init(window);\r\n",
       "                },\r\n",
       "                function (error) {\r\n",
       "                    console.log(error);\r\n",
       "                }\r\n",
       "            );\r\n",
       "        })\r\n",
       "        .catch(error => {console.log(error);});\r\n",
       "    }\r\n",
       "    </script>\r\n",
       "</div>"
      ]
     },
     "metadata": {},
     "output_type": "display_data"
    },
    {
     "data": {
      "text/plain": [
       "Installed package Microsoft.ML.LightGbm version 1.5.0"
      ]
     },
     "metadata": {},
     "output_type": "display_data"
    },
    {
     "data": {
      "text/plain": [
       "Installed package Microsoft.Data.Analysis version 0.4.0"
      ]
     },
     "metadata": {},
     "output_type": "display_data"
    },
    {
     "data": {
      "text/plain": [
       "Installed package Microsoft.ML version 1.5.0"
      ]
     },
     "metadata": {},
     "output_type": "display_data"
    },
    {
     "data": {
      "text/plain": [
       "Installed package Microsoft.ML.FastTree version 1.5.0"
      ]
     },
     "metadata": {},
     "output_type": "display_data"
    },
    {
     "data": {
      "text/plain": [
       "Installed package Microsoft.ML.AutoML version 0.17.0"
      ]
     },
     "metadata": {},
     "output_type": "display_data"
    }
   ],
   "source": [
    "// ML.NET Nuget packages \n",
    "#r \"nuget:Microsoft.ML\"     \n",
    "\n",
    "// ML.NET FastTree Nuget packages \n",
    "#r \"nuget:Microsoft.ML.FastTree\"\n",
    "\n",
    "// ML.NET LightGbm Nuget packages     \n",
    "#r \"nuget:Microsoft.ML.LightGbm\"\n",
    "\n",
    "// ML.NET AutoML Nuget packages   \n",
    "#r \"nuget:Microsoft.ML.AutoML\"\n",
    "\n",
    "// ML.NET Data.Analysis Nuget packages      \n",
    "#r \"nuget:Microsoft.Data.Analysis  "
   ]
  },
  {
   "cell_type": "markdown",
   "metadata": {},
   "source": [
    "## Declare Using"
   ]
  },
  {
   "cell_type": "code",
   "execution_count": 3,
   "metadata": {},
   "outputs": [],
   "source": [
    "using Microsoft.ML;\n",
    "using Microsoft.ML.Trainers.FastTree;\n",
    "using System;\n",
    "using System.Diagnostics;\n",
    "using Microsoft.ML.Data;\n",
    "using XPlot.Plotly;\n",
    "using Microsoft.ML.AutoML;"
   ]
  },
  {
   "cell_type": "code",
   "execution_count": 5,
   "metadata": {},
   "outputs": [
    {
     "name": "stdout",
     "output_type": "stream",
     "text": [
      "Time elapsed: 00:00:00.0000020\n"
     ]
    }
   ],
   "source": [
    "// Create new stopwatch.\n",
    "Stopwatch stopwatch = new Stopwatch();\n",
    "\n",
    "// Begin timing.\n",
    "stopwatch.Start();\n",
    "Console.WriteLine(\"Time elapsed: {0}\", stopwatch.Elapsed);"
   ]
  },
  {
   "cell_type": "code",
   "execution_count": 6,
   "metadata": {},
   "outputs": [],
   "source": [
    "var mlContext = new MLContext(seed: 1);\n",
    "\n",
    "var DataPath = \"./Datasets/fraudulent-classifier/data.csv\";"
   ]
  },
  {
   "cell_type": "code",
   "execution_count": 7,
   "metadata": {},
   "outputs": [],
   "source": [
    "public sealed class Transaction\n",
    "{\n",
    "     [ColumnName(\"Step\"), LoadColumn(0)]\n",
    "     public float Step { get; set; }\n",
    "\n",
    "     [ColumnName(\"Type\"), LoadColumn(1)]\n",
    "     public string Type { get; set; }\n",
    "\n",
    "     [ColumnName(\"Amount\"), LoadColumn(2)]\n",
    "     public float Amount { get; set; }\n",
    "\n",
    "     [ColumnName(\"NameOrig\"), LoadColumn(3)]\n",
    "     public string NameOrig { get; set; }\n",
    "\n",
    "     [ColumnName(\"OldbalanceOrg\"), LoadColumn(4)]\n",
    "     public float OldbalanceOrg { get; set; }\n",
    "\n",
    "     [ColumnName(\"NewbalanceOrig\"), LoadColumn(5)]\n",
    "     public float NewbalanceOrig { get; set; }\n",
    "\n",
    "     [ColumnName(\"NameDest\"), LoadColumn(6)]\n",
    "     public string NameDest { get; set; }\n",
    "\n",
    "     [ColumnName(\"OldbalanceDest\"), LoadColumn(7)]\n",
    "     public float OldbalanceDest { get; set; }\n",
    "\n",
    "     [ColumnName(\"NewbalanceDest\"), LoadColumn(8)]\n",
    "     public float NewbalanceDest { get; set; }\n",
    "\n",
    "     [ColumnName(\"IsFraud\"), LoadColumn(9)]\n",
    "     public bool IsFraud { get; set; }\n",
    "\n",
    "     [ColumnName(\"IsFlaggedFraud\"), LoadColumn(10)]\n",
    "     public float IsFlaggedFraud { get; set; }\n",
    "\n",
    "}"
   ]
  },
  {
   "cell_type": "code",
   "execution_count": 8,
   "metadata": {},
   "outputs": [
    {
     "name": "stdout",
     "output_type": "stream",
     "text": [
      "Time elapsed: 00:00:04.6118122-TrainTestSplit\n"
     ]
    }
   ],
   "source": [
    "//Load\n",
    "var data = mlContext.Data.LoadFromTextFile<Transaction>(DataPath, hasHeader: true, separatorChar: ',');\n",
    "var testTrainData = mlContext.Data.TrainTestSplit(data);\n",
    "Console.WriteLine(\"Time elapsed: {0}-TrainTestSplit\", stopwatch.Elapsed);"
   ]
  },
  {
   "cell_type": "code",
   "execution_count": 9,
   "metadata": {},
   "outputs": [],
   "source": [
    "private static IEstimator<ITransformer> BuildDataProcessingPipeline(MLContext mlContext)\n",
    "{\n",
    "    return mlContext.Transforms.Categorical.OneHotEncoding(nameof(Transaction.Type))\n",
    "            .Append(mlContext.Transforms.Categorical.OneHotHashEncoding(nameof(Transaction.NameDest))\n",
    "            .Append(mlContext.Transforms.Concatenate(\"Features\", nameof(Transaction.Type), nameof(Transaction.NameDest), \n",
    "            nameof(Transaction.Amount), nameof(Transaction.OldbalanceOrg), nameof(Transaction.OldbalanceDest), \n",
    "            nameof(Transaction.NewbalanceOrig), nameof(Transaction.NewbalanceDest))));\n",
    "}"
   ]
  },
  {
   "cell_type": "code",
   "execution_count": 10,
   "metadata": {},
   "outputs": [],
   "source": [
    "private static IEstimator<ITransformer> BuildTrainingPipeline(MLContext mlContext, IEstimator<ITransformer> dataProcessingPipeline)\n",
    "{\n",
    "    return dataProcessingPipeline\n",
    "  .Append(mlContext.BinaryClassification.Trainers.LbfgsLogisticRegression(labelColumnName: nameof(Transaction.IsFraud)));\n",
    "}"
   ]
  },
  {
   "cell_type": "code",
   "execution_count": 11,
   "metadata": {},
   "outputs": [],
   "source": [
    "private void PrintMetrics(BinaryClassificationMetrics metrics)\n",
    "{\n",
    "    Console.WriteLine($\"Accuracy: {metrics.Accuracy}\");\n",
    "    Console.WriteLine($\"AUCPC: {metrics.AreaUnderPrecisionRecallCurve}\");\n",
    "    Console.WriteLine($\"Recall: {metrics.PositiveRecall}\");\n",
    "    Console.WriteLine($\"Precision: {metrics.PositivePrecision}\");\n",
    "    Console.WriteLine($\"F1Score: {metrics.F1Score}\");    \n",
    "}"
   ]
  },
  {
   "cell_type": "code",
   "execution_count": 12,
   "metadata": {},
   "outputs": [
    {
     "data": {
      "text/html": [
       "Microsoft.ML.Transforms.OneHotEncodingEstimator"
      ]
     },
     "execution_count": 12,
     "metadata": {},
     "output_type": "execute_result"
    }
   ],
   "source": [
    "mlContext.Transforms.Categorical.OneHotEncoding(nameof(Transaction.Type))"
   ]
  },
  {
   "cell_type": "code",
   "execution_count": 13,
   "metadata": {},
   "outputs": [
    {
     "name": "stdout",
     "output_type": "stream",
     "text": [
      "Time elapsed: 00:00:13.6751175-BuildDataProcessingPipeline\n"
     ]
    }
   ],
   "source": [
    "//Transform\n",
    "var dataProcessingPipeline = BuildDataProcessingPipeline(mlContext);\n",
    "Console.WriteLine(\"Time elapsed: {0}-BuildDataProcessingPipeline\", stopwatch.Elapsed);"
   ]
  },
  {
   "cell_type": "code",
   "execution_count": 14,
   "metadata": {},
   "outputs": [
    {
     "name": "stdout",
     "output_type": "stream",
     "text": [
      "Time elapsed: 00:00:14.5835199-BuildTrainingPipeline\n"
     ]
    }
   ],
   "source": [
    " //Train\n",
    "var trainingPipeline = BuildTrainingPipeline(mlContext, dataProcessingPipeline);\n",
    "Console.WriteLine(\"Time elapsed: {0}-BuildTrainingPipeline\", stopwatch.Elapsed);"
   ]
  },
  {
   "cell_type": "code",
   "execution_count": 15,
   "metadata": {},
   "outputs": [
    {
     "name": "stdout",
     "output_type": "stream",
     "text": [
      "Time elapsed: 00:00:19.4764243-Fit\n"
     ]
    }
   ],
   "source": [
    "var trainedModel = trainingPipeline.Fit(testTrainData.TrainSet);\n",
    "\n",
    "Console.WriteLine(\"Time elapsed: {0}-Fit\", stopwatch.Elapsed);"
   ]
  },
  {
   "cell_type": "code",
   "execution_count": 16,
   "metadata": {},
   "outputs": [
    {
     "name": "stdout",
     "output_type": "stream",
     "text": [
      "Time elapsed: 00:00:19.5601631-Transform\n"
     ]
    }
   ],
   "source": [
    "var predictions = trainedModel.Transform(testTrainData.TestSet);\n",
    "\n",
    "Console.WriteLine(\"Time elapsed: {0}-Transform\", stopwatch.Elapsed);"
   ]
  },
  {
   "cell_type": "code",
   "execution_count": 17,
   "metadata": {},
   "outputs": [
    {
     "name": "stdout",
     "output_type": "stream",
     "text": [
      "Time elapsed: 00:00:20.0072584-Evaluate\n"
     ]
    }
   ],
   "source": [
    "//Evaluate\n",
    "var metrics = mlContext.BinaryClassification.Evaluate(predictions, labelColumnName: nameof(Transaction.IsFraud));  \n",
    "\n",
    "Console.WriteLine(\"Time elapsed: {0}-Evaluate\", stopwatch.Elapsed);"
   ]
  },
  {
   "cell_type": "code",
   "execution_count": 18,
   "metadata": {},
   "outputs": [
    {
     "name": "stdout",
     "output_type": "stream",
     "text": [
      "Accuracy: 0,9997514848778548\n",
      "AUCPC: 0,6363275178989002\n",
      "Recall: 0,5625\n",
      "Precision: 0,75\n",
      "F1Score: 0,6428571428571429\n"
     ]
    }
   ],
   "source": [
    "PrintMetrics(metrics)"
   ]
  },
  {
   "cell_type": "code",
   "execution_count": 19,
   "metadata": {},
   "outputs": [
    {
     "data": {
      "text/html": [
       "<table><thead><tr><th>LogLoss</th><th>LogLossReduction</th><th>Entropy</th><th>AreaUnderRocCurve</th><th>Accuracy</th><th>PositivePrecision</th><th>PositiveRecall</th><th>NegativePrecision</th><th>NegativeRecall</th><th>F1Score</th><th>AreaUnderPrecisionRecallCurve</th><th>ConfusionMatrix</th></tr></thead><tbody><tr><td>Infinity</td><td>-Infinity</td><td>0.005065221306542531</td><td>0.918822874972031</td><td>0.9997514848778548</td><td>0.75</td><td>0.5625</td><td>0.9998259875208193</td><td>0.9999254158068767</td><td>0.6428571428571429</td><td>0.6363275178989002</td><td>{ Microsoft.ML.Data.ConfusionMatrix: PerClassPrecision: [ 0.75, 0.9998259875208193 ], PerClassRecall: [ 0.5625, 0.9999254158068767 ], Counts: [ [ 9, 7 ], [ 3, 40220 ] ], NumberOfClasses: 2 }</td></tr></tbody></table>"
      ]
     },
     "execution_count": 19,
     "metadata": {},
     "output_type": "execute_result"
    }
   ],
   "source": [
    "metrics"
   ]
  },
  {
   "cell_type": "code",
   "execution_count": 20,
   "metadata": {},
   "outputs": [
    {
     "name": "stdout",
     "output_type": "stream",
     "text": [
      "End Program Time elapsed: 00:00:23.7501100\n"
     ]
    }
   ],
   "source": [
    "//Save\n",
    "mlContext.Model.Save(trainedModel, data.Schema, @\"./Datasets/fraudulent-classifier/LModel_LbfgsLogisticRegression.zip\");\n",
    "Console.WriteLine(\"End Program Time elapsed: {0}\", stopwatch.Elapsed);\n",
    "//stopwatch.Stop();"
   ]
  },
  {
   "cell_type": "code",
   "execution_count": 21,
   "metadata": {},
   "outputs": [],
   "source": [
    "var trainingPipeline = dataProcessingPipeline\n",
    "  .Append(mlContext.BinaryClassification.Trainers.FastTree(new FastTreeBinaryTrainer.Options \n",
    "{ \n",
    "  NumberOfLeaves = 10, \n",
    "  NumberOfTrees = 50,  \n",
    "  LabelColumnName = nameof(Transaction.IsFraud),\n",
    "  FeatureColumnName = \"Features\" \n",
    "}));"
   ]
  },
  {
   "cell_type": "code",
   "execution_count": 22,
   "metadata": {},
   "outputs": [
    {
     "name": "stdout",
     "output_type": "stream",
     "text": [
      "Time elapsed: 00:00:33.0346438-Fit\n"
     ]
    }
   ],
   "source": [
    "var trainedModel = trainingPipeline.Fit(testTrainData.TrainSet);\n",
    "\n",
    "Console.WriteLine(\"Time elapsed: {0}-Fit\", stopwatch.Elapsed);"
   ]
  },
  {
   "cell_type": "code",
   "execution_count": 23,
   "metadata": {},
   "outputs": [
    {
     "name": "stdout",
     "output_type": "stream",
     "text": [
      "Time elapsed: 00:00:33.1722258-Transform\n"
     ]
    }
   ],
   "source": [
    "var predictions = trainedModel.Transform(testTrainData.TestSet);\n",
    "\n",
    "Console.WriteLine(\"Time elapsed: {0}-Transform\", stopwatch.Elapsed);"
   ]
  },
  {
   "cell_type": "code",
   "execution_count": 24,
   "metadata": {},
   "outputs": [
    {
     "name": "stdout",
     "output_type": "stream",
     "text": [
      "Time elapsed: 00:00:33.8326844-Evaluate\n"
     ]
    }
   ],
   "source": [
    "var metrics = mlContext.BinaryClassification.Evaluate(predictions, labelColumnName: nameof(Transaction.IsFraud));  \n",
    "\n",
    "Console.WriteLine(\"Time elapsed: {0}-Evaluate\", stopwatch.Elapsed);"
   ]
  },
  {
   "cell_type": "code",
   "execution_count": 25,
   "metadata": {},
   "outputs": [
    {
     "name": "stdout",
     "output_type": "stream",
     "text": [
      "Accuracy: 0,9996520788289968\n",
      "AUCPC: 0,3414573850471399\n",
      "Recall: 0,1875\n",
      "Precision: 0,75\n",
      "F1Score: 0,3\n"
     ]
    }
   ],
   "source": [
    "PrintMetrics(metrics)"
   ]
  },
  {
   "cell_type": "code",
   "execution_count": 26,
   "metadata": {},
   "outputs": [
    {
     "name": "stdout",
     "output_type": "stream",
     "text": [
      "End Program Time elapsed: 00:00:34.0181581\n"
     ]
    }
   ],
   "source": [
    "//Save\n",
    "mlContext.Model.Save(trainedModel, data.Schema, @\"./Datasets/fraudulent-classifier/LModel_FastTree.zip\");\n",
    "Console.WriteLine(\"End Program Time elapsed: {0}\", stopwatch.Elapsed);\n",
    "//stopwatch.Stop();"
   ]
  },
  {
   "cell_type": "markdown",
   "metadata": {},
   "source": [
    "# AutoML"
   ]
  },
  {
   "cell_type": "code",
   "execution_count": 27,
   "metadata": {},
   "outputs": [],
   "source": [
    "using Microsoft.ML.AutoML;\n",
    "\n",
    "\n",
    "var result = mlContext.Auto()\n",
    "                .CreateBinaryClassificationExperiment(50)\n",
    "                .Execute(testTrainData.TrainSet, labelColumnName: \"IsFraud\");"
   ]
  },
  {
   "cell_type": "code",
   "execution_count": 28,
   "metadata": {},
   "outputs": [
    {
     "data": {
      "text/html": [
       "<div id=\"d8393d13-1fc3-41fe-8df4-958910370c3c\" style=\"width: 900px; height: 500px;\"></div>\r\n",
       "<script type=\"text/javascript\">\r\n",
       "\r\n",
       "var renderPlotly = function() {\r\n",
       "    var xplotRequire = requirejs.config({context:'xplot-3.0.1',paths:{plotly:'https://cdn.plot.ly/plotly-1.49.2.min'}});\r\n",
       "    xplotRequire(['plotly'], function(Plotly) {\r\n",
       "\n",
       "            var data = [{\"type\":\"scatter\",\"x\":[5.4723925],\"y\":[0.9994211048627192],\"mode\":\"markers\",\"marker\":{\"size\":12},\"name\":\"AveragedPerceptronBinary\"},{\"type\":\"scatter\",\"x\":[3.4843499],\"y\":[0.9994211048627192],\"mode\":\"markers\",\"marker\":{\"size\":12},\"name\":\"SdcaLogisticRegressionBinary\"},{\"type\":\"scatter\",\"x\":[3.4604002],\"y\":[0.9994211048627192],\"mode\":\"markers\",\"marker\":{\"size\":12},\"name\":\"LinearSvmBinary\"},{\"type\":\"scatter\",\"x\":[14.5453297,2.9708736],\"y\":[0.9994762377329364,0.9994762377329364],\"mode\":\"markers\",\"marker\":{\"size\":12},\"name\":\"FastTreeBinary\"},{\"type\":\"scatter\",\"x\":[3.4056889],\"y\":[0.9994211048627192],\"mode\":\"markers\",\"marker\":{\"size\":12},\"name\":\"LbfgsLogisticRegressionBinary\"},{\"type\":\"scatter\",\"x\":[10.3045494],\"y\":[0.9994762377329364],\"mode\":\"markers\",\"marker\":{\"size\":12},\"name\":\"FastForestBinary\"},{\"type\":\"scatter\",\"x\":[3.6298498],\"y\":[0.9994211048627192],\"mode\":\"markers\",\"marker\":{\"size\":12},\"name\":\"SgdCalibratedBinary\"}];\n",
       "            var layout = {\"xaxis\":{\"title\":\"Training Time\",\"_isSubplotObj\":true},\"yaxis\":{\"title\":\"Accuracy\",\"_isSubplotObj\":true}};\n",
       "            Plotly.newPlot('d8393d13-1fc3-41fe-8df4-958910370c3c', data, layout);\n",
       "        \r\n",
       "});\r\n",
       "};\r\n",
       "if ((typeof(requirejs) !==  typeof(Function)) || (typeof(requirejs.config) !== typeof(Function))) { \r\n",
       "    var script = document.createElement(\"script\"); \r\n",
       "    script.setAttribute(\"src\", \"https://cdnjs.cloudflare.com/ajax/libs/require.js/2.3.6/require.min.js\"); \r\n",
       "    script.onload = function(){\r\n",
       "        renderPlotly();\r\n",
       "    };\r\n",
       "    document.getElementsByTagName(\"head\")[0].appendChild(script); \r\n",
       "}\r\n",
       "else {\r\n",
       "    renderPlotly();\r\n",
       "}\r\n",
       "</script>\r\n"
      ]
     },
     "metadata": {},
     "output_type": "display_data"
    },
    {
     "name": "stdout",
     "output_type": "stream",
     "text": [
      "Best Trainer:FastTreeBinary\n"
     ]
    }
   ],
   "source": [
    "var scatters = result.RunDetails.Where(d => d.ValidationMetrics != null).GroupBy(    \n",
    "    r => r.TrainerName,\n",
    "    (name, details) => new Graph.Scatter()\n",
    "    {\n",
    "        name = name,\n",
    "        x = details.Select(r => r.RuntimeInSeconds),\n",
    "        y = details.Select(r => r.ValidationMetrics.Accuracy),\n",
    "        mode = \"markers\",\n",
    "        marker = new Graph.Marker() { size = 12 }\n",
    "    });\n",
    "\n",
    "var chart = Chart.Plot(scatters);\n",
    "chart.WithXTitle(\"Training Time\");\n",
    "chart.WithYTitle(\"Accuracy\");\n",
    "display(chart);\n",
    "\n",
    "Console.WriteLine($\"Best Trainer:{result.BestRun.TrainerName}\");"
   ]
  },
  {
   "cell_type": "markdown",
   "metadata": {},
   "source": [
    "## Evaluate AutoML"
   ]
  },
  {
   "cell_type": "code",
   "execution_count": 29,
   "metadata": {},
   "outputs": [
    {
     "data": {
      "text/html": [
       "<table><thead><tr><th>LogLoss</th><th>LogLossReduction</th><th>Entropy</th><th>AreaUnderRocCurve</th><th>Accuracy</th><th>PositivePrecision</th><th>PositiveRecall</th><th>NegativePrecision</th><th>NegativeRecall</th><th>F1Score</th><th>AreaUnderPrecisionRecallCurve</th><th>ConfusionMatrix</th></tr></thead><tbody><tr><td>0.0026941868974778033</td><td>0.46810085198097134</td><td>0.005065221306542531</td><td>0.9403808144593889</td><td>0.9997017818534257</td><td>0.8333333333333334</td><td>0.3125</td><td>0.999726592598116</td><td>0.9999751386022923</td><td>0.45454545454545453</td><td>0.4525390441223951</td><td>{ Microsoft.ML.Data.ConfusionMatrix: PerClassPrecision: [ 0.8333333333333334, 0.999726592598116 ], PerClassRecall: [ 0.3125, 0.9999751386022923 ], Counts: [ [ 5, 11 ], [ 1, 40222 ] ], NumberOfClasses: 2 }</td></tr></tbody></table>"
      ]
     },
     "metadata": {},
     "output_type": "display_data"
    }
   ],
   "source": [
    "var predictions = result.BestRun.Model.Transform(testTrainData.TestSet);\n",
    "var metrics = mlContext.BinaryClassification.Evaluate(predictions, labelColumnName: \"IsFraud\");\n",
    "display(metrics)"
   ]
  },
  {
   "cell_type": "code",
   "execution_count": 30,
   "metadata": {},
   "outputs": [
    {
     "name": "stdout",
     "output_type": "stream",
     "text": [
      "Accuracy: 0,9997017818534257\n",
      "AUCPC: 0,4525390441223951\n",
      "Recall: 0,3125\n",
      "Precision: 0,8333333333333334\n",
      "F1Score: 0,45454545454545453\n"
     ]
    }
   ],
   "source": [
    "PrintMetrics(metrics)"
   ]
  },
  {
   "cell_type": "markdown",
   "metadata": {},
   "source": [
    "## Save"
   ]
  },
  {
   "cell_type": "code",
   "execution_count": 31,
   "metadata": {},
   "outputs": [],
   "source": [
    "mlContext.Model.Save(trainedModel, data.Schema, \"./Datasets/fraudulent-classifier/ML_Autoodel.zip\"); "
   ]
  },
  {
   "cell_type": "markdown",
   "metadata": {},
   "source": [
    "## Test Prediction"
   ]
  },
  {
   "cell_type": "code",
   "execution_count": 32,
   "metadata": {},
   "outputs": [],
   "source": [
    "public class FraudPrediction\n",
    "{\n",
    "    // ColumnName attribute is used to change the column name from\n",
    "    // its default value, which is the name of the field.\n",
    "    [ColumnName(\"PredictedLabel\")]\n",
    "    public bool IsFraud { get; set; }\n",
    "\n",
    "    [ColumnName(\"Score\")]\n",
    "    public float Score { get; set; }\n",
    "}"
   ]
  },
  {
   "cell_type": "markdown",
   "metadata": {},
   "source": []
  },
  {
   "cell_type": "code",
   "execution_count": 33,
   "metadata": {},
   "outputs": [],
   "source": [
    "PredictionEngine<Transaction, FraudPrediction> predictionEngine;"
   ]
  },
  {
   "cell_type": "code",
   "execution_count": 34,
   "metadata": {},
   "outputs": [],
   "source": [
    "//Define DataViewSchema for data preparation pipeline and trained model\n",
    "DataViewSchema modelSchema;\n",
    "\n",
    "var model = mlContext.Model.Load(@\"./Datasets/fraudulent-classifier/ML_Autoodel.zip\", out modelSchema);\n",
    "            \n",
    "predictionEngine = mlContext.Model.CreatePredictionEngine<Transaction, FraudPrediction>(model);\n",
    "\n"
   ]
  },
  {
   "cell_type": "code",
   "execution_count": 35,
   "metadata": {},
   "outputs": [
    {
     "data": {
      "text/html": [
       "<table><thead><tr><th>IsFraud</th><th>Score</th></tr></thead><tbody><tr><td>False</td><td>-20.025032</td></tr></tbody></table>"
      ]
     },
     "execution_count": 35,
     "metadata": {},
     "output_type": "execute_result"
    }
   ],
   "source": [
    "var transaction = new Transaction \n",
    "{\n",
    "        Amount = 1500f,\n",
    "        OldbalanceDest = 100,\n",
    "        NewbalanceDest = 300,\n",
    "        NameDest = \"C123\",\n",
    "        NameOrig = \"B123\"\n",
    "};\n",
    "          \n",
    "var result = predictionEngine.Predict(transaction);\n",
    "\n",
    "result"
   ]
  }
 ],
 "metadata": {
  "kernelspec": {
   "display_name": ".NET (C#)",
   "language": "C#",
   "name": ".net-csharp"
  },
  "language_info": {
   "file_extension": ".cs",
   "mimetype": "text/x-csharp",
   "name": "C#",
   "pygments_lexer": "csharp",
   "version": "8.0"
  }
 },
 "nbformat": 4,
 "nbformat_minor": 4
}
