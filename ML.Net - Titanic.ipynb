{
 "cells": [
  {
   "cell_type": "markdown",
   "metadata": {},
   "source": [
    "# ML.Net - Titanic"
   ]
  },
  {
   "cell_type": "code",
   "execution_count": 1,
   "metadata": {},
   "outputs": [
    {
     "data": {
      "text/html": [
       "\r\n",
       "<div>\r\n",
       "    <div id='dotnet-interactive-this-cell-322c1807c492492c89cb2973654cf0f2' style='display: none'>\r\n",
       "        The below script needs to be able to find the current output cell; this is an easy method to get it.\r\n",
       "    </div>\r\n",
       "    <script type='text/javascript'>\r\n",
       "// ensure `requirejs` is available globally\r\n",
       "if (typeof requirejs !== typeof Function || typeof requirejs.config !== typeof Function) {\r\n",
       "    let requirejs_script = document.createElement('script');\r\n",
       "    requirejs_script.setAttribute('src', 'https://cdnjs.cloudflare.com/ajax/libs/require.js/2.3.6/require.min.js');\r\n",
       "    requirejs_script.setAttribute('type', 'text/javascript');\r\n",
       "    requirejs_script.onload = function () {\r\n",
       "        loadDotnetInteractiveApi();\r\n",
       "    };\r\n",
       "\r\n",
       "    document.getElementsByTagName('head')[0].appendChild(requirejs_script);\r\n",
       "}\r\n",
       "else {\r\n",
       "    loadDotnetInteractiveApi();\r\n",
       "}\r\n",
       "\r\n",
       "async function probeAddresses(probingAddresses) {\r\n",
       "    function timeout(ms, promise) {\r\n",
       "        return new Promise(function (resolve, reject) {\r\n",
       "            setTimeout(function () {\r\n",
       "                reject(new Error('timeout'))\r\n",
       "            }, ms)\r\n",
       "            promise.then(resolve, reject)\r\n",
       "        })\r\n",
       "    }\r\n",
       "\r\n",
       "    if (Array.isArray(probingAddresses)) {\r\n",
       "        for (let i = 0; i < probingAddresses.length; i++) {\r\n",
       "\r\n",
       "            let rootUrl = probingAddresses[i];\r\n",
       "\r\n",
       "            if (!rootUrl.endsWith('/')) {\r\n",
       "                rootUrl = `${rootUrl}/`;\r\n",
       "            }\r\n",
       "\r\n",
       "            try {\r\n",
       "                let response = await timeout(1000, fetch(`${rootUrl}discovery`, {\r\n",
       "                    method: 'POST',\r\n",
       "                    timeout: 1000,\r\n",
       "                    headers: {\r\n",
       "                        'Content-Type': 'text/plain'\r\n",
       "                    },\r\n",
       "                    body: probingAddresses[i]\r\n",
       "                }));\r\n",
       "\r\n",
       "                if (response.status == 200) {\r\n",
       "                    return rootUrl;\r\n",
       "                }\r\n",
       "            }\r\n",
       "            catch (e) { }\r\n",
       "        }\r\n",
       "    }\r\n",
       "}\r\n",
       "\r\n",
       "function loadDotnetInteractiveApi() {\r\n",
       "    probeAddresses([\"http://172.30.0.1:1130/\", \"http://10.0.0.101:1130/\", \"http://172.19.16.1:1130/\", \"http://127.0.0.1:1130/\"])\r\n",
       "        .then((root) => {\r\n",
       "            // use probing to find host url and api resources\r\n",
       "            // load interactive helpers and language services\r\n",
       "            let dotnet_require = requirejs.config({\r\n",
       "                context: '38352.322c1807c492492c89cb2973654cf0f2',\r\n",
       "                paths: {\r\n",
       "                    'dotnet-interactive': `${root}resources`\r\n",
       "                }\r\n",
       "            });\r\n",
       "            if (!window.dotnet_require) {\r\n",
       "                window.dotnet_require = dotnet_require;\r\n",
       "            }\r\n",
       "        \r\n",
       "            dotnet_require([\r\n",
       "                    'dotnet-interactive/dotnet-interactive'\r\n",
       "                ],\r\n",
       "                function (dotnet) {\r\n",
       "                    dotnet.init(window);\r\n",
       "                },\r\n",
       "                function (error) {\r\n",
       "                    console.log(error);\r\n",
       "                }\r\n",
       "            );\r\n",
       "        })\r\n",
       "        .catch(error => {console.log(error);});\r\n",
       "    }\r\n",
       "    </script>\r\n",
       "</div>"
      ]
     },
     "metadata": {},
     "output_type": "display_data"
    },
    {
     "data": {
      "text/plain": [
       "Installed package Microsoft.ML version 1.5.0"
      ]
     },
     "metadata": {},
     "output_type": "display_data"
    }
   ],
   "source": [
    "// ML.NET Nuget packages installation\n",
    "#r \"nuget:Microsoft.ML\""
   ]
  },
  {
   "cell_type": "code",
   "execution_count": 2,
   "metadata": {},
   "outputs": [],
   "source": [
    "using System;\n",
    "using Microsoft.ML;\n",
    "using Microsoft.ML.Data;\n",
    "using Microsoft.ML.Transforms;"
   ]
  },
  {
   "cell_type": "code",
   "execution_count": 3,
   "metadata": {},
   "outputs": [],
   "source": [
    "public sealed class Passenger\n",
    "{\n",
    "    [LoadColumn(0)]\n",
    "    public bool Survived { get; set; }\n",
    "\n",
    "    [LoadColumn(1)]\n",
    "    public float Pclass { get; set; }\n",
    "\n",
    "    [LoadColumn(2)]\n",
    "    public string Name { get; set; }\n",
    "\n",
    "    [LoadColumn(3)]\n",
    "    public string Sex { get; set; }\n",
    "\n",
    "    [LoadColumn(4)]\n",
    "    public float Age { get; set; }\n",
    "\n",
    "    [LoadColumn(5)]\n",
    "    public float SiblingsAboard { get; set; }\n",
    "\n",
    "    [LoadColumn(6)]\n",
    "    public float ParentsAboard { get; set; }\n",
    "}\n",
    "\n",
    "public sealed class SurvivalPrediction\n",
    "{\n",
    "    [ColumnName(\"PredictedLabel\")]\n",
    "    public bool Survived { get; set; }\n",
    "}"
   ]
  },
  {
   "cell_type": "code",
   "execution_count": 4,
   "metadata": {},
   "outputs": [],
   "source": [
    "public static void PrintBinaryClassificationMetrics(string name, CalibratedBinaryClassificationMetrics metrics)\n",
    "{\n",
    "    Console.WriteLine($\"************************************************************\");\n",
    "    Console.WriteLine($\"*       Metrics for {name} binary classification model      \");\n",
    "    Console.WriteLine($\"*-----------------------------------------------------------\");\n",
    "    Console.WriteLine($\"*       Accuracy: {metrics.Accuracy:P2}\");\n",
    "    Console.WriteLine($\"*       F1Score:  {metrics.F1Score:P2}\");\n",
    "    Console.WriteLine($\"*       LogLoss:  {metrics.LogLoss:#.##}\");\n",
    "    Console.WriteLine($\"*       LogLossReduction:  {metrics.LogLossReduction:#.##}\");\n",
    "    Console.WriteLine($\"*       PositivePrecision:  {metrics.PositivePrecision:#.##}\");\n",
    "    Console.WriteLine($\"*       PositiveRecall:  {metrics.PositiveRecall:#.##}\");\n",
    "    Console.WriteLine($\"*       NegativePrecision:  {metrics.NegativePrecision:#.##}\");\n",
    "    Console.WriteLine($\"*       NegativeRecall:  {metrics.NegativeRecall:P2}\");\n",
    "    Console.WriteLine($\"************************************************************\");\n",
    "}"
   ]
  },
  {
   "cell_type": "code",
   "execution_count": 5,
   "metadata": {},
   "outputs": [],
   "source": [
    "private const string DataPath = \"Datasets/Titanic_Data/data.csv\";"
   ]
  },
  {
   "cell_type": "code",
   "execution_count": 6,
   "metadata": {},
   "outputs": [
    {
     "name": "stdout",
     "output_type": "stream",
     "text": [
      "Starting to train model\n",
      "Reading data...\n",
      "Transforming data...\n",
      "Training data...\n",
      "************************************************************\n",
      "*       Metrics for Microsoft.ML.Data.EstimatorChain`1[Microsoft.ML.Data.BinaryPredictionTransformer`1[Microsoft.ML.Calibrators.CalibratedModelParametersBase`2[Microsoft.ML.Trainers.LinearBinaryModelParameters,Microsoft.ML.Calibrators.PlattCalibrator]]] binary classification model      \n",
      "*-----------------------------------------------------------\n",
      "*       Accuracy: 85,39%\n",
      "*       F1Score:  77,19%\n",
      "*       LogLoss:  ,52\n",
      "*       LogLossReduction:  ,44\n",
      "*       PositivePrecision:  ,81\n",
      "*       PositiveRecall:  ,73\n",
      "*       NegativePrecision:  ,87\n",
      "*       NegativeRecall:  91,53%\n",
      "************************************************************\n"
     ]
    }
   ],
   "source": [
    "Console.WriteLine(\"Starting to train model\");\n",
    "\n",
    "var mlContext = new MLContext(seed: 1);\n",
    "\n",
    "//Load\n",
    "Console.WriteLine(\"Reading data...\");\n",
    "var data = mlContext.Data.LoadFromTextFile<Passenger>(DataPath, hasHeader: true, separatorChar: ',');\n",
    "var testTrainDataSet = mlContext.Data.TrainTestSplit(data);\n",
    "\n",
    "//Transform\n",
    "Console.WriteLine(\"Transforming data...\");\n",
    "var dataProcessPipeline = mlContext.Transforms.Categorical.OneHotEncoding(\"Sex\")\n",
    "    .Append(mlContext.Transforms.Text.FeaturizeText(\"Name\"))\n",
    "    .Append(mlContext.Transforms.ReplaceMissingValues(\"Age\", replacementMode: MissingValueReplacingEstimator.ReplacementMode.Mean)\n",
    "    .Append(mlContext.Transforms.Concatenate(\"Features\", \"Pclass\", \"Sex\", \"Name\",\n",
    "            \"SiblingsAboard\", \"ParentsAboard\")));\n",
    "\n",
    "//Train\n",
    "Console.WriteLine(\"Training data...\");\n",
    "var trainingPipeline = dataProcessPipeline\n",
    "    .Append(mlContext.BinaryClassification.Trainers.LbfgsLogisticRegression(labelColumnName: \"Survived\"));\n",
    "ITransformer trainedModel = trainingPipeline.Fit(testTrainDataSet.TrainSet);\n",
    "\n",
    "//Evaluate\n",
    "var predictions = trainedModel.Transform(testTrainDataSet.TestSet);\n",
    "var metrics = mlContext.BinaryClassification.Evaluate(predictions, labelColumnName: \"Survived\");\n",
    "\n",
    "//Print metrics\n",
    "PrintBinaryClassificationMetrics(trainingPipeline.ToString(), metrics);\n",
    "\n",
    "//Save model\n",
    "mlContext.Model.Save(trainedModel, testTrainDataSet.TrainSet.Schema, \"model.zip\");\n",
    "\n",
    "Console.ReadLine();"
   ]
  }
 ],
 "metadata": {
  "kernelspec": {
   "display_name": ".NET (C#)",
   "language": "C#",
   "name": ".net-csharp"
  },
  "language_info": {
   "file_extension": ".cs",
   "mimetype": "text/x-csharp",
   "name": "C#",
   "pygments_lexer": "csharp",
   "version": "8.0"
  }
 },
 "nbformat": 4,
 "nbformat_minor": 4
}
