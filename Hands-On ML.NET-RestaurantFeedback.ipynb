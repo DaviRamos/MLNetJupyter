{
 "cells": [
  {
   "cell_type": "markdown",
   "metadata": {},
   "source": [
    "# Hands-On ML.NET-RestaurantFeedback"
   ]
  },
  {
   "cell_type": "code",
   "execution_count": 8,
   "metadata": {},
   "outputs": [],
   "source": [
    "// ML.NET Nuget packages installation\n",
    "#r \"nuget:Microsoft.ML\" "
   ]
  },
  {
   "cell_type": "markdown",
   "metadata": {},
   "source": [
    "## Using C# Class"
   ]
  },
  {
   "cell_type": "code",
   "execution_count": 9,
   "metadata": {
    "scrolled": true
   },
   "outputs": [],
   "source": [
    "using Microsoft.ML;\n",
    "using Microsoft.ML.Data;\n",
    "using System;\n",
    "using System.IO;"
   ]
  },
  {
   "cell_type": "markdown",
   "metadata": {},
   "source": [
    "## Declare data-classes for input data and predictions"
   ]
  },
  {
   "cell_type": "code",
   "execution_count": 10,
   "metadata": {},
   "outputs": [],
   "source": [
    "public class RestaurantFeedback\n",
    "{\n",
    "    [LoadColumn(0)]\n",
    "    public bool Label { get; set; }\n",
    "\n",
    "    [LoadColumn(1)]\n",
    "    public string Text { get; set; }\n",
    "}\n",
    "\n",
    "public class RestaurantPrediction\n",
    "{\n",
    "    [ColumnName(\"PredictedLabel\")]\n",
    "    public bool Prediction { get; set; }\n",
    "\n",
    "    public float Probability { get; set; }\n",
    "\n",
    "    public float Score { get; set; }\n",
    "}"
   ]
  },
  {
   "cell_type": "code",
   "execution_count": 11,
   "metadata": {},
   "outputs": [],
   "source": [
    "public const string MODEL_FILENAME = \"chapter2.mdl\";\n",
    "\n",
    "static readonly string trainingFileName = Path.Combine(Environment.CurrentDirectory, \"./Datasets/RestaurantFeedback/sampledata.csv\");\n",
    "\n",
    "protected static string ModelPath => Path.Combine(AppContext.BaseDirectory, MODEL_FILENAME);\n",
    "\n",
    "MLContext MlContext = new MLContext(2020);"
   ]
  },
  {
   "cell_type": "markdown",
   "metadata": {},
   "source": [
    "## Treino"
   ]
  },
  {
   "cell_type": "code",
   "execution_count": 12,
   "metadata": {},
   "outputs": [
    {
     "name": "stdout",
     "output_type": "stream",
     "text": [
      "Area Under Curve: 0,00%\n",
      "Area Under Precision Recall Curve: 41,67%\n",
      "Accuracy: 33,33%\n",
      "F1Score: 50,00%\n",
      "Positive Recall: ,5\n",
      "Negative Recall: \n",
      "\n"
     ]
    }
   ],
   "source": [
    "var trainingDataView = MlContext.Data.LoadFromTextFile<RestaurantFeedback>(trainingFileName);\n",
    "\n",
    "var dataSplit = MlContext.Data.TrainTestSplit(trainingDataView, testFraction: 0.2);\n",
    "\n",
    "var dataProcessPipeline = MlContext.Transforms.Text.FeaturizeText(\n",
    "    outputColumnName: \"Features\", \n",
    "    inputColumnName: nameof(RestaurantFeedback.Text));\n",
    "\n",
    "var sdcaRegressionTrainer = MlContext.BinaryClassification.Trainers.SdcaLogisticRegression(\n",
    "    labelColumnName: nameof(RestaurantFeedback.Label), \n",
    "    featureColumnName: \"Features\");\n",
    "var trainingPipeline = dataProcessPipeline.Append(sdcaRegressionTrainer);\n",
    "\n",
    "ITransformer trainedModel = trainingPipeline.Fit(dataSplit.TrainSet);\n",
    "MlContext.Model.Save(trainedModel, dataSplit.TrainSet.Schema, ModelPath);\n",
    "\n",
    "var testSetTransform = trainedModel.Transform(dataSplit.TestSet);\n",
    "\n",
    "var modelMetrics = MlContext.BinaryClassification.Evaluate(\n",
    "    data: testSetTransform, \n",
    "    labelColumnName: nameof(RestaurantFeedback.Label), \n",
    "    scoreColumnName: nameof(RestaurantPrediction.Score));\n",
    "\n",
    "Console.WriteLine($\"Area Under Curve: {modelMetrics.AreaUnderRocCurve:P2}{Environment.NewLine}\" +\n",
    "                  $\"Area Under Precision Recall Curve: {modelMetrics.AreaUnderPrecisionRecallCurve:P2}{Environment.NewLine}\" +\n",
    "                  $\"Accuracy: {modelMetrics.Accuracy:P2}{Environment.NewLine}\" +\n",
    "                  $\"F1Score: {modelMetrics.F1Score:P2}{Environment.NewLine}\" +\n",
    "                  $\"Positive Recall: {modelMetrics.PositiveRecall:#.##}{Environment.NewLine}\" +\n",
    "                  $\"Negative Recall: {modelMetrics.NegativeRecall:#.##}{Environment.NewLine}\");"
   ]
  },
  {
   "cell_type": "code",
   "execution_count": 13,
   "metadata": {},
   "outputs": [],
   "source": [
    "DataViewSchema modelSchema;\n",
    "ITransformer mlModel = MlContext.Model.Load(ModelPath, out modelSchema);\n",
    "\n",
    "var predictionEngine = MlContext.Model.CreatePredictionEngine<RestaurantFeedback, RestaurantPrediction>(mlModel);\n",
    "\n",
    "var prediction = predictionEngine.Predict(new RestaurantFeedback { Text =  \"bad\" });"
   ]
  },
  {
   "cell_type": "code",
   "execution_count": 7,
   "metadata": {},
   "outputs": [
    {
     "name": "stdout",
     "output_type": "stream",
     "text": [
      "The feedback is predicted to be:\n",
      "Positive at a 43% confidence\n"
     ]
    }
   ],
   "source": [
    " Console.WriteLine($\"The feedback is predicted to be:{Environment.NewLine}{(prediction.Prediction ? \"Negative\" : \"Positive\")} at a {prediction.Probability:P0} confidence\");"
   ]
  }
 ],
 "metadata": {
  "kernelspec": {
   "display_name": ".NET (C#)",
   "language": "C#",
   "name": ".net-csharp"
  },
  "language_info": {
   "file_extension": ".cs",
   "mimetype": "text/x-csharp",
   "name": "C#",
   "pygments_lexer": "csharp",
   "version": "8.0"
  }
 },
 "nbformat": 4,
 "nbformat_minor": 4
}
