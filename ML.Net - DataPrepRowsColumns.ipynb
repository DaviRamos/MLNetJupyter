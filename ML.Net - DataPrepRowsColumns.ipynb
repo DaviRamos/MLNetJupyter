{
 "cells": [
  {
   "cell_type": "markdown",
   "metadata": {},
   "source": [
    "# ML.Net - DataPrepRowsColumns"
   ]
  },
  {
   "cell_type": "code",
   "execution_count": 1,
   "metadata": {},
   "outputs": [
    {
     "data": {
      "text/html": [
       "\r\n",
       "<div>\r\n",
       "    <div id='dotnet-interactive-this-cell-5439ea9c921a4935a9bb0de2d9a592d0' style='display: none'>\r\n",
       "        The below script needs to be able to find the current output cell; this is an easy method to get it.\r\n",
       "    </div>\r\n",
       "    <script type='text/javascript'>\r\n",
       "// ensure `requirejs` is available globally\r\n",
       "if (typeof requirejs !== typeof Function || typeof requirejs.config !== typeof Function) {\r\n",
       "    let requirejs_script = document.createElement('script');\r\n",
       "    requirejs_script.setAttribute('src', 'https://cdnjs.cloudflare.com/ajax/libs/require.js/2.3.6/require.min.js');\r\n",
       "    requirejs_script.setAttribute('type', 'text/javascript');\r\n",
       "    requirejs_script.onload = function () {\r\n",
       "        loadDotnetInteractiveApi();\r\n",
       "    };\r\n",
       "\r\n",
       "    document.getElementsByTagName('head')[0].appendChild(requirejs_script);\r\n",
       "}\r\n",
       "else {\r\n",
       "    loadDotnetInteractiveApi();\r\n",
       "}\r\n",
       "\r\n",
       "async function probeAddresses(probingAddresses) {\r\n",
       "    function timeout(ms, promise) {\r\n",
       "        return new Promise(function (resolve, reject) {\r\n",
       "            setTimeout(function () {\r\n",
       "                reject(new Error('timeout'))\r\n",
       "            }, ms)\r\n",
       "            promise.then(resolve, reject)\r\n",
       "        })\r\n",
       "    }\r\n",
       "\r\n",
       "    if (Array.isArray(probingAddresses)) {\r\n",
       "        for (let i = 0; i < probingAddresses.length; i++) {\r\n",
       "\r\n",
       "            let rootUrl = probingAddresses[i];\r\n",
       "\r\n",
       "            if (!rootUrl.endsWith('/')) {\r\n",
       "                rootUrl = `${rootUrl}/`;\r\n",
       "            }\r\n",
       "\r\n",
       "            try {\r\n",
       "                let response = await timeout(1000, fetch(`${rootUrl}discovery`, {\r\n",
       "                    method: 'POST',\r\n",
       "                    timeout: 1000,\r\n",
       "                    headers: {\r\n",
       "                        'Content-Type': 'text/plain'\r\n",
       "                    },\r\n",
       "                    body: probingAddresses[i]\r\n",
       "                }));\r\n",
       "\r\n",
       "                if (response.status == 200) {\r\n",
       "                    return rootUrl;\r\n",
       "                }\r\n",
       "            }\r\n",
       "            catch (e) { }\r\n",
       "        }\r\n",
       "    }\r\n",
       "}\r\n",
       "\r\n",
       "function loadDotnetInteractiveApi() {\r\n",
       "    probeAddresses([\"http://10.0.0.101:1008/\", \"http://172.27.16.1:1008/\", \"http://172.30.16.1:1008/\", \"http://127.0.0.1:1008/\"])\r\n",
       "        .then((root) => {\r\n",
       "            // use probing to find host url and api resources\r\n",
       "            // load interactive helpers and language services\r\n",
       "            let dotnet_require = requirejs.config({\r\n",
       "                context: '27136.5439ea9c921a4935a9bb0de2d9a592d0',\r\n",
       "                paths: {\r\n",
       "                    'dotnet-interactive': `${root}resources`\r\n",
       "                }\r\n",
       "            });\r\n",
       "            if (!window.dotnet_require) {\r\n",
       "                window.dotnet_require = dotnet_require;\r\n",
       "            }\r\n",
       "        \r\n",
       "            dotnet_require([\r\n",
       "                    'dotnet-interactive/dotnet-interactive'\r\n",
       "                ],\r\n",
       "                function (dotnet) {\r\n",
       "                    dotnet.init(window);\r\n",
       "                },\r\n",
       "                function (error) {\r\n",
       "                    console.log(error);\r\n",
       "                }\r\n",
       "            );\r\n",
       "        })\r\n",
       "        .catch(error => {console.log(error);});\r\n",
       "    }\r\n",
       "    </script>\r\n",
       "</div>"
      ]
     },
     "metadata": {},
     "output_type": "display_data"
    },
    {
     "data": {
      "text/plain": [
       "Installed package Microsoft.ML version 1.5.0"
      ]
     },
     "metadata": {},
     "output_type": "display_data"
    }
   ],
   "source": [
    "// ML.NET Nuget packages installation\n",
    "#r \"nuget:Microsoft.ML\" "
   ]
  },
  {
   "cell_type": "markdown",
   "metadata": {},
   "source": [
    "## Using C# Class"
   ]
  },
  {
   "cell_type": "code",
   "execution_count": 2,
   "metadata": {},
   "outputs": [],
   "source": [
    "using System;\n",
    "using Microsoft.ML;\n",
    "using Microsoft.ML.Data;"
   ]
  },
  {
   "cell_type": "markdown",
   "metadata": {},
   "source": [
    "## Declare data-classes for input data and predictions"
   ]
  },
  {
   "cell_type": "code",
   "execution_count": 3,
   "metadata": {},
   "outputs": [],
   "source": [
    "public class HousingData\n",
    "{\n",
    "    [LoadColumn(0)]\n",
    "    public float Longitude { get; set; }\n",
    "\n",
    "    [LoadColumn(1)]\n",
    "    public float Latitude { get; set; }\n",
    "\n",
    "    [LoadColumn(2)]\n",
    "    public float HousingMedianAge { get; set; }\n",
    "\n",
    "    [LoadColumn(3)]\n",
    "    public float TotalRooms { get; set; }\n",
    "\n",
    "    [LoadColumn(4)]\n",
    "    public float TotalBedrooms { get; set; }\n",
    "\n",
    "    [LoadColumn(5)]\n",
    "    public float Population { get; set; }\n",
    "\n",
    "    [LoadColumn(6)]\n",
    "    public float Households { get; set; }\n",
    "\n",
    "    [LoadColumn(7)]\n",
    "    public float MedianIncome { get; set; }\n",
    "\n",
    "    [LoadColumn(8), ColumnName(\"Label\")]\n",
    "    public float MedianHouseValue { get; set; }\n",
    "\n",
    "    [LoadColumn(9)]\n",
    "    public string OceanProximity { get; set; }\n",
    "}\n",
    "\n",
    "public class HousingPrediction\n",
    "{\n",
    "    [ColumnName(\"Score\")]\n",
    "    public float PredictedHouseValue { get; set; }\n",
    "}"
   ]
  },
  {
   "cell_type": "code",
   "execution_count": 4,
   "metadata": {},
   "outputs": [],
   "source": [
    "private static void DisplayColumns(IDataView data)\n",
    "{\n",
    "    var preview = data.Preview(maxRows: 5);\n",
    "\n",
    "    string previewData = \"\";\n",
    "\n",
    "    for (int i = 0; i < preview.RowView.Length; i++)\n",
    "    {\n",
    "        foreach (var item in preview.RowView[i].Values)\n",
    "        {\n",
    "            previewData += $\"{item.Key}: {item.Value} \";\n",
    "        }\n",
    "\n",
    "        Console.WriteLine(\"----------------------------------\");\n",
    "        Console.WriteLine(previewData);\n",
    "        previewData = \"\";\n",
    "    }\n",
    "}"
   ]
  },
  {
   "cell_type": "markdown",
   "metadata": {},
   "source": [
    "## Evaluate"
   ]
  },
  {
   "cell_type": "code",
   "execution_count": 5,
   "metadata": {},
   "outputs": [
    {
     "name": "stdout",
     "output_type": "stream",
     "text": [
      "----------------------------------\n",
      "Longitude: -122,23 Latitude: 37,88 HousingMedianAge: 41 TotalRooms: 880 TotalBedrooms: 129 Population: 322 Households: 126 MedianIncome: 8,3252 Label: 452600 OceanProximity: NEAR BAY \n",
      "----------------------------------\n",
      "Longitude: -122,24 Latitude: 37,85 HousingMedianAge: 52 TotalRooms: 1467 TotalBedrooms: 190 Population: 496 Households: 177 MedianIncome: 7,2574 Label: 352100 OceanProximity: NEAR BAY \n",
      "----------------------------------\n",
      "Longitude: -122,25 Latitude: 37,85 HousingMedianAge: 52 TotalRooms: 1274 TotalBedrooms: 235 Population: 558 Households: 219 MedianIncome: 5,6431 Label: 341300 OceanProximity: NEAR BAY \n",
      "----------------------------------\n",
      "Longitude: -122,25 Latitude: 37,85 HousingMedianAge: 52 TotalRooms: 1627 TotalBedrooms: 280 Population: 565 Households: 259 MedianIncome: 3,8462 Label: 342200 OceanProximity: NEAR BAY \n",
      "----------------------------------\n",
      "Longitude: -122,25 Latitude: 37,85 HousingMedianAge: 52 TotalRooms: 919 TotalBedrooms: 213 Population: 413 Households: 193 MedianIncome: 4,0368 Label: 269700 OceanProximity: NEAR BAY \n"
     ]
    }
   ],
   "source": [
    "var context = new MLContext();\n",
    "\n",
    "var data = context.Data.LoadFromTextFile<HousingData>(\"./datasets/housing/housing.csv\",\n",
    "    hasHeader: true, separatorChar: ',');\n",
    "\n",
    "// Select columns\n",
    "var selectCols = context.Transforms.SelectColumns(\"HousingMedianAge\", \"TotalBedrooms\");\n",
    "var selectColsTransform = selectCols.Fit(data).Transform(data);\n",
    "\n",
    "//DisplayColumns(selectColsTransform);\n",
    "\n",
    "// Drop columns\n",
    "var dropCols = context.Transforms.DropColumns(\"Latitude\", \"Longitude\");\n",
    "var dropColsTransforms = dropCols.Fit(data).Transform(data);\n",
    "\n",
    "//DisplayColumns(dropColsTransforms);\n",
    "\n",
    "// Shuffle rows\n",
    "//DisplayColumns(data);\n",
    "\n",
    "//Console.WriteLine(\"*********************************\");\n",
    "\n",
    "var shuffleRows = context.Data.ShuffleRows(data, seed: 42);\n",
    "\n",
    "//DisplayColumns(shuffleRows);\n",
    "\n",
    "// Take rows\n",
    "var takeRows = context.Data.TakeRows(data, 2);\n",
    "\n",
    "//DisplayColumns(takeRows);\n",
    "\n",
    "// Filter rows\n",
    "var filterRows = context.Data.FilterRowsByColumn(data, \"Population\",\n",
    "    lowerBound: 0, upperBound: 1000);\n",
    "\n",
    "DisplayColumns(filterRows);\n",
    "\n",
    "Console.ReadLine();"
   ]
  },
  {
   "cell_type": "code",
   "execution_count": null,
   "metadata": {},
   "outputs": [],
   "source": []
  }
 ],
 "metadata": {
  "kernelspec": {
   "display_name": ".NET (C#)",
   "language": "C#",
   "name": ".net-csharp"
  },
  "language_info": {
   "file_extension": ".cs",
   "mimetype": "text/x-csharp",
   "name": "C#",
   "pygments_lexer": "csharp",
   "version": "8.0"
  }
 },
 "nbformat": 4,
 "nbformat_minor": 4
}
