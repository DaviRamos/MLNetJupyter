{
 "cells": [
  {
   "cell_type": "markdown",
   "metadata": {},
   "source": [
    "# ML.Net - DatabaseData"
   ]
  },
  {
   "cell_type": "code",
   "execution_count": 1,
   "metadata": {},
   "outputs": [
    {
     "data": {
      "text/html": [
       "\r\n",
       "<div>\r\n",
       "    <div id='dotnet-interactive-this-cell-bff403ad350a46f1894d59bf2ab6b533' style='display: none'>\r\n",
       "        The below script needs to be able to find the current output cell; this is an easy method to get it.\r\n",
       "    </div>\r\n",
       "    <script type='text/javascript'>\r\n",
       "// ensure `requirejs` is available globally\r\n",
       "if (typeof requirejs !== typeof Function || typeof requirejs.config !== typeof Function) {\r\n",
       "    let requirejs_script = document.createElement('script');\r\n",
       "    requirejs_script.setAttribute('src', 'https://cdnjs.cloudflare.com/ajax/libs/require.js/2.3.6/require.min.js');\r\n",
       "    requirejs_script.setAttribute('type', 'text/javascript');\r\n",
       "    requirejs_script.onload = function () {\r\n",
       "        loadDotnetInteractiveApi();\r\n",
       "    };\r\n",
       "\r\n",
       "    document.getElementsByTagName('head')[0].appendChild(requirejs_script);\r\n",
       "}\r\n",
       "else {\r\n",
       "    loadDotnetInteractiveApi();\r\n",
       "}\r\n",
       "\r\n",
       "async function probeAddresses(probingAddresses) {\r\n",
       "    function timeout(ms, promise) {\r\n",
       "        return new Promise(function (resolve, reject) {\r\n",
       "            setTimeout(function () {\r\n",
       "                reject(new Error('timeout'))\r\n",
       "            }, ms)\r\n",
       "            promise.then(resolve, reject)\r\n",
       "        })\r\n",
       "    }\r\n",
       "\r\n",
       "    if (Array.isArray(probingAddresses)) {\r\n",
       "        for (let i = 0; i < probingAddresses.length; i++) {\r\n",
       "\r\n",
       "            let rootUrl = probingAddresses[i];\r\n",
       "\r\n",
       "            if (!rootUrl.endsWith('/')) {\r\n",
       "                rootUrl = `${rootUrl}/`;\r\n",
       "            }\r\n",
       "\r\n",
       "            try {\r\n",
       "                let response = await timeout(1000, fetch(`${rootUrl}discovery`, {\r\n",
       "                    method: 'POST',\r\n",
       "                    timeout: 1000,\r\n",
       "                    headers: {\r\n",
       "                        'Content-Type': 'text/plain'\r\n",
       "                    },\r\n",
       "                    body: probingAddresses[i]\r\n",
       "                }));\r\n",
       "\r\n",
       "                if (response.status == 200) {\r\n",
       "                    return rootUrl;\r\n",
       "                }\r\n",
       "            }\r\n",
       "            catch (e) { }\r\n",
       "        }\r\n",
       "    }\r\n",
       "}\r\n",
       "\r\n",
       "function loadDotnetInteractiveApi() {\r\n",
       "    probeAddresses([\"http://10.0.0.101:1009/\", \"http://172.27.16.1:1009/\", \"http://172.30.16.1:1009/\", \"http://127.0.0.1:1009/\"])\r\n",
       "        .then((root) => {\r\n",
       "            // use probing to find host url and api resources\r\n",
       "            // load interactive helpers and language services\r\n",
       "            let dotnet_require = requirejs.config({\r\n",
       "                context: '4956.bff403ad350a46f1894d59bf2ab6b533',\r\n",
       "                paths: {\r\n",
       "                    'dotnet-interactive': `${root}resources`\r\n",
       "                }\r\n",
       "            });\r\n",
       "            if (!window.dotnet_require) {\r\n",
       "                window.dotnet_require = dotnet_require;\r\n",
       "            }\r\n",
       "        \r\n",
       "            dotnet_require([\r\n",
       "                    'dotnet-interactive/dotnet-interactive'\r\n",
       "                ],\r\n",
       "                function (dotnet) {\r\n",
       "                    dotnet.init(window);\r\n",
       "                },\r\n",
       "                function (error) {\r\n",
       "                    console.log(error);\r\n",
       "                }\r\n",
       "            );\r\n",
       "        })\r\n",
       "        .catch(error => {console.log(error);});\r\n",
       "    }\r\n",
       "    </script>\r\n",
       "</div>"
      ]
     },
     "metadata": {},
     "output_type": "display_data"
    },
    {
     "data": {
      "text/plain": [
       "Installed package Microsoft.ML version 1.5.0"
      ]
     },
     "metadata": {},
     "output_type": "display_data"
    }
   ],
   "source": [
    "// ML.NET Nuget packages installation\n",
    "#r \"nuget:Microsoft.ML\" "
   ]
  },
  {
   "cell_type": "code",
   "execution_count": 1,
   "metadata": {},
   "outputs": [
    {
     "data": {
      "text/html": [
       "\r\n",
       "<div>\r\n",
       "    <div id='dotnet-interactive-this-cell-bff403ad350a46f1894d59bf2ab6b533' style='display: none'>\r\n",
       "        The below script needs to be able to find the current output cell; this is an easy method to get it.\r\n",
       "    </div>\r\n",
       "    <script type='text/javascript'>\r\n",
       "// ensure `requirejs` is available globally\r\n",
       "if (typeof requirejs !== typeof Function || typeof requirejs.config !== typeof Function) {\r\n",
       "    let requirejs_script = document.createElement('script');\r\n",
       "    requirejs_script.setAttribute('src', 'https://cdnjs.cloudflare.com/ajax/libs/require.js/2.3.6/require.min.js');\r\n",
       "    requirejs_script.setAttribute('type', 'text/javascript');\r\n",
       "    requirejs_script.onload = function () {\r\n",
       "        loadDotnetInteractiveApi();\r\n",
       "    };\r\n",
       "\r\n",
       "    document.getElementsByTagName('head')[0].appendChild(requirejs_script);\r\n",
       "}\r\n",
       "else {\r\n",
       "    loadDotnetInteractiveApi();\r\n",
       "}\r\n",
       "\r\n",
       "async function probeAddresses(probingAddresses) {\r\n",
       "    function timeout(ms, promise) {\r\n",
       "        return new Promise(function (resolve, reject) {\r\n",
       "            setTimeout(function () {\r\n",
       "                reject(new Error('timeout'))\r\n",
       "            }, ms)\r\n",
       "            promise.then(resolve, reject)\r\n",
       "        })\r\n",
       "    }\r\n",
       "\r\n",
       "    if (Array.isArray(probingAddresses)) {\r\n",
       "        for (let i = 0; i < probingAddresses.length; i++) {\r\n",
       "\r\n",
       "            let rootUrl = probingAddresses[i];\r\n",
       "\r\n",
       "            if (!rootUrl.endsWith('/')) {\r\n",
       "                rootUrl = `${rootUrl}/`;\r\n",
       "            }\r\n",
       "\r\n",
       "            try {\r\n",
       "                let response = await timeout(1000, fetch(`${rootUrl}discovery`, {\r\n",
       "                    method: 'POST',\r\n",
       "                    timeout: 1000,\r\n",
       "                    headers: {\r\n",
       "                        'Content-Type': 'text/plain'\r\n",
       "                    },\r\n",
       "                    body: probingAddresses[i]\r\n",
       "                }));\r\n",
       "\r\n",
       "                if (response.status == 200) {\r\n",
       "                    return rootUrl;\r\n",
       "                }\r\n",
       "            }\r\n",
       "            catch (e) { }\r\n",
       "        }\r\n",
       "    }\r\n",
       "}\r\n",
       "\r\n",
       "function loadDotnetInteractiveApi() {\r\n",
       "    probeAddresses([\"http://10.0.0.101:1009/\", \"http://172.27.16.1:1009/\", \"http://172.30.16.1:1009/\", \"http://127.0.0.1:1009/\"])\r\n",
       "        .then((root) => {\r\n",
       "            // use probing to find host url and api resources\r\n",
       "            // load interactive helpers and language services\r\n",
       "            let dotnet_require = requirejs.config({\r\n",
       "                context: '4956.bff403ad350a46f1894d59bf2ab6b533',\r\n",
       "                paths: {\r\n",
       "                    'dotnet-interactive': `${root}resources`\r\n",
       "                }\r\n",
       "            });\r\n",
       "            if (!window.dotnet_require) {\r\n",
       "                window.dotnet_require = dotnet_require;\r\n",
       "            }\r\n",
       "        \r\n",
       "            dotnet_require([\r\n",
       "                    'dotnet-interactive/dotnet-interactive'\r\n",
       "                ],\r\n",
       "                function (dotnet) {\r\n",
       "                    dotnet.init(window);\r\n",
       "                },\r\n",
       "                function (error) {\r\n",
       "                    console.log(error);\r\n",
       "                }\r\n",
       "            );\r\n",
       "        })\r\n",
       "        .catch(error => {console.log(error);});\r\n",
       "    }\r\n",
       "    </script>\r\n",
       "</div>"
      ]
     },
     "metadata": {},
     "output_type": "display_data"
    },
    {
     "data": {
      "text/plain": [
       "Installed package Microsoft.ML version 1.5.0"
      ]
     },
     "metadata": {},
     "output_type": "display_data"
    }
   ],
   "source": [
    "// ML.NET Nuget packages installation\n",
    "#r \"nuget:Microsoft.ML\" "
   ]
  },
  {
   "cell_type": "markdown",
   "metadata": {},
   "source": [
    "## Using C# Class"
   ]
  },
  {
   "cell_type": "code",
   "execution_count": 6,
   "metadata": {},
   "outputs": [],
   "source": [
    "using System;\n",
    "using Microsoft.ML;\n",
    "using Microsoft.ML.Data;"
   ]
  },
  {
   "cell_type": "markdown",
   "metadata": {},
   "source": [
    "## Declare data-classes for input data and predictions"
   ]
  },
  {
   "cell_type": "code",
   "execution_count": 7,
   "metadata": {},
   "outputs": [],
   "source": [
    "public class SalaryData\n",
    "{\n",
    "    public float YearsExperience;\n",
    "\n",
    "    public float Salary;\n",
    "}\n",
    "\n",
    "public class SalaryPrediction\n",
    "{\n",
    "    [ColumnName(\"Score\")]\n",
    "    public float PredictedSalary;\n",
    "}"
   ]
  },
  {
   "cell_type": "markdown",
   "metadata": {},
   "source": [
    "## Evaluate"
   ]
  },
  {
   "cell_type": "code",
   "execution_count": 8,
   "metadata": {},
   "outputs": [
    {
     "name": "stdout",
     "output_type": "stream",
     "text": [
      "Prediction - 259222,4\n"
     ]
    }
   ],
   "source": [
    "private static string _connectionString;"
   ]
  },
  {
   "cell_type": "code",
   "execution_count": null,
   "metadata": {},
   "outputs": [],
   "source": [
    "private static IEnumerable<SalaryData> ReadFromDatabase()\n",
    "{\n",
    "    var data = new List<SalaryData>();\n",
    "\n",
    "    using (var conn = new SqlConnection(_connectionString))\n",
    "    {\n",
    "        conn.Open();\n",
    "\n",
    "        var selectCommand = \"SELECT YearsOfExperience, Salary FROM mlnetExample.dbo.SalaryData\";\n",
    "\n",
    "        var sqlCommand = new SqlCommand(selectCommand, conn);\n",
    "\n",
    "        var reader = sqlCommand.ExecuteReader();\n",
    "\n",
    "        while(reader.Read())\n",
    "        {\n",
    "            data.Add(new SalaryData\n",
    "            {\n",
    "                YearsExperience = float.Parse(reader.GetValue(0).ToString()),\n",
    "                Salary = float.Parse(reader.GetValue(1).ToString())\n",
    "            });\n",
    "        }\n",
    "    }\n",
    "\n",
    "    return data;\n",
    "}"
   ]
  },
  {
   "cell_type": "code",
   "execution_count": null,
   "metadata": {},
   "outputs": [],
   "source": [
    "private static void AddDataToDatabase(IEnumerable<SalaryData> data)\n",
    "        {\n",
    "            using (var conn = new SqlConnection(_connectionString))\n",
    "            {\n",
    "                conn.Open();\n",
    "\n",
    "                var insertCommand = \"INSERT INTO mlnetExample.dbo.SalaryData VALUES (@years, @salary);\";\n",
    "                var selectCommand = \"SELECT COUNT(*) From mlnetExample.dbo.SalaryData\";\n",
    "\n",
    "                var selectSqlCommand = new SqlCommand(selectCommand, conn);\n",
    "\n",
    "                var results = (int)selectSqlCommand.ExecuteScalar();\n",
    "\n",
    "                if (results > 0)\n",
    "                {\n",
    "                    var deleteCommand = \"DELETE FROM mlnetExample.dbo.SalaryData\";\n",
    "\n",
    "                    var deleteSqlCommand = new SqlCommand(deleteCommand, conn);\n",
    "\n",
    "                    deleteSqlCommand.ExecuteNonQuery();\n",
    "                }\n",
    "\n",
    "                foreach (var item in data)\n",
    "                {\n",
    "                    var command = new SqlCommand(insertCommand, conn);\n",
    "\n",
    "                    command.Parameters.AddWithValue(\"@years\", item.YearsExperience);\n",
    "                    command.Parameters.AddWithValue(\"@salary\", item.Salary);\n",
    "\n",
    "                    command.ExecuteNonQuery();\n",
    "                }\n",
    "            }\n",
    "        }"
   ]
  },
  {
   "cell_type": "code",
   "execution_count": null,
   "metadata": {},
   "outputs": [],
   "source": [
    "private static IEnumerable<SalaryData> ReadFromFile(string filePath)\n",
    "        {\n",
    "            var data = File.ReadAllLines(filePath)\n",
    "                .Skip(1)\n",
    "                .Select(l => l.Split(','))\n",
    "                .Select(i => new SalaryData\n",
    "                {\n",
    "                    YearsExperience = float.Parse(i[0]),\n",
    "                    Salary = float.Parse(i[1])\n",
    "                });\n",
    "\n",
    "            return data;\n",
    "        }"
   ]
  },
  {
   "cell_type": "code",
   "execution_count": null,
   "metadata": {},
   "outputs": [],
   "source": [
    "var builder = new ConfigurationBuilder()\n",
    "                .SetBasePath(Directory.GetCurrentDirectory())\n",
    "                .AddJsonFile(\"config.json\");\n",
    "\n",
    "            var configuration = builder.Build();\n",
    "            _connectionString = configuration[\"connectionString\"];\n",
    "\n",
    "            var fileData = ReadFromFile(\"./SalaryData.csv\");\n",
    "\n",
    "            AddDataToDatabase(fileData);\n",
    "\n",
    "            var dbData = ReadFromDatabase();\n",
    "\n",
    "            var context = new MLContext();\n",
    "\n",
    "            var mlData = context.Data.ReadFromEnumerable(dbData);\n",
    "\n",
    "            var (trainData, testData) = context.Regression.TrainTestSplit(mlData, testFraction: 0.2);\n",
    "\n",
    "            var preview = trainData.Preview(maxRows: 5);\n",
    "\n",
    "            var pipeline = context.Transforms.Concatenate(\"Features\", \"YearsExperience\")\n",
    "                .Append(context.Transforms.CopyColumns((\"Label\", \"Salary\")))\n",
    "                .Append(context.Regression.Trainers.FastTree());\n",
    "\n",
    "            var model = pipeline.Fit(trainData);\n",
    "\n",
    "            var prediction = model.Transform(testData);\n",
    "\n",
    "            var metrics = context.Regression.Evaluate(prediction);\n",
    "\n",
    "            var predictionFunc = model.CreatePredictionEngine<SalaryData, SalaryPrediction>(context);\n",
    "\n",
    "            var salaryPrediction = predictionFunc.Predict(new SalaryData { YearsExperience = 11 });\n",
    "\n",
    "            Console.WriteLine($\"Prediction - {salaryPrediction.PredictedSalary}\");\n",
    "            Console.ReadLine();"
   ]
  }
 ],
 "metadata": {
  "kernelspec": {
   "display_name": ".NET (C#)",
   "language": "C#",
   "name": ".net-csharp"
  },
  "language_info": {
   "file_extension": ".cs",
   "mimetype": "text/x-csharp",
   "name": "C#",
   "pygments_lexer": "csharp",
   "version": "8.0"
  }
 },
 "nbformat": 4,
 "nbformat_minor": 4
}
