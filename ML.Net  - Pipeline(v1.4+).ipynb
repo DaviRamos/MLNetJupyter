{
 "cells": [
  {
   "cell_type": "markdown",
   "metadata": {},
   "source": [
    "# ML.Net - Pipeline (v1.4+)"
   ]
  },
  {
   "cell_type": "code",
   "execution_count": 1,
   "metadata": {},
   "outputs": [
    {
     "data": {
      "text/html": [
       "\r\n",
       "<div>\r\n",
       "    <div id='dotnet-interactive-this-cell-9becf3a7e25e43a2941b938065acd75b' style='display: none'>\r\n",
       "        The below script needs to be able to find the current output cell; this is an easy method to get it.\r\n",
       "    </div>\r\n",
       "    <script type='text/javascript'>\r\n",
       "// ensure `requirejs` is available globally\r\n",
       "if (typeof requirejs !== typeof Function || typeof requirejs.config !== typeof Function) {\r\n",
       "    let requirejs_script = document.createElement('script');\r\n",
       "    requirejs_script.setAttribute('src', 'https://cdnjs.cloudflare.com/ajax/libs/require.js/2.3.6/require.min.js');\r\n",
       "    requirejs_script.setAttribute('type', 'text/javascript');\r\n",
       "    requirejs_script.onload = function () {\r\n",
       "        loadDotnetInteractiveApi();\r\n",
       "    };\r\n",
       "\r\n",
       "    document.getElementsByTagName('head')[0].appendChild(requirejs_script);\r\n",
       "}\r\n",
       "else {\r\n",
       "    loadDotnetInteractiveApi();\r\n",
       "}\r\n",
       "\r\n",
       "async function probeAddresses(probingAddresses) {\r\n",
       "    function timeout(ms, promise) {\r\n",
       "        return new Promise(function (resolve, reject) {\r\n",
       "            setTimeout(function () {\r\n",
       "                reject(new Error('timeout'))\r\n",
       "            }, ms)\r\n",
       "            promise.then(resolve, reject)\r\n",
       "        })\r\n",
       "    }\r\n",
       "\r\n",
       "    if (Array.isArray(probingAddresses)) {\r\n",
       "        for (let i = 0; i < probingAddresses.length; i++) {\r\n",
       "\r\n",
       "            let rootUrl = probingAddresses[i];\r\n",
       "\r\n",
       "            if (!rootUrl.endsWith('/')) {\r\n",
       "                rootUrl = `${rootUrl}/`;\r\n",
       "            }\r\n",
       "\r\n",
       "            try {\r\n",
       "                let response = await timeout(1000, fetch(`${rootUrl}discovery`, {\r\n",
       "                    method: 'POST',\r\n",
       "                    timeout: 1000,\r\n",
       "                    headers: {\r\n",
       "                        'Content-Type': 'text/plain'\r\n",
       "                    },\r\n",
       "                    body: probingAddresses[i]\r\n",
       "                }));\r\n",
       "\r\n",
       "                if (response.status == 200) {\r\n",
       "                    return rootUrl;\r\n",
       "                }\r\n",
       "            }\r\n",
       "            catch (e) { }\r\n",
       "        }\r\n",
       "    }\r\n",
       "}\r\n",
       "\r\n",
       "function loadDotnetInteractiveApi() {\r\n",
       "    probeAddresses([\"http://172.30.0.1:1134/\", \"http://10.0.0.101:1134/\", \"http://172.19.16.1:1134/\", \"http://127.0.0.1:1134/\"])\r\n",
       "        .then((root) => {\r\n",
       "            // use probing to find host url and api resources\r\n",
       "            // load interactive helpers and language services\r\n",
       "            let dotnet_require = requirejs.config({\r\n",
       "                context: '41220.9becf3a7e25e43a2941b938065acd75b',\r\n",
       "                paths: {\r\n",
       "                    'dotnet-interactive': `${root}resources`\r\n",
       "                }\r\n",
       "            });\r\n",
       "            if (!window.dotnet_require) {\r\n",
       "                window.dotnet_require = dotnet_require;\r\n",
       "            }\r\n",
       "        \r\n",
       "            dotnet_require([\r\n",
       "                    'dotnet-interactive/dotnet-interactive'\r\n",
       "                ],\r\n",
       "                function (dotnet) {\r\n",
       "                    dotnet.init(window);\r\n",
       "                },\r\n",
       "                function (error) {\r\n",
       "                    console.log(error);\r\n",
       "                }\r\n",
       "            );\r\n",
       "        })\r\n",
       "        .catch(error => {console.log(error);});\r\n",
       "    }\r\n",
       "    </script>\r\n",
       "</div>"
      ]
     },
     "metadata": {},
     "output_type": "display_data"
    },
    {
     "data": {
      "text/plain": [
       "Installed package Microsoft.ML version 1.5.0"
      ]
     },
     "metadata": {},
     "output_type": "display_data"
    }
   ],
   "source": [
    "// ML.NET Nuget packages installation\n",
    "#r \"nuget:Microsoft.ML\" "
   ]
  },
  {
   "cell_type": "markdown",
   "metadata": {},
   "source": [
    "## Declarações de Using"
   ]
  },
  {
   "cell_type": "code",
   "execution_count": 2,
   "metadata": {},
   "outputs": [],
   "source": [
    "using System;\n",
    "using System.IO;\n",
    "using Microsoft.ML;\n",
    "using Microsoft.ML.Data;"
   ]
  },
  {
   "cell_type": "markdown",
   "metadata": {},
   "source": [
    "## Declaração de Classes para Input de Dados e Predições"
   ]
  },
  {
   "cell_type": "code",
   "execution_count": 3,
   "metadata": {},
   "outputs": [],
   "source": [
    "public class SalaryData\n",
    "{\n",
    "    [LoadColumn(0)]\n",
    "    public float YearsExperience;\n",
    "\n",
    "    [LoadColumn(1), ColumnName(\"Label\")]\n",
    "    public float Salary;\n",
    "}\n",
    "\n",
    "public class SalaryPrediction\n",
    "{\n",
    "    [ColumnName(\"Score\")]\n",
    "    public float PredictedSalary { get; set; }\n",
    "}"
   ]
  },
  {
   "cell_type": "markdown",
   "metadata": {},
   "source": [
    "## Pipeline de Dados"
   ]
  },
  {
   "cell_type": "code",
   "execution_count": 4,
   "metadata": {},
   "outputs": [
    {
     "name": "stdout",
     "output_type": "stream",
     "text": [
      "R^2 - 0,9350614894372816\n",
      "Predição- 43363,44\n"
     ]
    }
   ],
   "source": [
    "var context = new MLContext();\n",
    "\n",
    "// Load data\n",
    "var trainDataPath = Path.Combine(Environment.CurrentDirectory, \"Datasets\\\\RegressionSimple_Data\", \"SalaryData.csv\");\n",
    "var trainData = context.Data.LoadFromTextFile<SalaryData>(trainDataPath, hasHeader: true, separatorChar: ',');\n",
    "\n",
    "// Build model\n",
    "var pipeline = context.Transforms.Concatenate(\"Features\", \"YearsExperience\")\n",
    "    .Append(context.Regression.Trainers.LbfgsPoissonRegression());\n",
    "\n",
    "var model = pipeline.Fit(trainData);\n",
    "\n",
    "// Evaluate\n",
    "var predictions = model.Transform(trainData);\n",
    "\n",
    "var metrics = context.Regression.Evaluate(predictions);\n",
    "\n",
    "Console.WriteLine($\"R^2 - {metrics.RSquared}\");\n",
    "\n",
    "// Predict\n",
    "var newData = new SalaryData\n",
    "{\n",
    "    YearsExperience = 1.1f\n",
    "};\n",
    "\n",
    "var predictionFunc = context.Model.CreatePredictionEngine<SalaryData, SalaryPrediction>(model);\n",
    "\n",
    "var prediction = predictionFunc.Predict(newData);\n",
    "\n",
    "Console.WriteLine($\"Predição- {prediction.PredictedSalary}\");\n",
    "\n",
    "Console.ReadLine();"
   ]
  }
 ],
 "metadata": {
  "kernelspec": {
   "display_name": ".NET (C#)",
   "language": "C#",
   "name": ".net-csharp"
  },
  "language_info": {
   "file_extension": ".cs",
   "mimetype": "text/x-csharp",
   "name": "C#",
   "pygments_lexer": "csharp",
   "version": "8.0"
  }
 },
 "nbformat": 4,
 "nbformat_minor": 4
}
