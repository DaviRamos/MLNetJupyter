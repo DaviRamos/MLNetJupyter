{
 "cells": [
  {
   "cell_type": "markdown",
   "metadata": {},
   "source": [
    "# ML.Net - IrisFlowerClustering\n"
   ]
  },
  {
   "cell_type": "code",
   "execution_count": 1,
   "metadata": {},
   "outputs": [
    {
     "data": {
      "text/html": [
       "\r\n",
       "<div>\r\n",
       "    <div id='dotnet-interactive-this-cell-62717c587b9444e99780d0bfb5adb153' style='display: none'>\r\n",
       "        The below script needs to be able to find the current output cell; this is an easy method to get it.\r\n",
       "    </div>\r\n",
       "    <script type='text/javascript'>\r\n",
       "// ensure `requirejs` is available globally\r\n",
       "if (typeof requirejs !== typeof Function || typeof requirejs.config !== typeof Function) {\r\n",
       "    let requirejs_script = document.createElement('script');\r\n",
       "    requirejs_script.setAttribute('src', 'https://cdnjs.cloudflare.com/ajax/libs/require.js/2.3.6/require.min.js');\r\n",
       "    requirejs_script.setAttribute('type', 'text/javascript');\r\n",
       "    requirejs_script.onload = function () {\r\n",
       "        loadDotnetInteractiveApi();\r\n",
       "    };\r\n",
       "\r\n",
       "    document.getElementsByTagName('head')[0].appendChild(requirejs_script);\r\n",
       "}\r\n",
       "else {\r\n",
       "    loadDotnetInteractiveApi();\r\n",
       "}\r\n",
       "\r\n",
       "async function probeAddresses(probingAddresses) {\r\n",
       "    function timeout(ms, promise) {\r\n",
       "        return new Promise(function (resolve, reject) {\r\n",
       "            setTimeout(function () {\r\n",
       "                reject(new Error('timeout'))\r\n",
       "            }, ms)\r\n",
       "            promise.then(resolve, reject)\r\n",
       "        })\r\n",
       "    }\r\n",
       "\r\n",
       "    if (Array.isArray(probingAddresses)) {\r\n",
       "        for (let i = 0; i < probingAddresses.length; i++) {\r\n",
       "\r\n",
       "            let rootUrl = probingAddresses[i];\r\n",
       "\r\n",
       "            if (!rootUrl.endsWith('/')) {\r\n",
       "                rootUrl = `${rootUrl}/`;\r\n",
       "            }\r\n",
       "\r\n",
       "            try {\r\n",
       "                let response = await timeout(1000, fetch(`${rootUrl}discovery`, {\r\n",
       "                    method: 'POST',\r\n",
       "                    timeout: 1000,\r\n",
       "                    headers: {\r\n",
       "                        'Content-Type': 'text/plain'\r\n",
       "                    },\r\n",
       "                    body: probingAddresses[i]\r\n",
       "                }));\r\n",
       "\r\n",
       "                if (response.status == 200) {\r\n",
       "                    return rootUrl;\r\n",
       "                }\r\n",
       "            }\r\n",
       "            catch (e) { }\r\n",
       "        }\r\n",
       "    }\r\n",
       "}\r\n",
       "\r\n",
       "function loadDotnetInteractiveApi() {\r\n",
       "    probeAddresses([\"http://172.30.0.1:1131/\", \"http://10.0.0.101:1131/\", \"http://172.19.16.1:1131/\", \"http://127.0.0.1:1131/\"])\r\n",
       "        .then((root) => {\r\n",
       "            // use probing to find host url and api resources\r\n",
       "            // load interactive helpers and language services\r\n",
       "            let dotnet_require = requirejs.config({\r\n",
       "                context: '42924.62717c587b9444e99780d0bfb5adb153',\r\n",
       "                paths: {\r\n",
       "                    'dotnet-interactive': `${root}resources`\r\n",
       "                }\r\n",
       "            });\r\n",
       "            if (!window.dotnet_require) {\r\n",
       "                window.dotnet_require = dotnet_require;\r\n",
       "            }\r\n",
       "        \r\n",
       "            dotnet_require([\r\n",
       "                    'dotnet-interactive/dotnet-interactive'\r\n",
       "                ],\r\n",
       "                function (dotnet) {\r\n",
       "                    dotnet.init(window);\r\n",
       "                },\r\n",
       "                function (error) {\r\n",
       "                    console.log(error);\r\n",
       "                }\r\n",
       "            );\r\n",
       "        })\r\n",
       "        .catch(error => {console.log(error);});\r\n",
       "    }\r\n",
       "    </script>\r\n",
       "</div>"
      ]
     },
     "metadata": {},
     "output_type": "display_data"
    },
    {
     "data": {
      "text/plain": [
       "Installed package Microsoft.ML version 1.5.0"
      ]
     },
     "metadata": {},
     "output_type": "display_data"
    }
   ],
   "source": [
    "// ML.NET Nuget packages installation\n",
    "#r \"nuget:Microsoft.ML\""
   ]
  },
  {
   "cell_type": "code",
   "execution_count": 2,
   "metadata": {},
   "outputs": [],
   "source": [
    "using System;\n",
    "using System.IO;\n",
    "using Microsoft.ML;\n",
    "using Microsoft.ML.Data;"
   ]
  },
  {
   "cell_type": "code",
   "execution_count": 3,
   "metadata": {},
   "outputs": [],
   "source": [
    "/// A data transfer class that holds a single iris flower.\n",
    "public class IrisData\n",
    "{\n",
    "    [LoadColumn(0)] public float SepalLength;\n",
    "    [LoadColumn(1)] public float SepalWidth;\n",
    "    [LoadColumn(2)] public float PetalLength;\n",
    "    [LoadColumn(3)] public float PetalWidth;\n",
    "    [LoadColumn(4)] public string Label;  // ignored during training\n",
    "}\n",
    "\n",
    "/// A prediction class that holds a single cluster prediction.\n",
    "public class ClusterPrediction\n",
    "{\n",
    "    [ColumnName(\"PredictedLabel\")] public uint PredictedClusterId;\n",
    "    [ColumnName(\"Score\")] public float[] Distances;\n",
    "}    "
   ]
  },
  {
   "cell_type": "code",
   "execution_count": 4,
   "metadata": {},
   "outputs": [
    {
     "name": "stdout",
     "output_type": "stream",
     "text": [
      "Start training model....\n",
      "Model training complete!\n",
      "Predicting a sample flower....\n",
      "Cluster: 2\n",
      "Distances: 54,509613 31,393993 38,95703\n"
     ]
    }
   ],
   "source": [
    "static readonly string _dataPath = Path.Combine(Environment.CurrentDirectory, \"Datasets\\\\Iris_Data\", \"iris-data.txt\");\n",
    "static readonly string _modelPath = Path.Combine(Environment.CurrentDirectory, \"Datasets\\\\Iris_Data\", \"IrisClusteringModel.zip\");\n",
    "\n",
    "var mlContext = new MLContext(seed: 0);\n",
    "        \n",
    "// read the iris flower data from a text file\n",
    "var trainingData = mlContext.Data.LoadFromTextFile<IrisData>(\n",
    "    path: _dataPath, \n",
    "    hasHeader: false, \n",
    "    separatorChar: ',');\n",
    "\n",
    "// set up a learning pipeline\n",
    "// step 1: concatenate input features into a single column\n",
    "var pipeline = mlContext.Transforms.Concatenate(\n",
    "    \"Features\", \n",
    "    \"SepalLength\", \n",
    "    \"SepalWidth\", \n",
    "    \"PetalLength\", \n",
    "    \"PetalWidth\")\n",
    "\n",
    "    // step 2: use the k-means clustering algorithm\n",
    "    // assume there are 3 flower types\n",
    "    .Append(mlContext.Clustering.Trainers.KMeans(\n",
    "        \"Features\",\n",
    "        numberOfClusters: 3));\n",
    "\n",
    "// train the model on the data file\n",
    "Console.WriteLine(\"Start training model....\");\n",
    "var model = pipeline.Fit(trainingData);\n",
    "Console.WriteLine(\"Model training complete!\");\n",
    "\n",
    "//Save Model\n",
    "using (var fileStream = new FileStream(_modelPath, FileMode.Create, FileAccess.Write, FileShare.Write))\n",
    "{\n",
    "    mlContext.Model.Save(model, trainingData.Schema, fileStream);\n",
    "}\n",
    "\n",
    "// predict a single flower based on input data\n",
    "Console.WriteLine(\"Predicting a sample flower....\");\n",
    "var prediction = mlContext.Model.CreatePredictionEngine<IrisData, ClusterPrediction>(model).Predict(\n",
    "    new IrisData()\n",
    "    {\n",
    "        SepalLength = 3.3f,\n",
    "        SepalWidth = 1.6f,\n",
    "        PetalLength = 0.2f,\n",
    "        PetalWidth = 5.1f,\n",
    "    });\n",
    "\n",
    "Console.WriteLine($\"Cluster: {prediction.PredictedClusterId}\");\n",
    "Console.WriteLine($\"Distances: {string.Join(\" \", prediction.Distances)}\");"
   ]
  }
 ],
 "metadata": {
  "kernelspec": {
   "display_name": ".NET (C#)",
   "language": "C#",
   "name": ".net-csharp"
  },
  "language_info": {
   "file_extension": ".cs",
   "mimetype": "text/x-csharp",
   "name": "C#",
   "pygments_lexer": "csharp",
   "version": "8.0"
  }
 },
 "nbformat": 4,
 "nbformat_minor": 4
}
