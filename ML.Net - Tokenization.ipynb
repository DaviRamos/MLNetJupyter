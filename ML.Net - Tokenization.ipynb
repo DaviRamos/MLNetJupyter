{
 "cells": [
  {
   "cell_type": "markdown",
   "metadata": {},
   "source": [
    "# ML.Net - Tokenization"
   ]
  },
  {
   "cell_type": "code",
   "execution_count": 6,
   "metadata": {},
   "outputs": [],
   "source": [
    "// ML.NET Nuget packages installation\n",
    "#r \"nuget:Microsoft.ML\" "
   ]
  },
  {
   "cell_type": "markdown",
   "metadata": {},
   "source": [
    "## Using C# Class"
   ]
  },
  {
   "cell_type": "code",
   "execution_count": 7,
   "metadata": {},
   "outputs": [],
   "source": [
    "using Microsoft.ML;\n",
    "using Microsoft.ML.Data;"
   ]
  },
  {
   "cell_type": "markdown",
   "metadata": {},
   "source": [
    "## Declare data-classes for input data and predictions"
   ]
  },
  {
   "cell_type": "code",
   "execution_count": 8,
   "metadata": {},
   "outputs": [],
   "source": [
    "public class SentimentData\n",
    "{\n",
    "    [LoadColumn(0)]\n",
    "    public bool Sentiment { get; set; }\n",
    "\n",
    "    [LoadColumn(1)]\n",
    "    public string Text { get; set; }\n",
    "}\n",
    "  \n",
    "public class SentimentTokens\n",
    "{\n",
    "    public string[] Tokens { get; set; }\n",
    "}"
   ]
  },
  {
   "cell_type": "markdown",
   "metadata": {},
   "source": [
    "## Função Auxiliar para Imprimir os Tokens"
   ]
  },
  {
   "cell_type": "code",
   "execution_count": 9,
   "metadata": {},
   "outputs": [],
   "source": [
    "private static void PrintTokens(SentimentTokens tokens)\n",
    "{\n",
    "    Console.WriteLine(Environment.NewLine);\n",
    "\n",
    "    var sb = new StringBuilder();\n",
    "\n",
    "    foreach (var token in tokens.Tokens)\n",
    "    {\n",
    "        sb.AppendLine(token);\n",
    "    }\n",
    "\n",
    "    Console.WriteLine(sb.ToString());\n",
    "}"
   ]
  },
  {
   "cell_type": "markdown",
   "metadata": {},
   "source": [
    "## Declare data-classes for input data and predictions"
   ]
  },
  {
   "cell_type": "code",
   "execution_count": 10,
   "metadata": {},
   "outputs": [
    {
     "name": "stdout",
     "output_type": "stream",
     "text": [
      "\n",
      "\n",
      "This\n",
      "is\n",
      "a\n",
      "test\n",
      "sentence\n",
      "and\n",
      "it\n",
      "is\n",
      "a\n",
      "long\n",
      "one\n",
      "\n",
      "\n",
      "\n",
      "T\n",
      "h\n",
      "i\n",
      "s\n",
      "<␠>\n",
      "i\n",
      "s\n",
      "<␠>\n",
      "a\n",
      "<␠>\n",
      "t\n",
      "e\n",
      "s\n",
      "t\n",
      "<␠>\n",
      "s\n",
      "e\n",
      "n\n",
      "t\n",
      "e\n",
      "n\n",
      "c\n",
      "e\n",
      ",\n",
      "<␠>\n",
      "a\n",
      "n\n",
      "d\n",
      "<␠>\n",
      "i\n",
      "t\n",
      "<␠>\n",
      "i\n",
      "s\n",
      "<␠>\n",
      "a\n",
      "<␠>\n",
      "l\n",
      "o\n",
      "n\n",
      "g\n",
      "<␠>\n",
      "o\n",
      "n\n",
      "e\n",
      ".\n",
      "\n"
     ]
    }
   ],
   "source": [
    "var context = new MLContext();\n",
    "\n",
    "var emptyData = new List<SentimentData>();\n",
    "\n",
    "var data = context.Data.LoadFromEnumerable(emptyData);\n",
    "\n",
    "var tokenization = context.Transforms.Text.TokenizeIntoWords(\"Tokens\", \"Text\", separators: new[] { ' ', '.', ',' });\n",
    "\n",
    "var tokenModel = tokenization.Fit(data);\n",
    "\n",
    "var engine = context.Model.CreatePredictionEngine<SentimentData, SentimentTokens>(tokenModel);\n",
    "\n",
    "var tokens = engine.Predict(new SentimentData { Text = \"This is a test sentence, and it is a long one.\" });\n",
    "\n",
    "PrintTokens(tokens);\n",
    "\n",
    "var charTokenization = context.Transforms.Text.TokenizeIntoCharactersAsKeys(\"Tokens\", \"Text\", useMarkerCharacters: false)\n",
    "    .Append(context.Transforms.Conversion.MapKeyToValue(\"Tokens\"));\n",
    "\n",
    "var charTokenModel = charTokenization.Fit(data);\n",
    "\n",
    "var charEngine = context.Model.CreatePredictionEngine<SentimentData, SentimentTokens>(charTokenModel);\n",
    "\n",
    "var charTokens = charEngine.Predict(new SentimentData { Text = \"This is a test sentence, and it is a long one.\" });\n",
    "\n",
    "PrintTokens(charTokens);\n",
    "\n",
    "Console.ReadLine();"
   ]
  },
  {
   "cell_type": "code",
   "execution_count": null,
   "metadata": {},
   "outputs": [],
   "source": []
  }
 ],
 "metadata": {
  "kernelspec": {
   "display_name": ".NET (C#)",
   "language": "C#",
   "name": ".net-csharp"
  },
  "language_info": {
   "file_extension": ".cs",
   "mimetype": "text/x-csharp",
   "name": "C#",
   "pygments_lexer": "csharp",
   "version": "8.0"
  }
 },
 "nbformat": 4,
 "nbformat_minor": 4
}
