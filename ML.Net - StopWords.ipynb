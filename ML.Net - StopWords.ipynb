{
 "cells": [
  {
   "cell_type": "markdown",
   "metadata": {},
   "source": [
    "# ML.Net - StopWords"
   ]
  },
  {
   "cell_type": "code",
   "execution_count": 25,
   "metadata": {},
   "outputs": [],
   "source": [
    "// ML.NET Nuget packages installation\n",
    "//#r \"nuget:Microsoft.ML,1.3.1\" \n",
    "#r \"nuget:Microsoft.ML\" "
   ]
  },
  {
   "cell_type": "markdown",
   "metadata": {},
   "source": [
    "## Using C# Class"
   ]
  },
  {
   "cell_type": "code",
   "execution_count": 26,
   "metadata": {
    "scrolled": true
   },
   "outputs": [],
   "source": [
    "using Microsoft.ML;\n",
    "using Microsoft.ML.Data;\n",
    "using System;\n",
    "using System.Collections.Generic;\n",
    "using System.Text;"
   ]
  },
  {
   "cell_type": "markdown",
   "metadata": {},
   "source": [
    "## Declare data-classes for input data and predictions"
   ]
  },
  {
   "cell_type": "code",
   "execution_count": 27,
   "metadata": {},
   "outputs": [],
   "source": [
    "public class TextData\n",
    "{\n",
    "    public string Text { get; set; }\n",
    "}\n",
    "  \n",
    "public class TextTokens\n",
    "{\n",
    "    public string[] Tokens { get; set; }\n",
    "}"
   ]
  },
  {
   "cell_type": "markdown",
   "metadata": {},
   "source": [
    "## Função Auxiliar para Imprimir os Tokens"
   ]
  },
  {
   "cell_type": "code",
   "execution_count": 28,
   "metadata": {},
   "outputs": [],
   "source": [
    "private static void PrintTokens(TextTokens tokens)\n",
    "{\n",
    "    Console.WriteLine(Environment.NewLine);\n",
    "\n",
    "    var sb = new StringBuilder();\n",
    "\n",
    "    foreach (var token in tokens.Tokens)\n",
    "    {\n",
    "        sb.AppendLine(token);\n",
    "    }\n",
    "\n",
    "    Console.WriteLine(sb.ToString());\n",
    "}"
   ]
  },
  {
   "cell_type": "code",
   "execution_count": 29,
   "metadata": {},
   "outputs": [
    {
     "name": "stdout",
     "output_type": "stream",
     "text": [
      "\n",
      "\n",
      "test\n",
      "sentence\n",
      "long\n",
      "\n",
      "\n",
      "\n",
      "This\n",
      "is\n",
      "test\n",
      "sentence\n",
      "it\n",
      "is\n",
      "long\n",
      "one\n",
      "\n"
     ]
    }
   ],
   "source": [
    "var context = new MLContext();\n",
    "\n",
    "var emptyData = new List<TextData>();\n",
    "\n",
    "var data = context.Data.LoadFromEnumerable(emptyData);\n",
    "\n",
    "var tokenization = context.Transforms.Text.TokenizeIntoWords(\"Tokens\", \"Text\", separators: new[] { ' ', '.', ',' })\n",
    "    .Append(context.Transforms.Text.RemoveDefaultStopWords(\"Tokens\", \"Tokens\",\n",
    "        Microsoft.ML.Transforms.Text.StopWordsRemovingEstimator.Language.English));\n",
    "\n",
    "var stopWordsModel = tokenization.Fit(data);\n",
    "\n",
    "var engine = context.Model.CreatePredictionEngine<TextData, TextTokens>(stopWordsModel);\n",
    "\n",
    "var newText = engine.Predict(new TextData { Text = \"This is a test sentence, and it is a long one.\" });\n",
    "\n",
    "PrintTokens(newText);\n",
    "\n",
    "var customTokenization = context.Transforms.Text.TokenizeIntoWords(\"Tokens\", \"Text\", separators: new[] { ' ', '.', ',' })\n",
    "    .Append(context.Transforms.Text.RemoveStopWords(\"Tokens\", \"Tokens\", new[] { \"and\", \"a\" }));\n",
    "\n",
    "var customStopWordsModel = customTokenization.Fit(data);\n",
    "\n",
    "var customEngine = context.Model.CreatePredictionEngine<TextData, TextTokens>(customStopWordsModel);\n",
    "\n",
    "var newCustomText = customEngine.Predict(new TextData { Text = \"This is a test sentence, and it is a long one.\" });\n",
    "\n",
    "PrintTokens(newCustomText);\n",
    "\n",
    "Console.ReadLine();"
   ]
  },
  {
   "cell_type": "code",
   "execution_count": null,
   "metadata": {},
   "outputs": [],
   "source": []
  }
 ],
 "metadata": {
  "kernelspec": {
   "display_name": ".NET (C#)",
   "language": "C#",
   "name": ".net-csharp"
  },
  "language_info": {
   "file_extension": ".cs",
   "mimetype": "text/x-csharp",
   "name": "C#",
   "pygments_lexer": "csharp",
   "version": "8.0"
  }
 },
 "nbformat": 4,
 "nbformat_minor": 4
}
