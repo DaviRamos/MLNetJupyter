{
 "cells": [
  {
   "cell_type": "markdown",
   "metadata": {},
   "source": [
    "# Hands-On ML.NET-LogisticRegression"
   ]
  },
  {
   "cell_type": "code",
   "execution_count": 17,
   "metadata": {},
   "outputs": [],
   "source": [
    "// ML.NET Nuget packages installation\n",
    "#r \"nuget:Microsoft.ML\" \n",
    "#r \"nuget:Newtonsoft.Json\" "
   ]
  },
  {
   "cell_type": "markdown",
   "metadata": {},
   "source": [
    "## Using C# Class"
   ]
  },
  {
   "cell_type": "code",
   "execution_count": 18,
   "metadata": {
    "scrolled": true
   },
   "outputs": [],
   "source": [
    "using Microsoft.ML;\n",
    "using Microsoft.ML.Data;\n",
    "using System;\n",
    "using System.IO;\n",
    "using System.Linq;\n",
    "using System.Text;\n",
    "using System.Text.RegularExpressions;\n",
    "using Newtonsoft.Json;"
   ]
  },
  {
   "cell_type": "markdown",
   "metadata": {},
   "source": [
    "## ExtensionMethods"
   ]
  },
  {
   "cell_type": "code",
   "execution_count": 19,
   "metadata": {},
   "outputs": [],
   "source": [
    "public static string[] ToPropertyList<T>(this Type objType, string labelName) => objType.GetProperties().Where(a => a.Name != labelName).Select(a => a.Name).ToArray();"
   ]
  },
  {
   "cell_type": "markdown",
   "metadata": {},
   "source": [
    "## Declare data-classes for input data and predictions"
   ]
  },
  {
   "cell_type": "code",
   "execution_count": 20,
   "metadata": {},
   "outputs": [],
   "source": [
    "public class EmploymentHistory\n",
    "{\n",
    "    [LoadColumn(0)]\n",
    "    public float DurationInMonths { get; set; }\n",
    "\n",
    "    [LoadColumn(1)]\n",
    "    public float IsMarried { get; set; }\n",
    "\n",
    "    [LoadColumn(2)]\n",
    "    public float BSDegree { get; set; }\n",
    "\n",
    "    [LoadColumn(3)]\n",
    "    public float MSDegree { get; set; }\n",
    "\n",
    "    [LoadColumn(4)]\n",
    "    public float YearsExperience { get; set; }\n",
    "\n",
    "    [LoadColumn(5)]\n",
    "    public float AgeAtHire { get; set; }\n",
    "\n",
    "    [LoadColumn(6)]\n",
    "    public float HasKids { get; set; }\n",
    "\n",
    "    [LoadColumn(7)]\n",
    "    public float WithinMonthOfVesting { get; set; }\n",
    "\n",
    "    [LoadColumn(8)]\n",
    "    public float DeskDecorations { get; set; }\n",
    "\n",
    "    [LoadColumn(9)]\n",
    "    public float LongCommute { get; set; }\n",
    "}\n",
    "\n",
    "public class EmploymentHistoryPrediction\n",
    "{\n",
    "    [ColumnName(\"Score\")]\n",
    "    public float DurationInMonths;\n",
    "}"
   ]
  },
  {
   "cell_type": "code",
   "execution_count": 21,
   "metadata": {},
   "outputs": [],
   "source": [
    "public const string MODEL_FILENAME = \"chapter3.mdl\";\n",
    "\n",
    "static readonly string inputDataFile = Path.Combine(Environment.CurrentDirectory, \"./Datasets/LinearRegression/input.json\");\n",
    "\n",
    "static readonly string trainingFileName = Path.Combine(Environment.CurrentDirectory, \"./Datasets/LinearRegression/sampledata.csv\");\n",
    "\n",
    "protected static string ModelPath => Path.Combine(AppContext.BaseDirectory, MODEL_FILENAME);\n",
    "\n",
    "MLContext MlContext = new MLContext(2020);"
   ]
  },
  {
   "cell_type": "markdown",
   "metadata": {},
   "source": [
    "## Treino"
   ]
  },
  {
   "cell_type": "code",
   "execution_count": 22,
   "metadata": {},
   "outputs": [
    {
     "name": "stdout",
     "output_type": "stream",
     "text": [
      "Loss Function: 480,68\n",
      "Mean Absolute Error: 19,26\n",
      "Mean Squared Error: 480,68\n",
      "RSquared: -0,31\n",
      "Root Mean Squared Error: 21,92\n"
     ]
    }
   ],
   "source": [
    "var trainingDataView = MlContext.Data.LoadFromTextFile<EmploymentHistory>(trainingFileName, ',');\n",
    "\n",
    "var dataSplit = MlContext.Data.TrainTestSplit(trainingDataView, testFraction: 0.4);\n",
    "\n",
    "var dataProcessPipeline = MlContext.Transforms.CopyColumns(\"Label\", nameof(EmploymentHistory.DurationInMonths))\n",
    "    .Append(MlContext.Transforms.NormalizeMeanVariance(nameof(EmploymentHistory.IsMarried)))\n",
    "    .Append(MlContext.Transforms.NormalizeMeanVariance(nameof(EmploymentHistory.BSDegree)))\n",
    "    .Append(MlContext.Transforms.NormalizeMeanVariance(nameof(EmploymentHistory.MSDegree)))\n",
    "    .Append(MlContext.Transforms.NormalizeMeanVariance(nameof(EmploymentHistory.YearsExperience))\n",
    "    .Append(MlContext.Transforms.NormalizeMeanVariance(nameof(EmploymentHistory.AgeAtHire)))\n",
    "    .Append(MlContext.Transforms.NormalizeMeanVariance(nameof(EmploymentHistory.HasKids)))\n",
    "    .Append(MlContext.Transforms.NormalizeMeanVariance(nameof(EmploymentHistory.WithinMonthOfVesting)))\n",
    "    .Append(MlContext.Transforms.NormalizeMeanVariance(nameof(EmploymentHistory.DeskDecorations)))\n",
    "    .Append(MlContext.Transforms.NormalizeMeanVariance(nameof(EmploymentHistory.LongCommute)))\n",
    "    .Append(MlContext.Transforms.Concatenate(\"Features\",\n",
    "        typeof(EmploymentHistory).ToPropertyList<EmploymentHistory>(nameof(EmploymentHistory.DurationInMonths)))));\n",
    "\n",
    "var trainer = MlContext.Regression.Trainers.Sdca(labelColumnName: \"Label\", featureColumnName: \"Features\");\n",
    "\n",
    "var trainingPipeline = dataProcessPipeline.Append(trainer);\n",
    "\n",
    "ITransformer trainedModel = trainingPipeline.Fit(dataSplit.TrainSet);\n",
    "\n",
    "MlContext.Model.Save(trainedModel, dataSplit.TrainSet.Schema, ModelPath);\n",
    "\n",
    "var testSetTransform = trainedModel.Transform(dataSplit.TestSet);\n",
    "\n",
    "var modelMetrics = MlContext.Regression.Evaluate(testSetTransform);\n",
    "\n",
    "Console.WriteLine($\"Loss Function: {modelMetrics.LossFunction:0.##}{Environment.NewLine}\" +\n",
    "                  $\"Mean Absolute Error: {modelMetrics.MeanAbsoluteError:#.##}{Environment.NewLine}\" +\n",
    "                  $\"Mean Squared Error: {modelMetrics.MeanSquaredError:#.##}{Environment.NewLine}\" +\n",
    "                  $\"RSquared: {modelMetrics.RSquared:0.##}{Environment.NewLine}\" +\n",
    "                  $\"Root Mean Squared Error: {modelMetrics.RootMeanSquaredError:#.##}\");"
   ]
  },
  {
   "cell_type": "code",
   "execution_count": 23,
   "metadata": {},
   "outputs": [],
   "source": [
    "DataViewSchema modelSchema;\n",
    "\n",
    "ITransformer mlModel = MlContext.Model.Load(ModelPath, out modelSchema);\n",
    "\n",
    "var predictionEngine = MlContext.Model.CreatePredictionEngine<EmploymentHistory, EmploymentHistoryPrediction>(mlModel);\n",
    "\n",
    "var json = File.ReadAllText(inputDataFile);\n",
    "\n",
    "var prediction = predictionEngine.Predict(JsonConvert.DeserializeObject<EmploymentHistory>(json));\n",
    "\n"
   ]
  },
  {
   "cell_type": "code",
   "execution_count": 24,
   "metadata": {},
   "outputs": [
    {
     "name": "stdout",
     "output_type": "stream",
     "text": [
      "Based on input json:\n",
      "{\n",
      "\t\"durationInMonths\":0.0,\n",
      "\t\"isMarried\":0,\n",
      "\t\"bSDegree\":1,\n",
      "\t\"mSDegree\":0,\n",
      "\t\"yearsExperience\":2,\n",
      "\t\"ageAtHire\":29,\n",
      "\t\"hasKids\":0,\n",
      "\t\"withinMonthOfVesting\":0,\n",
      "\t\"deskDecorations\":1,\n",
      "\t\"longCommute\":1\t\n",
      "}\n",
      "The employee is predicted to work 39,36 months\n"
     ]
    }
   ],
   "source": [
    "Console.WriteLine(\n",
    "    $\"Based on input json:{System.Environment.NewLine}\" +\n",
    "    $\"{json}{System.Environment.NewLine}\" + \n",
    "    $\"The employee is predicted to work {prediction.DurationInMonths:#.##} months\");"
   ]
  },
  {
   "cell_type": "code",
   "execution_count": null,
   "metadata": {},
   "outputs": [],
   "source": []
  }
 ],
 "metadata": {
  "kernelspec": {
   "display_name": ".NET (C#)",
   "language": "C#",
   "name": ".net-csharp"
  },
  "language_info": {
   "file_extension": ".cs",
   "mimetype": "text/x-csharp",
   "name": "C#",
   "pygments_lexer": "csharp",
   "version": "8.0"
  }
 },
 "nbformat": 4,
 "nbformat_minor": 4
}
