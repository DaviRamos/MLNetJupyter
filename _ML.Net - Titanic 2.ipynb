{
 "cells": [
  {
   "cell_type": "markdown",
   "metadata": {},
   "source": [
    "# ML.Net - Titanic"
   ]
  },
  {
   "cell_type": "code",
   "execution_count": 2,
   "metadata": {},
   "outputs": [
    {
     "data": {
      "text/plain": [
       "Installed package Microsoft.ML version 1.5.0"
      ]
     },
     "metadata": {},
     "output_type": "display_data"
    }
   ],
   "source": [
    "// ML.NET Nuget packages installation\n",
    "#r \"nuget:Microsoft.ML\""
   ]
  },
  {
   "cell_type": "code",
   "execution_count": 8,
   "metadata": {},
   "outputs": [],
   "source": [
    "using Microsoft.ML;\n",
    "using Microsoft.ML.Data;\n",
    "using Microsoft.ML.Transforms;\n",
    "using System;\n",
    "using System.Linq;"
   ]
  },
  {
   "cell_type": "code",
   "execution_count": 12,
   "metadata": {},
   "outputs": [
    {
     "ename": "Unhandled exception",
     "evalue": "(42,17): error CS1503: Argumento 1: não é possível converter de \"string\" para \"int\"",
     "output_type": "error",
     "traceback": [
      "(42,17): error CS1503: Argumento 1: não é possível converter de \"string\" para \"int\""
     ]
    }
   ],
   "source": [
    "public class TitanicData\n",
    "{\n",
    "    [LoadColumn(0)]\n",
    "    public float PassengerId;\n",
    "\n",
    "    [LoadColumn(1)]\n",
    "    public bool HasSurvived;\n",
    "\n",
    "    [LoadColumn(2)]\n",
    "    public float Pclass;\n",
    "\n",
    "    [LoadColumn(3)]\n",
    "    public string Name;\n",
    "\n",
    "    [LoadColumn(4)]\n",
    "    public string Sex;\n",
    "\n",
    "    [LoadColumn(5)]\n",
    "    public float Age;\n",
    "\n",
    "    [LoadColumn(6)]\n",
    "    public float SibSp;\n",
    "\n",
    "    [LoadColumn(7)]\n",
    "    public float Parch;\n",
    "\n",
    "    [LoadColumn(8)]\n",
    "    public string Ticket;\n",
    "\n",
    "    [LoadColumn(9)]\n",
    "    public float Fare;\n",
    "\n",
    "    [LoadColumn(10)]\n",
    "    public string Cabin;\n",
    "\n",
    "    [LoadColumn(11)]\n",
    "    public string Embarked;\n",
    "}\n",
    "\n",
    "public class TitanicPrediction\n",
    "{\n",
    "    [LoadColumn(\"PredictedLabel\")]\n",
    "    public bool Prediction;\n",
    "\n",
    "    public float Score;\n",
    "}"
   ]
  },
  {
   "cell_type": "code",
   "execution_count": 6,
   "metadata": {},
   "outputs": [
    {
     "name": "stdout",
     "output_type": "stream",
     "text": [
      "Starting to train model\n",
      "Reading data...\n",
      "Transforming data...\n",
      "Training data...\n",
      "************************************************************\n",
      "*       Metrics for Microsoft.ML.Data.EstimatorChain`1[Microsoft.ML.Data.BinaryPredictionTransformer`1[Microsoft.ML.Calibrators.CalibratedModelParametersBase`2[Microsoft.ML.Trainers.LinearBinaryModelParameters,Microsoft.ML.Calibrators.PlattCalibrator]]] binary classification model      \n",
      "*-----------------------------------------------------------\n",
      "*       Accuracy: 85,39%\n",
      "*       F1Score:  77,19%\n",
      "*       LogLoss:  ,52\n",
      "*       LogLossReduction:  ,44\n",
      "*       PositivePrecision:  ,81\n",
      "*       PositiveRecall:  ,73\n",
      "*       NegativePrecision:  ,87\n",
      "*       NegativeRecall:  91,53%\n",
      "************************************************************\n"
     ]
    }
   ],
   "source": [
    "var context = new MLContext();\n",
    "\n",
    "var textLoader = context.Data.TextReader(new TextLoader.Arguments()\n",
    "{\n",
    "    Separator = \",\",\n",
    "    HasHeader = true,\n",
    "    Column = new[]\n",
    "    {\n",
    "        new TextLoader.Column(\"PassengerId\", DataKind.R4, 0),\n",
    "        new TextLoader.Column(\"Label\", DataKind.Bool, 1),\n",
    "        new TextLoader.Column(\"Pclass\", DataKind.R4, 2),\n",
    "        new TextLoader.Column(\"Name\", DataKind.Text, 3),\n",
    "        new TextLoader.Column(\"Sex\", DataKind.Text, 4),\n",
    "        new TextLoader.Column(\"Age\", DataKind.R4, 5),\n",
    "        new TextLoader.Column(\"SibSp\", DataKind.R4, 6),\n",
    "        new TextLoader.Column(\"Parch\", DataKind.R4, 7),\n",
    "        new TextLoader.Column(\"Ticket\", DataKind.Text, 8),\n",
    "        new TextLoader.Column(\"Fare\", DataKind.R4, 9),\n",
    "        new TextLoader.Column(\"Cabin\", DataKind.Text, 10),\n",
    "        new TextLoader.Column(\"Embarked\", DataKind.Text, 11)\n",
    "    }\n",
    "});\n",
    "\n",
    "IDataView data = textLoader.Read(\".Datasets/Titanic_Data/titanic.csv\");\n",
    "\n",
    "var (trainData, testData) = context.BinaryClassification.TrainTestSplit(data, testFraction: 0.2);\n",
    "\n",
    "var pipeline = context.Transforms.Concatenate(\"Text\", \"Name\", \"Sex\", \"Embarked\")\n",
    "    .Append(context.Transforms.Text.FeaturizeText(\"Text\", \"TextFeatures\"))\n",
    "    .Append(context.Transforms.Concatenate(\"Features\", \"TextFeatures\", \"Pclass\", \"Age\", \"Fare\", \"SibSp\", \"Parch\"))\n",
    "    .Append(context.BinaryClassification.Trainers.LogisticRegression(\"Label\", \"Features\"));\n",
    "\n",
    "Console.WriteLine(\"Cross validating...\");\n",
    "\n",
    "var crossValidateResults = context.BinaryClassification.CrossValidate(testData, pipeline);\n",
    "\n",
    "var averageAuc = crossValidateResults.Average(i => i.metrics.Auc);\n",
    "\n",
    "Console.WriteLine($\"Average AUC - {averageAuc}\");\n",
    "\n",
    "var model = pipeline.Fit(trainData);\n",
    "\n",
    "var predictionFunction = model.MakePredictionFunction<TitanicData, TitanicPrediction>(context);\n",
    "\n",
    "var prediction = predictionFunction.Predict(new TitanicData { Sex = \"F\" });\n",
    "\n",
    "Console.WriteLine($\"Prediction - {prediction.Prediction}\");\n",
    "\n",
    "Console.ReadLine();"
   ]
  }
 ],
 "metadata": {
  "kernelspec": {
   "display_name": ".NET (C#)",
   "language": "C#",
   "name": ".net-csharp"
  },
  "language_info": {
   "file_extension": ".cs",
   "mimetype": "text/x-csharp",
   "name": "C#",
   "pygments_lexer": "csharp",
   "version": "8.0"
  }
 },
 "nbformat": 4,
 "nbformat_minor": 4
}
