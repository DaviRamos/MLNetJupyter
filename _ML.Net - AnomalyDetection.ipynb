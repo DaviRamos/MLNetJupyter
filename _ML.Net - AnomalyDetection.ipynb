{
 "cells": [
  {
   "cell_type": "markdown",
   "metadata": {},
   "source": [
    "# ML.Net - AnomalyDetection"
   ]
  },
  {
   "cell_type": "code",
   "execution_count": 1,
   "metadata": {},
   "outputs": [
    {
     "data": {
      "text/html": [
       "\r\n",
       "<div>\r\n",
       "    <div id='dotnet-interactive-this-cell-c95075d82e544580ba4562c1c3f863b5' style='display: none'>\r\n",
       "        The below script needs to be able to find the current output cell; this is an easy method to get it.\r\n",
       "    </div>\r\n",
       "    <script type='text/javascript'>\r\n",
       "// ensure `requirejs` is available globally\r\n",
       "if (typeof requirejs !== typeof Function || typeof requirejs.config !== typeof Function) {\r\n",
       "    let requirejs_script = document.createElement('script');\r\n",
       "    requirejs_script.setAttribute('src', 'https://cdnjs.cloudflare.com/ajax/libs/require.js/2.3.6/require.min.js');\r\n",
       "    requirejs_script.setAttribute('type', 'text/javascript');\r\n",
       "    requirejs_script.onload = function () {\r\n",
       "        loadDotnetInteractiveApi();\r\n",
       "    };\r\n",
       "\r\n",
       "    document.getElementsByTagName('head')[0].appendChild(requirejs_script);\r\n",
       "}\r\n",
       "else {\r\n",
       "    loadDotnetInteractiveApi();\r\n",
       "}\r\n",
       "\r\n",
       "async function probeAddresses(probingAddresses) {\r\n",
       "    function timeout(ms, promise) {\r\n",
       "        return new Promise(function (resolve, reject) {\r\n",
       "            setTimeout(function () {\r\n",
       "                reject(new Error('timeout'))\r\n",
       "            }, ms)\r\n",
       "            promise.then(resolve, reject)\r\n",
       "        })\r\n",
       "    }\r\n",
       "\r\n",
       "    if (Array.isArray(probingAddresses)) {\r\n",
       "        for (let i = 0; i < probingAddresses.length; i++) {\r\n",
       "\r\n",
       "            let rootUrl = probingAddresses[i];\r\n",
       "\r\n",
       "            if (!rootUrl.endsWith('/')) {\r\n",
       "                rootUrl = `${rootUrl}/`;\r\n",
       "            }\r\n",
       "\r\n",
       "            try {\r\n",
       "                let response = await timeout(1000, fetch(`${rootUrl}discovery`, {\r\n",
       "                    method: 'POST',\r\n",
       "                    timeout: 1000,\r\n",
       "                    headers: {\r\n",
       "                        'Content-Type': 'text/plain'\r\n",
       "                    },\r\n",
       "                    body: probingAddresses[i]\r\n",
       "                }));\r\n",
       "\r\n",
       "                if (response.status == 200) {\r\n",
       "                    return rootUrl;\r\n",
       "                }\r\n",
       "            }\r\n",
       "            catch (e) { }\r\n",
       "        }\r\n",
       "    }\r\n",
       "}\r\n",
       "\r\n",
       "function loadDotnetInteractiveApi() {\r\n",
       "    probeAddresses([\"http://10.0.0.101:1017/\", \"http://172.27.16.1:1017/\", \"http://172.30.16.1:1017/\", \"http://127.0.0.1:1017/\"])\r\n",
       "        .then((root) => {\r\n",
       "            // use probing to find host url and api resources\r\n",
       "            // load interactive helpers and language services\r\n",
       "            let dotnet_require = requirejs.config({\r\n",
       "                context: '30120.c95075d82e544580ba4562c1c3f863b5',\r\n",
       "                paths: {\r\n",
       "                    'dotnet-interactive': `${root}resources`\r\n",
       "                }\r\n",
       "            });\r\n",
       "            if (!window.dotnet_require) {\r\n",
       "                window.dotnet_require = dotnet_require;\r\n",
       "            }\r\n",
       "        \r\n",
       "            dotnet_require([\r\n",
       "                    'dotnet-interactive/dotnet-interactive'\r\n",
       "                ],\r\n",
       "                function (dotnet) {\r\n",
       "                    dotnet.init(window);\r\n",
       "                },\r\n",
       "                function (error) {\r\n",
       "                    console.log(error);\r\n",
       "                }\r\n",
       "            );\r\n",
       "        })\r\n",
       "        .catch(error => {console.log(error);});\r\n",
       "    }\r\n",
       "    </script>\r\n",
       "</div>"
      ]
     },
     "metadata": {},
     "output_type": "display_data"
    },
    {
     "data": {
      "text/plain": [
       "Installed package Microsoft.ML version 1.5.0"
      ]
     },
     "metadata": {},
     "output_type": "display_data"
    }
   ],
   "source": [
    "// ML.NET Nuget packages installation\n",
    "#r \"nuget:Microsoft.ML\" "
   ]
  },
  {
   "cell_type": "markdown",
   "metadata": {},
   "source": [
    "## Using C# Class"
   ]
  },
  {
   "cell_type": "code",
   "execution_count": 2,
   "metadata": {},
   "outputs": [],
   "source": [
    "using System;\n",
    "using Microsoft.ML;\n",
    "using Microsoft.ML.Data;\n",
    "using System.Linq;"
   ]
  },
  {
   "cell_type": "markdown",
   "metadata": {},
   "source": [
    "## Declare data-classes for input data and predictions"
   ]
  },
  {
   "cell_type": "code",
   "execution_count": 3,
   "metadata": {},
   "outputs": [],
   "source": [
    "public class EnergyData\n",
    "{\n",
    "    [LoadColumn(0)]\n",
    "    public DateTime Date { get; set; }\n",
    "\n",
    "    [LoadColumn(1)]\n",
    "    public float Energy { get; set; }\n",
    "}\n",
    "\n",
    "public class EnergyPrediction\n",
    "{\n",
    "    [VectorType(2)]\n",
    "    public double[] Prediction { get; set; }\n",
    "}\n",
    "\n",
    "public class AnomalyResult\n",
    "{\n",
    "    public bool PredictedLabel { get; set; }\n",
    "    public float Score { get; set; }\n",
    "}"
   ]
  },
  {
   "cell_type": "markdown",
   "metadata": {},
   "source": [
    "## Evaluate"
   ]
  },
  {
   "cell_type": "code",
   "execution_count": 4,
   "metadata": {},
   "outputs": [
    {
     "ename": "Unhandled exception",
     "evalue": "(7,35): error CS1061: ‘TransformsCatalog’ não contém uma definição para \"DetectSpikeBySsa\" e não foi possível encontrar nenhum método de extensão \"DetectSpikeBySsa\" que aceite um primeiro argumento do tipo ‘TransformsCatalog’ (você está se esquecendo de usar uma diretiva ou uma referência de assembly?)",
     "output_type": "error",
     "traceback": [
      "(7,35): error CS1061: ‘TransformsCatalog’ não contém uma definição para \"DetectSpikeBySsa\" e não foi possível encontrar nenhum método de extensão \"DetectSpikeBySsa\" que aceite um primeiro argumento do tipo ‘TransformsCatalog’ (você está se esquecendo de usar uma diretiva ou uma referência de assembly?)"
     ]
    }
   ],
   "source": [
    "var context = new MLContext();\n",
    "\n",
    "var data = context.Data.LoadFromTextFile<EnergyData>(\"./datasets/energy/energy_hourly.csv\", \n",
    "    hasHeader: true, \n",
    "    separatorChar: ',');\n",
    "\n",
    "var pipeline = context.Transforms.DetectSpikeBySsa(nameof(EnergyPrediction.Prediction), nameof(EnergyData.Energy),\n",
    "    confidence: 98, trainingWindowSize: 90, seasonalityWindowSize: 30, pvalueHistoryLength: 30);\n",
    "\n",
    "var transformedData = pipeline.Fit(data).Transform(data);\n",
    "\n",
    "var predictions = context.Data.CreateEnumerable<EnergyPrediction>(transformedData, reuseRowObject: false).ToList();\n",
    "\n",
    "var energy = data.GetColumn<float>(\"Energy\").ToArray();\n",
    "var date = data.GetColumn<DateTime>(\"Date\").ToArray();\n",
    "\n",
    "Console.WriteLine(\"Anomalies:\");\n",
    "for (int i = 0; i < predictions.Count(); i++)\n",
    "{\n",
    "    if (predictions[i].Prediction[0] == 1)\n",
    "    {\n",
    "        Console.WriteLine(\"{0}\\t{1:0.0000}\\t{2:0.00}\\t{3:0.00}\\t{4:0.00}\",\n",
    "            date[i], energy[i], predictions[i].Prediction[0], predictions[i].Prediction[1], predictions[i].Prediction[2]);\n",
    "    }\n",
    "}\n",
    "\n",
    "Console.ReadLine();"
   ]
  },
  {
   "cell_type": "code",
   "execution_count": null,
   "metadata": {},
   "outputs": [],
   "source": []
  }
 ],
 "metadata": {
  "kernelspec": {
   "display_name": ".NET (C#)",
   "language": "C#",
   "name": ".net-csharp"
  },
  "language_info": {
   "file_extension": ".cs",
   "mimetype": "text/x-csharp",
   "name": "C#",
   "pygments_lexer": "csharp",
   "version": "8.0"
  }
 },
 "nbformat": 4,
 "nbformat_minor": 4
}
