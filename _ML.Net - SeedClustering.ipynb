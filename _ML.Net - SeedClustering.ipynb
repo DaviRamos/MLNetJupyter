{
 "cells": [
  {
   "cell_type": "markdown",
   "metadata": {},
   "source": [
    "# ML.Net - SeedClustering"
   ]
  },
  {
   "cell_type": "code",
   "execution_count": 5,
   "metadata": {},
   "outputs": [],
   "source": [
    "// ML.NET Nuget packages installation\n",
    "#r \"nuget:Microsoft.ML\" "
   ]
  },
  {
   "cell_type": "markdown",
   "metadata": {},
   "source": [
    "## Using C# Class"
   ]
  },
  {
   "cell_type": "code",
   "execution_count": 10,
   "metadata": {},
   "outputs": [],
   "source": [
    "using System;\n",
    "using Microsoft.ML;\n",
    "using Microsoft.ML.Data;\n",
    "using static Microsoft.ML.DataOperationsCatalog;"
   ]
  },
  {
   "cell_type": "markdown",
   "metadata": {},
   "source": [
    "## Declare data-classes for input data and predictions"
   ]
  },
  {
   "cell_type": "code",
   "execution_count": 7,
   "metadata": {},
   "outputs": [],
   "source": [
    "public class SeedData\n",
    "{\n",
    "    public float A;\n",
    "    public float P;\n",
    "    public float C;\n",
    "    public float LK;\n",
    "    public float WK;\n",
    "    public float A_Coef;\n",
    "    public float LKG;\n",
    "    public float Label;\n",
    "}\n",
    "\n",
    "public class SeedPrediction\n",
    "{\n",
    "    [ColumnName(\"PredictedLabel\")]\n",
    "    public uint SelectedClusterId;\n",
    "    [ColumnName(\"Score\")]\n",
    "    public float[] Distance;\n",
    "}"
   ]
  },
  {
   "cell_type": "markdown",
   "metadata": {},
   "source": [
    "## Evaluate"
   ]
  },
  {
   "cell_type": "code",
   "execution_count": 12,
   "metadata": {},
   "outputs": [
    {
     "ename": "Unhandled exception",
     "evalue": "(7,31): error CS0120: Uma referência de objeto é necessária para o campo, o método ou a propriedade \"MLContext.Data\" não estática",
     "output_type": "error",
     "traceback": [
      "(7,31): error CS0120: Uma referência de objeto é necessária para o campo, o método ou a propriedade \"MLContext.Data\" não estática"
     ]
    }
   ],
   "source": [
    "var dataLocation = \"./datasets/Seed_data/Seed_Data.csv\";\n",
    "\n",
    "var context = new MLContext();\n",
    "\n",
    "var textLoader = context.Data.CreateTextLoader(new[]\n",
    "{\n",
    "    new TextLoader.Column(\"A\", DataKind.Single, 0),\n",
    "    new TextLoader.Column(\"P\", DataKind.Single, 1),\n",
    "    new TextLoader.Column(\"C\", DataKind.Single, 2),\n",
    "    new TextLoader.Column(\"LK\", DataKind.Single, 3),\n",
    "    new TextLoader.Column(\"WK\", DataKind.Single, 4),\n",
    "    new TextLoader.Column(\"A_Coef\", DataKind.Single, 5),\n",
    "    new TextLoader.Column(\"LKG\", DataKind.Single, 6),\n",
    "    new TextLoader.Column(\"Label\", DataKind.Single, 7)\n",
    "},\n",
    "hasHeader: true,\n",
    "separatorChar: ',');\n",
    "\n",
    "\n",
    "var data = context.Data.LoadFromTextFile<SeedData>(\"./datasets/Seed_data/Seed_Data.csv\", hasHeader: true, separatorChar: ',', allowQuoting: true);\n",
    "\n",
    "\n",
    "IDataView data = textLoader.Load(dataLocation);\n",
    "\n",
    "var trainTestData = context.Clustering.TrainTestSplit(data, testFraction: 0.2);\n",
    "\n",
    "var pipeline = context.Transforms.Concatenate(\"Features\", \"A\", \"P\", \"C\", \"LK\", \"WK\", \"A_Coef\", \"LKG\")\n",
    "    .Append(context.Clustering.Trainers.KMeans(featureColumnName: \"Features\", clustersCount: 3));\n",
    "\n",
    "var preview = trainTestData.TrainSet.Preview();\n",
    "\n",
    "var model = pipeline.Fit(trainTestData.TrainSet);\n",
    "\n",
    "var predictions = model.Transform(trainTestData.TestSet);\n",
    "\n",
    "var metrics = context.Clustering.Evaluate(predictions, score: \"Score\", features: \"Features\");\n",
    "\n",
    "Console.WriteLine($\"Average minimum score: {metrics.AvgMinScore}\");\n",
    "\n",
    "var predictionFunc = model.CreatePredictionEngine<SeedData, SeedPrediction>(context);\n",
    "\n",
    "var prediction = predictionFunc.Predict(new SeedData\n",
    "{\n",
    "    A = 13.89F,\n",
    "    P = 15.33F,\n",
    "    C = 0.862F,\n",
    "    LK = 5.42F,\n",
    "    WK = 3.311F,\n",
    "    A_Coef = 2.8F,\n",
    "    LKG = 5\n",
    "});\n",
    "\n",
    "Console.WriteLine($\"Prediction - {prediction.SelectedClusterId}\");\n",
    "Console.ReadLine();"
   ]
  },
  {
   "cell_type": "code",
   "execution_count": null,
   "metadata": {},
   "outputs": [],
   "source": []
  },
  {
   "cell_type": "code",
   "execution_count": null,
   "metadata": {},
   "outputs": [],
   "source": []
  }
 ],
 "metadata": {
  "kernelspec": {
   "display_name": ".NET (C#)",
   "language": "C#",
   "name": ".net-csharp"
  },
  "language_info": {
   "file_extension": ".cs",
   "mimetype": "text/x-csharp",
   "name": "C#",
   "pygments_lexer": "csharp",
   "version": "8.0"
  }
 },
 "nbformat": 4,
 "nbformat_minor": 4
}
